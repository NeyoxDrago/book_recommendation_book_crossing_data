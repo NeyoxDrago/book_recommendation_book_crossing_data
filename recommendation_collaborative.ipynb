{
 "cells": [
  {
   "cell_type": "code",
   "execution_count": 1,
   "metadata": {
    "colab": {
     "base_uri": "https://localhost:8080/",
     "height": 202
    },
    "colab_type": "code",
    "executionInfo": {
     "elapsed": 10311,
     "status": "ok",
     "timestamp": 1581798025747,
     "user": {
      "displayName": "Prashant Arora",
      "photoUrl": "",
      "userId": "17509553824158463421"
     },
     "user_tz": -330
    },
    "id": "V3neyiHngEIo",
    "outputId": "834ca959-9d1e-4cf3-ea99-4851055f7de3"
   },
   "outputs": [
    {
     "name": "stdout",
     "output_type": "stream",
     "text": [
      "--2020-02-15 20:20:21--  http://www2.informatik.uni-freiburg.de/~cziegler/BX/BX-CSV-Dump.zip\n",
      "Resolving www2.informatik.uni-freiburg.de (www2.informatik.uni-freiburg.de)... 132.230.105.133\n",
      "Connecting to www2.informatik.uni-freiburg.de (www2.informatik.uni-freiburg.de)|132.230.105.133|:80... connected.\n",
      "HTTP request sent, awaiting response... 200 OK\n",
      "Length: 26085508 (25M) [application/zip]\n",
      "Saving to: ‘BX-CSV-Dump.zip’\n",
      "\n",
      "BX-CSV-Dump.zip     100%[===================>]  24.88M  15.8MB/s    in 1.6s    \n",
      "\n",
      "2020-02-15 20:20:23 (15.8 MB/s) - ‘BX-CSV-Dump.zip’ saved [26085508/26085508]\n",
      "\n"
     ]
    }
   ],
   "source": [
    "!wget http://www2.informatik.uni-freiburg.de/~cziegler/BX/BX-CSV-Dump.zip"
   ]
  },
  {
   "cell_type": "code",
   "execution_count": 2,
   "metadata": {
    "colab": {
     "base_uri": "https://localhost:8080/",
     "height": 84
    },
    "colab_type": "code",
    "executionInfo": {
     "elapsed": 16388,
     "status": "ok",
     "timestamp": 1581798031837,
     "user": {
      "displayName": "Prashant Arora",
      "photoUrl": "",
      "userId": "17509553824158463421"
     },
     "user_tz": -330
    },
    "id": "wHD5SDh6g8K9",
    "outputId": "82386c91-1efd-4f45-da81-972020227506"
   },
   "outputs": [
    {
     "name": "stdout",
     "output_type": "stream",
     "text": [
      "Archive:  BX-CSV-Dump.zip\n",
      "  inflating: BX-Book-Ratings.csv     \n",
      "  inflating: BX-Books.csv            \n",
      "  inflating: BX-Users.csv            \n"
     ]
    }
   ],
   "source": [
    "!unzip BX-CSV-Dump.zip"
   ]
  },
  {
   "cell_type": "code",
   "execution_count": 3,
   "metadata": {
    "colab": {
     "base_uri": "https://localhost:8080/",
     "height": 138
    },
    "colab_type": "code",
    "executionInfo": {
     "elapsed": 18045,
     "status": "ok",
     "timestamp": 1581798033504,
     "user": {
      "displayName": "Prashant Arora",
      "photoUrl": "",
      "userId": "17509553824158463421"
     },
     "user_tz": -330
    },
    "id": "7_TIv5ffhBXQ",
    "outputId": "f3c9b02f-78e8-4cb2-a2c0-963ea3f1ca40"
   },
   "outputs": [
    {
     "name": "stderr",
     "output_type": "stream",
     "text": [
      "b'Skipping line 6452: expected 8 fields, saw 9\\nSkipping line 43667: expected 8 fields, saw 10\\nSkipping line 51751: expected 8 fields, saw 9\\n'\n",
      "b'Skipping line 92038: expected 8 fields, saw 9\\nSkipping line 104319: expected 8 fields, saw 9\\nSkipping line 121768: expected 8 fields, saw 9\\n'\n",
      "b'Skipping line 144058: expected 8 fields, saw 9\\nSkipping line 150789: expected 8 fields, saw 9\\nSkipping line 157128: expected 8 fields, saw 9\\nSkipping line 180189: expected 8 fields, saw 9\\nSkipping line 185738: expected 8 fields, saw 9\\n'\n",
      "b'Skipping line 209388: expected 8 fields, saw 9\\nSkipping line 220626: expected 8 fields, saw 9\\nSkipping line 227933: expected 8 fields, saw 11\\nSkipping line 228957: expected 8 fields, saw 10\\nSkipping line 245933: expected 8 fields, saw 9\\nSkipping line 251296: expected 8 fields, saw 9\\nSkipping line 259941: expected 8 fields, saw 9\\nSkipping line 261529: expected 8 fields, saw 9\\n'\n",
      "/usr/local/lib/python3.6/dist-packages/IPython/core/interactiveshell.py:2718: DtypeWarning: Columns (3) have mixed types. Specify dtype option on import or set low_memory=False.\n",
      "  interactivity=interactivity, compiler=compiler, result=result)\n"
     ]
    }
   ],
   "source": [
    "import pandas as pd\n",
    "import numpy as np\n",
    "import matplotlib.pyplot as plt\n",
    "books = pd.read_csv('BX-Books.csv', sep=';', error_bad_lines=False, encoding=\"latin-1\")\n",
    "books.columns = ['ISBN', 'bookTitle', 'bookAuthor', 'yearOfPublication', 'publisher', 'imageUrlS', 'imageUrlM', 'imageUrlL']"
   ]
  },
  {
   "cell_type": "code",
   "execution_count": 0,
   "metadata": {
    "colab": {},
    "colab_type": "code",
    "id": "Ir3w0a_nhGIs"
   },
   "outputs": [],
   "source": [
    "users = pd.read_csv('BX-Users.csv', sep=';', error_bad_lines=False, encoding=\"latin-1\")\n",
    "users.columns = ['userID', 'Location', 'Age']"
   ]
  },
  {
   "cell_type": "code",
   "execution_count": 5,
   "metadata": {
    "colab": {
     "base_uri": "https://localhost:8080/",
     "height": 402
    },
    "colab_type": "code",
    "executionInfo": {
     "elapsed": 18028,
     "status": "ok",
     "timestamp": 1581798033505,
     "user": {
      "displayName": "Prashant Arora",
      "photoUrl": "",
      "userId": "17509553824158463421"
     },
     "user_tz": -330
    },
    "id": "g2BPzUfQ6Bhr",
    "outputId": "bf9f30cd-8f2b-4fcd-c3a2-e3c1a207b609"
   },
   "outputs": [
    {
     "data": {
      "text/html": [
       "<div>\n",
       "<style scoped>\n",
       "    .dataframe tbody tr th:only-of-type {\n",
       "        vertical-align: middle;\n",
       "    }\n",
       "\n",
       "    .dataframe tbody tr th {\n",
       "        vertical-align: top;\n",
       "    }\n",
       "\n",
       "    .dataframe thead th {\n",
       "        text-align: right;\n",
       "    }\n",
       "</style>\n",
       "<table border=\"1\" class=\"dataframe\">\n",
       "  <thead>\n",
       "    <tr style=\"text-align: right;\">\n",
       "      <th></th>\n",
       "      <th>userID</th>\n",
       "      <th>Location</th>\n",
       "      <th>Age</th>\n",
       "    </tr>\n",
       "  </thead>\n",
       "  <tbody>\n",
       "    <tr>\n",
       "      <th>0</th>\n",
       "      <td>1</td>\n",
       "      <td>nyc, new york, usa</td>\n",
       "      <td>NaN</td>\n",
       "    </tr>\n",
       "    <tr>\n",
       "      <th>1</th>\n",
       "      <td>2</td>\n",
       "      <td>stockton, california, usa</td>\n",
       "      <td>18.0</td>\n",
       "    </tr>\n",
       "    <tr>\n",
       "      <th>2</th>\n",
       "      <td>3</td>\n",
       "      <td>moscow, yukon territory, russia</td>\n",
       "      <td>NaN</td>\n",
       "    </tr>\n",
       "    <tr>\n",
       "      <th>3</th>\n",
       "      <td>4</td>\n",
       "      <td>porto, v.n.gaia, portugal</td>\n",
       "      <td>17.0</td>\n",
       "    </tr>\n",
       "    <tr>\n",
       "      <th>4</th>\n",
       "      <td>5</td>\n",
       "      <td>farnborough, hants, united kingdom</td>\n",
       "      <td>NaN</td>\n",
       "    </tr>\n",
       "    <tr>\n",
       "      <th>...</th>\n",
       "      <td>...</td>\n",
       "      <td>...</td>\n",
       "      <td>...</td>\n",
       "    </tr>\n",
       "    <tr>\n",
       "      <th>278853</th>\n",
       "      <td>278854</td>\n",
       "      <td>portland, oregon, usa</td>\n",
       "      <td>NaN</td>\n",
       "    </tr>\n",
       "    <tr>\n",
       "      <th>278854</th>\n",
       "      <td>278855</td>\n",
       "      <td>tacoma, washington, united kingdom</td>\n",
       "      <td>50.0</td>\n",
       "    </tr>\n",
       "    <tr>\n",
       "      <th>278855</th>\n",
       "      <td>278856</td>\n",
       "      <td>brampton, ontario, canada</td>\n",
       "      <td>NaN</td>\n",
       "    </tr>\n",
       "    <tr>\n",
       "      <th>278856</th>\n",
       "      <td>278857</td>\n",
       "      <td>knoxville, tennessee, usa</td>\n",
       "      <td>NaN</td>\n",
       "    </tr>\n",
       "    <tr>\n",
       "      <th>278857</th>\n",
       "      <td>278858</td>\n",
       "      <td>dublin, n/a, ireland</td>\n",
       "      <td>NaN</td>\n",
       "    </tr>\n",
       "  </tbody>\n",
       "</table>\n",
       "<p>278858 rows × 3 columns</p>\n",
       "</div>"
      ],
      "text/plain": [
       "        userID                            Location   Age\n",
       "0            1                  nyc, new york, usa   NaN\n",
       "1            2           stockton, california, usa  18.0\n",
       "2            3     moscow, yukon territory, russia   NaN\n",
       "3            4           porto, v.n.gaia, portugal  17.0\n",
       "4            5  farnborough, hants, united kingdom   NaN\n",
       "...        ...                                 ...   ...\n",
       "278853  278854               portland, oregon, usa   NaN\n",
       "278854  278855  tacoma, washington, united kingdom  50.0\n",
       "278855  278856           brampton, ontario, canada   NaN\n",
       "278856  278857           knoxville, tennessee, usa   NaN\n",
       "278857  278858                dublin, n/a, ireland   NaN\n",
       "\n",
       "[278858 rows x 3 columns]"
      ]
     },
     "execution_count": 5,
     "metadata": {
      "tags": []
     },
     "output_type": "execute_result"
    }
   ],
   "source": [
    "users"
   ]
  },
  {
   "cell_type": "code",
   "execution_count": 0,
   "metadata": {
    "colab": {},
    "colab_type": "code",
    "id": "7uWAUvfEhJYS"
   },
   "outputs": [],
   "source": [
    "ratings = pd.read_csv('BX-Book-Ratings.csv', sep=';', error_bad_lines=False, encoding=\"latin-1\")\n",
    "ratings.columns = ['userID', 'ISBN', 'bookRating']"
   ]
  },
  {
   "cell_type": "code",
   "execution_count": 0,
   "metadata": {
    "colab": {},
    "colab_type": "code",
    "id": "wTefSKZon-P1"
   },
   "outputs": [],
   "source": [
    "books_rated_by_users = ratings.merge(books,on=\"ISBN\")"
   ]
  },
  {
   "cell_type": "code",
   "execution_count": 8,
   "metadata": {
    "colab": {
     "base_uri": "https://localhost:8080/",
     "height": 758
    },
    "colab_type": "code",
    "executionInfo": {
     "elapsed": 20325,
     "status": "ok",
     "timestamp": 1581798035826,
     "user": {
      "displayName": "Prashant Arora",
      "photoUrl": "",
      "userId": "17509553824158463421"
     },
     "user_tz": -330
    },
    "id": "qw_wTCENoTnJ",
    "outputId": "ef09065a-fbcc-45b5-ec75-ce8eecc61d38"
   },
   "outputs": [
    {
     "data": {
      "text/html": [
       "<div>\n",
       "<style scoped>\n",
       "    .dataframe tbody tr th:only-of-type {\n",
       "        vertical-align: middle;\n",
       "    }\n",
       "\n",
       "    .dataframe tbody tr th {\n",
       "        vertical-align: top;\n",
       "    }\n",
       "\n",
       "    .dataframe thead th {\n",
       "        text-align: right;\n",
       "    }\n",
       "</style>\n",
       "<table border=\"1\" class=\"dataframe\">\n",
       "  <thead>\n",
       "    <tr style=\"text-align: right;\">\n",
       "      <th></th>\n",
       "      <th>userID</th>\n",
       "      <th>ISBN</th>\n",
       "      <th>bookRating</th>\n",
       "      <th>bookTitle</th>\n",
       "      <th>bookAuthor</th>\n",
       "      <th>yearOfPublication</th>\n",
       "      <th>publisher</th>\n",
       "      <th>imageUrlS</th>\n",
       "      <th>imageUrlM</th>\n",
       "      <th>imageUrlL</th>\n",
       "    </tr>\n",
       "  </thead>\n",
       "  <tbody>\n",
       "    <tr>\n",
       "      <th>503</th>\n",
       "      <td>243</td>\n",
       "      <td>0449006522</td>\n",
       "      <td>6</td>\n",
       "      <td>Manhattan Hunt Club</td>\n",
       "      <td>JOHN SAUL</td>\n",
       "      <td>2002</td>\n",
       "      <td>Ballantine Books</td>\n",
       "      <td>http://images.amazon.com/images/P/0449006522.0...</td>\n",
       "      <td>http://images.amazon.com/images/P/0449006522.0...</td>\n",
       "      <td>http://images.amazon.com/images/P/0449006522.0...</td>\n",
       "    </tr>\n",
       "    <tr>\n",
       "      <th>6582</th>\n",
       "      <td>243</td>\n",
       "      <td>0316666343</td>\n",
       "      <td>0</td>\n",
       "      <td>The Lovely Bones: A Novel</td>\n",
       "      <td>Alice Sebold</td>\n",
       "      <td>2002</td>\n",
       "      <td>Little, Brown</td>\n",
       "      <td>http://images.amazon.com/images/P/0316666343.0...</td>\n",
       "      <td>http://images.amazon.com/images/P/0316666343.0...</td>\n",
       "      <td>http://images.amazon.com/images/P/0316666343.0...</td>\n",
       "    </tr>\n",
       "    <tr>\n",
       "      <th>18558</th>\n",
       "      <td>243</td>\n",
       "      <td>0446605484</td>\n",
       "      <td>0</td>\n",
       "      <td>Roses Are Red (Alex Cross Novels)</td>\n",
       "      <td>James Patterson</td>\n",
       "      <td>2001</td>\n",
       "      <td>Warner Vision</td>\n",
       "      <td>http://images.amazon.com/images/P/0446605484.0...</td>\n",
       "      <td>http://images.amazon.com/images/P/0446605484.0...</td>\n",
       "      <td>http://images.amazon.com/images/P/0446605484.0...</td>\n",
       "    </tr>\n",
       "    <tr>\n",
       "      <th>24367</th>\n",
       "      <td>243</td>\n",
       "      <td>0679450408</td>\n",
       "      <td>0</td>\n",
       "      <td>Silent Witness</td>\n",
       "      <td>Richard North Patterson</td>\n",
       "      <td>1997</td>\n",
       "      <td>Random House Inc</td>\n",
       "      <td>http://images.amazon.com/images/P/0679450408.0...</td>\n",
       "      <td>http://images.amazon.com/images/P/0679450408.0...</td>\n",
       "      <td>http://images.amazon.com/images/P/0679450408.0...</td>\n",
       "    </tr>\n",
       "    <tr>\n",
       "      <th>24482</th>\n",
       "      <td>243</td>\n",
       "      <td>0743486226</td>\n",
       "      <td>0</td>\n",
       "      <td>Angels &amp;amp; Demons</td>\n",
       "      <td>Dan Brown</td>\n",
       "      <td>2003</td>\n",
       "      <td>Atria</td>\n",
       "      <td>http://images.amazon.com/images/P/0743486226.0...</td>\n",
       "      <td>http://images.amazon.com/images/P/0743486226.0...</td>\n",
       "      <td>http://images.amazon.com/images/P/0743486226.0...</td>\n",
       "    </tr>\n",
       "    <tr>\n",
       "      <th>...</th>\n",
       "      <td>...</td>\n",
       "      <td>...</td>\n",
       "      <td>...</td>\n",
       "      <td>...</td>\n",
       "      <td>...</td>\n",
       "      <td>...</td>\n",
       "      <td>...</td>\n",
       "      <td>...</td>\n",
       "      <td>...</td>\n",
       "      <td>...</td>\n",
       "    </tr>\n",
       "    <tr>\n",
       "      <th>191032</th>\n",
       "      <td>243</td>\n",
       "      <td>0671042572</td>\n",
       "      <td>0</td>\n",
       "      <td>Jewel (Oprah's Book Club)</td>\n",
       "      <td>Bret Lott</td>\n",
       "      <td>1999</td>\n",
       "      <td>Pocket</td>\n",
       "      <td>http://images.amazon.com/images/P/0671042572.0...</td>\n",
       "      <td>http://images.amazon.com/images/P/0671042572.0...</td>\n",
       "      <td>http://images.amazon.com/images/P/0671042572.0...</td>\n",
       "    </tr>\n",
       "    <tr>\n",
       "      <th>191158</th>\n",
       "      <td>243</td>\n",
       "      <td>0684848783</td>\n",
       "      <td>0</td>\n",
       "      <td>Tis : A Memoir</td>\n",
       "      <td>Frank McCourt</td>\n",
       "      <td>1999</td>\n",
       "      <td>Scribner</td>\n",
       "      <td>http://images.amazon.com/images/P/0684848783.0...</td>\n",
       "      <td>http://images.amazon.com/images/P/0684848783.0...</td>\n",
       "      <td>http://images.amazon.com/images/P/0684848783.0...</td>\n",
       "    </tr>\n",
       "    <tr>\n",
       "      <th>191332</th>\n",
       "      <td>243</td>\n",
       "      <td>0786863986</td>\n",
       "      <td>5</td>\n",
       "      <td>A Monk Swimming</td>\n",
       "      <td>Malachy McCourt</td>\n",
       "      <td>1998</td>\n",
       "      <td>Hyperion</td>\n",
       "      <td>http://images.amazon.com/images/P/0786863986.0...</td>\n",
       "      <td>http://images.amazon.com/images/P/0786863986.0...</td>\n",
       "      <td>http://images.amazon.com/images/P/0786863986.0...</td>\n",
       "    </tr>\n",
       "    <tr>\n",
       "      <th>191366</th>\n",
       "      <td>243</td>\n",
       "      <td>0803251718</td>\n",
       "      <td>5</td>\n",
       "      <td>Crazy Horse</td>\n",
       "      <td>Mari Sandoz</td>\n",
       "      <td>1961</td>\n",
       "      <td>University of Nebraska Press</td>\n",
       "      <td>http://images.amazon.com/images/P/0803251718.0...</td>\n",
       "      <td>http://images.amazon.com/images/P/0803251718.0...</td>\n",
       "      <td>http://images.amazon.com/images/P/0803251718.0...</td>\n",
       "    </tr>\n",
       "    <tr>\n",
       "      <th>191370</th>\n",
       "      <td>243</td>\n",
       "      <td>0804117934</td>\n",
       "      <td>0</td>\n",
       "      <td>The Silent Cry (William Monk Novels (Paperback))</td>\n",
       "      <td>Anne Perry</td>\n",
       "      <td>1998</td>\n",
       "      <td>Ivy Books</td>\n",
       "      <td>http://images.amazon.com/images/P/0804117934.0...</td>\n",
       "      <td>http://images.amazon.com/images/P/0804117934.0...</td>\n",
       "      <td>http://images.amazon.com/images/P/0804117934.0...</td>\n",
       "    </tr>\n",
       "  </tbody>\n",
       "</table>\n",
       "<p>79 rows × 10 columns</p>\n",
       "</div>"
      ],
      "text/plain": [
       "        userID  ...                                          imageUrlL\n",
       "503        243  ...  http://images.amazon.com/images/P/0449006522.0...\n",
       "6582       243  ...  http://images.amazon.com/images/P/0316666343.0...\n",
       "18558      243  ...  http://images.amazon.com/images/P/0446605484.0...\n",
       "24367      243  ...  http://images.amazon.com/images/P/0679450408.0...\n",
       "24482      243  ...  http://images.amazon.com/images/P/0743486226.0...\n",
       "...        ...  ...                                                ...\n",
       "191032     243  ...  http://images.amazon.com/images/P/0671042572.0...\n",
       "191158     243  ...  http://images.amazon.com/images/P/0684848783.0...\n",
       "191332     243  ...  http://images.amazon.com/images/P/0786863986.0...\n",
       "191366     243  ...  http://images.amazon.com/images/P/0803251718.0...\n",
       "191370     243  ...  http://images.amazon.com/images/P/0804117934.0...\n",
       "\n",
       "[79 rows x 10 columns]"
      ]
     },
     "execution_count": 8,
     "metadata": {
      "tags": []
     },
     "output_type": "execute_result"
    }
   ],
   "source": [
    "books_rated_by_users[books_rated_by_users.userID == 243]"
   ]
  },
  {
   "cell_type": "code",
   "execution_count": 9,
   "metadata": {
    "colab": {
     "base_uri": "https://localhost:8080/",
     "height": 338
    },
    "colab_type": "code",
    "executionInfo": {
     "elapsed": 20312,
     "status": "ok",
     "timestamp": 1581798035827,
     "user": {
      "displayName": "Prashant Arora",
      "photoUrl": "",
      "userId": "17509553824158463421"
     },
     "user_tz": -330
    },
    "id": "aANJxEjghJv1",
    "outputId": "e9964a72-b474-429d-b707-031a75ad58af"
   },
   "outputs": [
    {
     "name": "stderr",
     "output_type": "stream",
     "text": [
      "/usr/local/lib/python3.6/dist-packages/ipykernel_launcher.py:1: FutureWarning: `Series.plot()` should not be called with positional arguments, only keyword arguments. The order of positional arguments will change in the future. Use `Series.plot(kind='bar')` instead of `Series.plot('bar',)`.\n",
      "  \"\"\"Entry point for launching an IPython kernel.\n"
     ]
    },
    {
     "data": {
      "text/plain": [
       "<matplotlib.axes._subplots.AxesSubplot at 0x7f43aa51d4e0>"
      ]
     },
     "execution_count": 9,
     "metadata": {
      "tags": []
     },
     "output_type": "execute_result"
    },
    {
     "data": {
      "image/png": "[encoded data removed]",
      "text/plain": [
       "<Figure size 432x288 with 1 Axes>"
      ]
     },
     "metadata": {
      "tags": []
     },
     "output_type": "display_data"
    }
   ],
   "source": [
    "ratings.bookRating.value_counts().sort_values(ascending=False).plot(\"bar\")"
   ]
  },
  {
   "cell_type": "code",
   "execution_count": 10,
   "metadata": {
    "colab": {
     "base_uri": "https://localhost:8080/",
     "height": 282
    },
    "colab_type": "code",
    "executionInfo": {
     "elapsed": 20303,
     "status": "ok",
     "timestamp": 1581798035828,
     "user": {
      "displayName": "Prashant Arora",
      "photoUrl": "",
      "userId": "17509553824158463421"
     },
     "user_tz": -330
    },
    "id": "9DVY7mjqh2uR",
    "outputId": "b57488e8-03fc-4a82-d6cf-c780dd4a36ca"
   },
   "outputs": [
    {
     "data": {
      "text/plain": [
       "<matplotlib.axes._subplots.AxesSubplot at 0x7f43aa450f28>"
      ]
     },
     "execution_count": 10,
     "metadata": {
      "tags": []
     },
     "output_type": "execute_result"
    },
    {
     "data": {
      "image/png": "[encoded data removed]",
      "text/plain": [
       "<Figure size 432x288 with 1 Axes>"
      ]
     },
     "metadata": {
      "tags": []
     },
     "output_type": "display_data"
    }
   ],
   "source": [
    "users.Age.hist(bins=[0,10,20,30,40,50,100])"
   ]
  },
  {
   "cell_type": "markdown",
   "metadata": {
    "colab_type": "text",
    "id": "bFK49qezqnMY"
   },
   "source": [
    "# Based On Ratings"
   ]
  },
  {
   "cell_type": "code",
   "execution_count": 11,
   "metadata": {
    "colab": {
     "base_uri": "https://localhost:8080/",
     "height": 431
    },
    "colab_type": "code",
    "executionInfo": {
     "elapsed": 21693,
     "status": "ok",
     "timestamp": 1581798037261,
     "user": {
      "displayName": "Prashant Arora",
      "photoUrl": "",
      "userId": "17509553824158463421"
     },
     "user_tz": -330
    },
    "id": "hfzcNoUJi3H6",
    "outputId": "6bbde29f-7a48-4849-e437-23ee0ad0c9c8"
   },
   "outputs": [
    {
     "data": {
      "text/html": [
       "<div>\n",
       "<style scoped>\n",
       "    .dataframe tbody tr th:only-of-type {\n",
       "        vertical-align: middle;\n",
       "    }\n",
       "\n",
       "    .dataframe tbody tr th {\n",
       "        vertical-align: top;\n",
       "    }\n",
       "\n",
       "    .dataframe thead th {\n",
       "        text-align: right;\n",
       "    }\n",
       "</style>\n",
       "<table border=\"1\" class=\"dataframe\">\n",
       "  <thead>\n",
       "    <tr style=\"text-align: right;\">\n",
       "      <th></th>\n",
       "      <th>bookRating</th>\n",
       "    </tr>\n",
       "    <tr>\n",
       "      <th>ISBN</th>\n",
       "      <th></th>\n",
       "    </tr>\n",
       "  </thead>\n",
       "  <tbody>\n",
       "    <tr>\n",
       "      <th>0971880107</th>\n",
       "      <td>2502</td>\n",
       "    </tr>\n",
       "    <tr>\n",
       "      <th>0316666343</th>\n",
       "      <td>1295</td>\n",
       "    </tr>\n",
       "    <tr>\n",
       "      <th>0385504209</th>\n",
       "      <td>883</td>\n",
       "    </tr>\n",
       "    <tr>\n",
       "      <th>0060928336</th>\n",
       "      <td>732</td>\n",
       "    </tr>\n",
       "    <tr>\n",
       "      <th>0312195516</th>\n",
       "      <td>723</td>\n",
       "    </tr>\n",
       "    <tr>\n",
       "      <th>...</th>\n",
       "      <td>...</td>\n",
       "    </tr>\n",
       "    <tr>\n",
       "      <th>0801064090</th>\n",
       "      <td>1</td>\n",
       "    </tr>\n",
       "    <tr>\n",
       "      <th>0801064252</th>\n",
       "      <td>1</td>\n",
       "    </tr>\n",
       "    <tr>\n",
       "      <th>0801064279</th>\n",
       "      <td>1</td>\n",
       "    </tr>\n",
       "    <tr>\n",
       "      <th>0801064333</th>\n",
       "      <td>1</td>\n",
       "    </tr>\n",
       "    <tr>\n",
       "      <th>Ô½crosoft</th>\n",
       "      <td>1</td>\n",
       "    </tr>\n",
       "  </tbody>\n",
       "</table>\n",
       "<p>340556 rows × 1 columns</p>\n",
       "</div>"
      ],
      "text/plain": [
       "            bookRating\n",
       "ISBN                  \n",
       "0971880107        2502\n",
       "0316666343        1295\n",
       "0385504209         883\n",
       "0060928336         732\n",
       "0312195516         723\n",
       "...                ...\n",
       "0801064090           1\n",
       "0801064252           1\n",
       "0801064279           1\n",
       "0801064333           1\n",
       "Ô½crosoft            1\n",
       "\n",
       "[340556 rows x 1 columns]"
      ]
     },
     "execution_count": 11,
     "metadata": {
      "tags": []
     },
     "output_type": "execute_result"
    }
   ],
   "source": [
    "#Most Rated Books\n",
    "pd.DataFrame(ratings.groupby(\"ISBN\")['bookRating'].count()).sort_values(by=\"bookRating\",ascending=False)"
   ]
  },
  {
   "cell_type": "markdown",
   "metadata": {
    "colab_type": "text",
    "id": "TtUoawAWqraG"
   },
   "source": [
    "# User Based Rating Correlation"
   ]
  },
  {
   "cell_type": "code",
   "execution_count": 12,
   "metadata": {
    "colab": {
     "base_uri": "https://localhost:8080/",
     "height": 225
    },
    "colab_type": "code",
    "executionInfo": {
     "elapsed": 22327,
     "status": "ok",
     "timestamp": 1581798037907,
     "user": {
      "displayName": "Prashant Arora",
      "photoUrl": "",
      "userId": "17509553824158463421"
     },
     "user_tz": -330
    },
    "id": "ad_doUpijRBW",
    "outputId": "eeb43631-0fd7-43eb-d584-d0d8231278a1"
   },
   "outputs": [
    {
     "data": {
      "text/html": [
       "<div>\n",
       "<style scoped>\n",
       "    .dataframe tbody tr th:only-of-type {\n",
       "        vertical-align: middle;\n",
       "    }\n",
       "\n",
       "    .dataframe tbody tr th {\n",
       "        vertical-align: top;\n",
       "    }\n",
       "\n",
       "    .dataframe thead th {\n",
       "        text-align: right;\n",
       "    }\n",
       "</style>\n",
       "<table border=\"1\" class=\"dataframe\">\n",
       "  <thead>\n",
       "    <tr style=\"text-align: right;\">\n",
       "      <th></th>\n",
       "      <th>bookRating</th>\n",
       "      <th>ratingCount</th>\n",
       "    </tr>\n",
       "    <tr>\n",
       "      <th>ISBN</th>\n",
       "      <th></th>\n",
       "      <th></th>\n",
       "    </tr>\n",
       "  </thead>\n",
       "  <tbody>\n",
       "    <tr>\n",
       "      <th>0971880107</th>\n",
       "      <td>1.019584</td>\n",
       "      <td>2502</td>\n",
       "    </tr>\n",
       "    <tr>\n",
       "      <th>0316666343</th>\n",
       "      <td>4.468726</td>\n",
       "      <td>1295</td>\n",
       "    </tr>\n",
       "    <tr>\n",
       "      <th>0385504209</th>\n",
       "      <td>4.652322</td>\n",
       "      <td>883</td>\n",
       "    </tr>\n",
       "    <tr>\n",
       "      <th>0060928336</th>\n",
       "      <td>3.448087</td>\n",
       "      <td>732</td>\n",
       "    </tr>\n",
       "    <tr>\n",
       "      <th>0312195516</th>\n",
       "      <td>4.334716</td>\n",
       "      <td>723</td>\n",
       "    </tr>\n",
       "  </tbody>\n",
       "</table>\n",
       "</div>"
      ],
      "text/plain": [
       "            bookRating  ratingCount\n",
       "ISBN                               \n",
       "0971880107    1.019584         2502\n",
       "0316666343    4.468726         1295\n",
       "0385504209    4.652322          883\n",
       "0060928336    3.448087          732\n",
       "0312195516    4.334716          723"
      ]
     },
     "execution_count": 12,
     "metadata": {
      "tags": []
     },
     "output_type": "execute_result"
    }
   ],
   "source": [
    "average_rating = pd.DataFrame(ratings.groupby('ISBN')['bookRating'].mean())\n",
    "average_rating['ratingCount'] = pd.DataFrame(ratings.groupby('ISBN')['bookRating'].count())\n",
    "average_rating.sort_values(['ratingCount'], ascending=[False]).head()"
   ]
  },
  {
   "cell_type": "code",
   "execution_count": 0,
   "metadata": {
    "colab": {},
    "colab_type": "code",
    "id": "uoK0L-p3joCu"
   },
   "outputs": [],
   "source": [
    "counts1 = ratings['userID'].value_counts()\n",
    "ratings = ratings[ratings['userID'].isin(counts1[counts1 >= 100].index)]\n",
    "counts = ratings['bookRating'].value_counts()\n",
    "ratings = ratings[ratings['bookRating'].isin(counts[counts >= 100].index)]"
   ]
  },
  {
   "cell_type": "code",
   "execution_count": 14,
   "metadata": {
    "colab": {
     "base_uri": "https://localhost:8080/",
     "height": 341
    },
    "colab_type": "code",
    "executionInfo": {
     "elapsed": 26084,
     "status": "ok",
     "timestamp": 1581798041681,
     "user": {
      "displayName": "Prashant Arora",
      "photoUrl": "",
      "userId": "17509553824158463421"
     },
     "user_tz": -330
    },
    "id": "XTyX6D5hmjl2",
    "outputId": "18efe210-47ac-4ec4-ecdb-4fb80a24df6b"
   },
   "outputs": [
    {
     "name": "stdout",
     "output_type": "stream",
     "text": [
      "(1847, 240478)\n"
     ]
    },
    {
     "data": {
      "text/html": [
       "<div>\n",
       "<style scoped>\n",
       "    .dataframe tbody tr th:only-of-type {\n",
       "        vertical-align: middle;\n",
       "    }\n",
       "\n",
       "    .dataframe tbody tr th {\n",
       "        vertical-align: top;\n",
       "    }\n",
       "\n",
       "    .dataframe thead th {\n",
       "        text-align: right;\n",
       "    }\n",
       "</style>\n",
       "<table border=\"1\" class=\"dataframe\">\n",
       "  <thead>\n",
       "    <tr style=\"text-align: right;\">\n",
       "      <th>ISBN</th>\n",
       "      <th>0330299891</th>\n",
       "      <th>0375404120</th>\n",
       "      <th>0586045007</th>\n",
       "      <th>9022906116</th>\n",
       "      <th>9032803328</th>\n",
       "      <th>9044922564</th>\n",
       "      <th>9044922572</th>\n",
       "      <th>9044922718</th>\n",
       "      <th>9044923161</th>\n",
       "      <th>904492401X</th>\n",
       "      <th>9061002273</th>\n",
       "      <th>*0452281903</th>\n",
       "      <th>*0515128325</th>\n",
       "      <th>+0451197399</th>\n",
       "      <th>0 00 612183 7</th>\n",
       "      <th>0 00 614494 2</th>\n",
       "      <th>0 7336 1053 6</th>\n",
       "      <th>0 75280 122 8</th>\n",
       "      <th>0 85550 000 x</th>\n",
       "      <th>0 907 062 008</th>\n",
       "      <th>0*708880258</th>\n",
       "      <th>0.330241664</th>\n",
       "      <th>00000000</th>\n",
       "      <th>000000000</th>\n",
       "      <th>0000000000</th>\n",
       "      <th>00000000000</th>\n",
       "      <th>000000000000</th>\n",
       "      <th>0000000000000</th>\n",
       "      <th>0000000026307</th>\n",
       "      <th>0000000029841</th>\n",
       "      <th>0000000030670</th>\n",
       "      <th>0000000033220</th>\n",
       "      <th>0000000051</th>\n",
       "      <th>0000000124911</th>\n",
       "      <th>0000001042283</th>\n",
       "      <th>0000001056518</th>\n",
       "      <th>0000001481</th>\n",
       "      <th>0000018030</th>\n",
       "      <th>0000722105029</th>\n",
       "      <th>0000913154</th>\n",
       "      <th>...</th>\n",
       "      <th>O590418262</th>\n",
       "      <th>O590477412</th>\n",
       "      <th>O59052528X</th>\n",
       "      <th>O671004573</th>\n",
       "      <th>O67174142X</th>\n",
       "      <th>O753800055</th>\n",
       "      <th>O774037474</th>\n",
       "      <th>O77O428452</th>\n",
       "      <th>O786001690</th>\n",
       "      <th>O805063196</th>\n",
       "      <th>O856856428</th>\n",
       "      <th>O861366301</th>\n",
       "      <th>O880015152</th>\n",
       "      <th>O889950962</th>\n",
       "      <th>O9088446X</th>\n",
       "      <th>PS3569E84K5</th>\n",
       "      <th>Q380708353</th>\n",
       "      <th>Q912838027</th>\n",
       "      <th>ROO48580353</th>\n",
       "      <th>SBN67001026X</th>\n",
       "      <th>SELBSTVERLAG</th>\n",
       "      <th>T110105305048</th>\n",
       "      <th>T110105705048</th>\n",
       "      <th>TBR0385495641</th>\n",
       "      <th>THEALLTRUETRA</th>\n",
       "      <th>THECATASTROPH</th>\n",
       "      <th>THEFLYINGACE</th>\n",
       "      <th>UNGRANDHOMMED</th>\n",
       "      <th>X000000000</th>\n",
       "      <th>YOUTELLEM,AND</th>\n",
       "      <th>Z380703475</th>\n",
       "      <th>ZR903CX0003</th>\n",
       "      <th>\\0432534220\\\"\"</th>\n",
       "      <th>\\2842053052\\\"\"</th>\n",
       "      <th>\\8887517452\\\"\"</th>\n",
       "      <th>\\8888809228\\\"\"</th>\n",
       "      <th>b00005wz75</th>\n",
       "      <th>cn108465</th>\n",
       "      <th>cn113107</th>\n",
       "      <th>Ô½crosoft</th>\n",
       "    </tr>\n",
       "    <tr>\n",
       "      <th>userID</th>\n",
       "      <th></th>\n",
       "      <th></th>\n",
       "      <th></th>\n",
       "      <th></th>\n",
       "      <th></th>\n",
       "      <th></th>\n",
       "      <th></th>\n",
       "      <th></th>\n",
       "      <th></th>\n",
       "      <th></th>\n",
       "      <th></th>\n",
       "      <th></th>\n",
       "      <th></th>\n",
       "      <th></th>\n",
       "      <th></th>\n",
       "      <th></th>\n",
       "      <th></th>\n",
       "      <th></th>\n",
       "      <th></th>\n",
       "      <th></th>\n",
       "      <th></th>\n",
       "      <th></th>\n",
       "      <th></th>\n",
       "      <th></th>\n",
       "      <th></th>\n",
       "      <th></th>\n",
       "      <th></th>\n",
       "      <th></th>\n",
       "      <th></th>\n",
       "      <th></th>\n",
       "      <th></th>\n",
       "      <th></th>\n",
       "      <th></th>\n",
       "      <th></th>\n",
       "      <th></th>\n",
       "      <th></th>\n",
       "      <th></th>\n",
       "      <th></th>\n",
       "      <th></th>\n",
       "      <th></th>\n",
       "      <th></th>\n",
       "      <th></th>\n",
       "      <th></th>\n",
       "      <th></th>\n",
       "      <th></th>\n",
       "      <th></th>\n",
       "      <th></th>\n",
       "      <th></th>\n",
       "      <th></th>\n",
       "      <th></th>\n",
       "      <th></th>\n",
       "      <th></th>\n",
       "      <th></th>\n",
       "      <th></th>\n",
       "      <th></th>\n",
       "      <th></th>\n",
       "      <th></th>\n",
       "      <th></th>\n",
       "      <th></th>\n",
       "      <th></th>\n",
       "      <th></th>\n",
       "      <th></th>\n",
       "      <th></th>\n",
       "      <th></th>\n",
       "      <th></th>\n",
       "      <th></th>\n",
       "      <th></th>\n",
       "      <th></th>\n",
       "      <th></th>\n",
       "      <th></th>\n",
       "      <th></th>\n",
       "      <th></th>\n",
       "      <th></th>\n",
       "      <th></th>\n",
       "      <th></th>\n",
       "      <th></th>\n",
       "      <th></th>\n",
       "      <th></th>\n",
       "      <th></th>\n",
       "      <th></th>\n",
       "      <th></th>\n",
       "    </tr>\n",
       "  </thead>\n",
       "  <tbody>\n",
       "    <tr>\n",
       "      <th>183</th>\n",
       "      <td>NaN</td>\n",
       "      <td>NaN</td>\n",
       "      <td>NaN</td>\n",
       "      <td>NaN</td>\n",
       "      <td>NaN</td>\n",
       "      <td>NaN</td>\n",
       "      <td>NaN</td>\n",
       "      <td>NaN</td>\n",
       "      <td>NaN</td>\n",
       "      <td>NaN</td>\n",
       "      <td>NaN</td>\n",
       "      <td>NaN</td>\n",
       "      <td>NaN</td>\n",
       "      <td>NaN</td>\n",
       "      <td>NaN</td>\n",
       "      <td>NaN</td>\n",
       "      <td>NaN</td>\n",
       "      <td>NaN</td>\n",
       "      <td>NaN</td>\n",
       "      <td>NaN</td>\n",
       "      <td>NaN</td>\n",
       "      <td>NaN</td>\n",
       "      <td>NaN</td>\n",
       "      <td>NaN</td>\n",
       "      <td>NaN</td>\n",
       "      <td>NaN</td>\n",
       "      <td>NaN</td>\n",
       "      <td>NaN</td>\n",
       "      <td>NaN</td>\n",
       "      <td>NaN</td>\n",
       "      <td>NaN</td>\n",
       "      <td>NaN</td>\n",
       "      <td>NaN</td>\n",
       "      <td>NaN</td>\n",
       "      <td>NaN</td>\n",
       "      <td>NaN</td>\n",
       "      <td>NaN</td>\n",
       "      <td>NaN</td>\n",
       "      <td>NaN</td>\n",
       "      <td>NaN</td>\n",
       "      <td>...</td>\n",
       "      <td>NaN</td>\n",
       "      <td>NaN</td>\n",
       "      <td>NaN</td>\n",
       "      <td>NaN</td>\n",
       "      <td>NaN</td>\n",
       "      <td>NaN</td>\n",
       "      <td>NaN</td>\n",
       "      <td>NaN</td>\n",
       "      <td>NaN</td>\n",
       "      <td>NaN</td>\n",
       "      <td>NaN</td>\n",
       "      <td>NaN</td>\n",
       "      <td>NaN</td>\n",
       "      <td>NaN</td>\n",
       "      <td>NaN</td>\n",
       "      <td>NaN</td>\n",
       "      <td>NaN</td>\n",
       "      <td>NaN</td>\n",
       "      <td>NaN</td>\n",
       "      <td>NaN</td>\n",
       "      <td>NaN</td>\n",
       "      <td>NaN</td>\n",
       "      <td>NaN</td>\n",
       "      <td>NaN</td>\n",
       "      <td>NaN</td>\n",
       "      <td>NaN</td>\n",
       "      <td>NaN</td>\n",
       "      <td>NaN</td>\n",
       "      <td>NaN</td>\n",
       "      <td>NaN</td>\n",
       "      <td>NaN</td>\n",
       "      <td>NaN</td>\n",
       "      <td>NaN</td>\n",
       "      <td>NaN</td>\n",
       "      <td>NaN</td>\n",
       "      <td>NaN</td>\n",
       "      <td>NaN</td>\n",
       "      <td>NaN</td>\n",
       "      <td>NaN</td>\n",
       "      <td>NaN</td>\n",
       "    </tr>\n",
       "    <tr>\n",
       "      <th>254</th>\n",
       "      <td>NaN</td>\n",
       "      <td>NaN</td>\n",
       "      <td>NaN</td>\n",
       "      <td>NaN</td>\n",
       "      <td>NaN</td>\n",
       "      <td>NaN</td>\n",
       "      <td>NaN</td>\n",
       "      <td>NaN</td>\n",
       "      <td>NaN</td>\n",
       "      <td>NaN</td>\n",
       "      <td>NaN</td>\n",
       "      <td>NaN</td>\n",
       "      <td>NaN</td>\n",
       "      <td>NaN</td>\n",
       "      <td>NaN</td>\n",
       "      <td>NaN</td>\n",
       "      <td>NaN</td>\n",
       "      <td>NaN</td>\n",
       "      <td>NaN</td>\n",
       "      <td>NaN</td>\n",
       "      <td>NaN</td>\n",
       "      <td>NaN</td>\n",
       "      <td>NaN</td>\n",
       "      <td>NaN</td>\n",
       "      <td>NaN</td>\n",
       "      <td>NaN</td>\n",
       "      <td>NaN</td>\n",
       "      <td>NaN</td>\n",
       "      <td>NaN</td>\n",
       "      <td>NaN</td>\n",
       "      <td>NaN</td>\n",
       "      <td>NaN</td>\n",
       "      <td>NaN</td>\n",
       "      <td>NaN</td>\n",
       "      <td>NaN</td>\n",
       "      <td>NaN</td>\n",
       "      <td>NaN</td>\n",
       "      <td>NaN</td>\n",
       "      <td>NaN</td>\n",
       "      <td>NaN</td>\n",
       "      <td>...</td>\n",
       "      <td>NaN</td>\n",
       "      <td>NaN</td>\n",
       "      <td>NaN</td>\n",
       "      <td>NaN</td>\n",
       "      <td>NaN</td>\n",
       "      <td>NaN</td>\n",
       "      <td>NaN</td>\n",
       "      <td>NaN</td>\n",
       "      <td>NaN</td>\n",
       "      <td>NaN</td>\n",
       "      <td>NaN</td>\n",
       "      <td>NaN</td>\n",
       "      <td>NaN</td>\n",
       "      <td>NaN</td>\n",
       "      <td>NaN</td>\n",
       "      <td>NaN</td>\n",
       "      <td>NaN</td>\n",
       "      <td>NaN</td>\n",
       "      <td>NaN</td>\n",
       "      <td>NaN</td>\n",
       "      <td>NaN</td>\n",
       "      <td>NaN</td>\n",
       "      <td>NaN</td>\n",
       "      <td>NaN</td>\n",
       "      <td>NaN</td>\n",
       "      <td>NaN</td>\n",
       "      <td>NaN</td>\n",
       "      <td>NaN</td>\n",
       "      <td>NaN</td>\n",
       "      <td>NaN</td>\n",
       "      <td>NaN</td>\n",
       "      <td>NaN</td>\n",
       "      <td>NaN</td>\n",
       "      <td>NaN</td>\n",
       "      <td>NaN</td>\n",
       "      <td>NaN</td>\n",
       "      <td>NaN</td>\n",
       "      <td>NaN</td>\n",
       "      <td>NaN</td>\n",
       "      <td>NaN</td>\n",
       "    </tr>\n",
       "    <tr>\n",
       "      <th>507</th>\n",
       "      <td>NaN</td>\n",
       "      <td>NaN</td>\n",
       "      <td>NaN</td>\n",
       "      <td>NaN</td>\n",
       "      <td>NaN</td>\n",
       "      <td>NaN</td>\n",
       "      <td>NaN</td>\n",
       "      <td>NaN</td>\n",
       "      <td>NaN</td>\n",
       "      <td>NaN</td>\n",
       "      <td>NaN</td>\n",
       "      <td>NaN</td>\n",
       "      <td>NaN</td>\n",
       "      <td>NaN</td>\n",
       "      <td>NaN</td>\n",
       "      <td>NaN</td>\n",
       "      <td>NaN</td>\n",
       "      <td>NaN</td>\n",
       "      <td>NaN</td>\n",
       "      <td>NaN</td>\n",
       "      <td>NaN</td>\n",
       "      <td>NaN</td>\n",
       "      <td>NaN</td>\n",
       "      <td>NaN</td>\n",
       "      <td>NaN</td>\n",
       "      <td>NaN</td>\n",
       "      <td>NaN</td>\n",
       "      <td>NaN</td>\n",
       "      <td>NaN</td>\n",
       "      <td>NaN</td>\n",
       "      <td>NaN</td>\n",
       "      <td>NaN</td>\n",
       "      <td>NaN</td>\n",
       "      <td>NaN</td>\n",
       "      <td>NaN</td>\n",
       "      <td>NaN</td>\n",
       "      <td>NaN</td>\n",
       "      <td>NaN</td>\n",
       "      <td>NaN</td>\n",
       "      <td>NaN</td>\n",
       "      <td>...</td>\n",
       "      <td>NaN</td>\n",
       "      <td>NaN</td>\n",
       "      <td>NaN</td>\n",
       "      <td>NaN</td>\n",
       "      <td>NaN</td>\n",
       "      <td>NaN</td>\n",
       "      <td>NaN</td>\n",
       "      <td>NaN</td>\n",
       "      <td>NaN</td>\n",
       "      <td>NaN</td>\n",
       "      <td>NaN</td>\n",
       "      <td>NaN</td>\n",
       "      <td>NaN</td>\n",
       "      <td>NaN</td>\n",
       "      <td>NaN</td>\n",
       "      <td>NaN</td>\n",
       "      <td>NaN</td>\n",
       "      <td>NaN</td>\n",
       "      <td>NaN</td>\n",
       "      <td>NaN</td>\n",
       "      <td>NaN</td>\n",
       "      <td>NaN</td>\n",
       "      <td>NaN</td>\n",
       "      <td>NaN</td>\n",
       "      <td>NaN</td>\n",
       "      <td>NaN</td>\n",
       "      <td>NaN</td>\n",
       "      <td>NaN</td>\n",
       "      <td>NaN</td>\n",
       "      <td>NaN</td>\n",
       "      <td>NaN</td>\n",
       "      <td>NaN</td>\n",
       "      <td>NaN</td>\n",
       "      <td>NaN</td>\n",
       "      <td>NaN</td>\n",
       "      <td>NaN</td>\n",
       "      <td>NaN</td>\n",
       "      <td>NaN</td>\n",
       "      <td>NaN</td>\n",
       "      <td>NaN</td>\n",
       "    </tr>\n",
       "    <tr>\n",
       "      <th>882</th>\n",
       "      <td>NaN</td>\n",
       "      <td>NaN</td>\n",
       "      <td>NaN</td>\n",
       "      <td>NaN</td>\n",
       "      <td>NaN</td>\n",
       "      <td>NaN</td>\n",
       "      <td>NaN</td>\n",
       "      <td>NaN</td>\n",
       "      <td>NaN</td>\n",
       "      <td>NaN</td>\n",
       "      <td>NaN</td>\n",
       "      <td>NaN</td>\n",
       "      <td>NaN</td>\n",
       "      <td>NaN</td>\n",
       "      <td>NaN</td>\n",
       "      <td>NaN</td>\n",
       "      <td>NaN</td>\n",
       "      <td>NaN</td>\n",
       "      <td>NaN</td>\n",
       "      <td>NaN</td>\n",
       "      <td>NaN</td>\n",
       "      <td>NaN</td>\n",
       "      <td>NaN</td>\n",
       "      <td>NaN</td>\n",
       "      <td>NaN</td>\n",
       "      <td>NaN</td>\n",
       "      <td>NaN</td>\n",
       "      <td>NaN</td>\n",
       "      <td>NaN</td>\n",
       "      <td>NaN</td>\n",
       "      <td>NaN</td>\n",
       "      <td>NaN</td>\n",
       "      <td>NaN</td>\n",
       "      <td>NaN</td>\n",
       "      <td>NaN</td>\n",
       "      <td>NaN</td>\n",
       "      <td>NaN</td>\n",
       "      <td>NaN</td>\n",
       "      <td>NaN</td>\n",
       "      <td>NaN</td>\n",
       "      <td>...</td>\n",
       "      <td>NaN</td>\n",
       "      <td>NaN</td>\n",
       "      <td>NaN</td>\n",
       "      <td>NaN</td>\n",
       "      <td>NaN</td>\n",
       "      <td>NaN</td>\n",
       "      <td>NaN</td>\n",
       "      <td>NaN</td>\n",
       "      <td>NaN</td>\n",
       "      <td>NaN</td>\n",
       "      <td>NaN</td>\n",
       "      <td>NaN</td>\n",
       "      <td>NaN</td>\n",
       "      <td>NaN</td>\n",
       "      <td>NaN</td>\n",
       "      <td>NaN</td>\n",
       "      <td>NaN</td>\n",
       "      <td>NaN</td>\n",
       "      <td>NaN</td>\n",
       "      <td>NaN</td>\n",
       "      <td>NaN</td>\n",
       "      <td>NaN</td>\n",
       "      <td>NaN</td>\n",
       "      <td>NaN</td>\n",
       "      <td>NaN</td>\n",
       "      <td>NaN</td>\n",
       "      <td>NaN</td>\n",
       "      <td>NaN</td>\n",
       "      <td>NaN</td>\n",
       "      <td>NaN</td>\n",
       "      <td>NaN</td>\n",
       "      <td>NaN</td>\n",
       "      <td>NaN</td>\n",
       "      <td>NaN</td>\n",
       "      <td>NaN</td>\n",
       "      <td>NaN</td>\n",
       "      <td>NaN</td>\n",
       "      <td>NaN</td>\n",
       "      <td>NaN</td>\n",
       "      <td>NaN</td>\n",
       "    </tr>\n",
       "    <tr>\n",
       "      <th>1424</th>\n",
       "      <td>NaN</td>\n",
       "      <td>NaN</td>\n",
       "      <td>NaN</td>\n",
       "      <td>NaN</td>\n",
       "      <td>NaN</td>\n",
       "      <td>NaN</td>\n",
       "      <td>NaN</td>\n",
       "      <td>NaN</td>\n",
       "      <td>NaN</td>\n",
       "      <td>NaN</td>\n",
       "      <td>NaN</td>\n",
       "      <td>NaN</td>\n",
       "      <td>NaN</td>\n",
       "      <td>NaN</td>\n",
       "      <td>NaN</td>\n",
       "      <td>NaN</td>\n",
       "      <td>NaN</td>\n",
       "      <td>NaN</td>\n",
       "      <td>NaN</td>\n",
       "      <td>NaN</td>\n",
       "      <td>NaN</td>\n",
       "      <td>NaN</td>\n",
       "      <td>NaN</td>\n",
       "      <td>NaN</td>\n",
       "      <td>NaN</td>\n",
       "      <td>NaN</td>\n",
       "      <td>NaN</td>\n",
       "      <td>NaN</td>\n",
       "      <td>NaN</td>\n",
       "      <td>NaN</td>\n",
       "      <td>NaN</td>\n",
       "      <td>NaN</td>\n",
       "      <td>NaN</td>\n",
       "      <td>NaN</td>\n",
       "      <td>NaN</td>\n",
       "      <td>NaN</td>\n",
       "      <td>NaN</td>\n",
       "      <td>NaN</td>\n",
       "      <td>NaN</td>\n",
       "      <td>NaN</td>\n",
       "      <td>...</td>\n",
       "      <td>NaN</td>\n",
       "      <td>NaN</td>\n",
       "      <td>NaN</td>\n",
       "      <td>NaN</td>\n",
       "      <td>NaN</td>\n",
       "      <td>NaN</td>\n",
       "      <td>NaN</td>\n",
       "      <td>NaN</td>\n",
       "      <td>NaN</td>\n",
       "      <td>NaN</td>\n",
       "      <td>NaN</td>\n",
       "      <td>NaN</td>\n",
       "      <td>NaN</td>\n",
       "      <td>NaN</td>\n",
       "      <td>NaN</td>\n",
       "      <td>NaN</td>\n",
       "      <td>NaN</td>\n",
       "      <td>NaN</td>\n",
       "      <td>NaN</td>\n",
       "      <td>NaN</td>\n",
       "      <td>NaN</td>\n",
       "      <td>NaN</td>\n",
       "      <td>NaN</td>\n",
       "      <td>NaN</td>\n",
       "      <td>NaN</td>\n",
       "      <td>NaN</td>\n",
       "      <td>NaN</td>\n",
       "      <td>NaN</td>\n",
       "      <td>NaN</td>\n",
       "      <td>NaN</td>\n",
       "      <td>NaN</td>\n",
       "      <td>NaN</td>\n",
       "      <td>NaN</td>\n",
       "      <td>NaN</td>\n",
       "      <td>NaN</td>\n",
       "      <td>NaN</td>\n",
       "      <td>NaN</td>\n",
       "      <td>NaN</td>\n",
       "      <td>NaN</td>\n",
       "      <td>NaN</td>\n",
       "    </tr>\n",
       "  </tbody>\n",
       "</table>\n",
       "<p>5 rows × 240478 columns</p>\n",
       "</div>"
      ],
      "text/plain": [
       "ISBN     0330299891   0375404120   0586045007  ...  cn108465  cn113107  Ô½crosoft\n",
       "userID                                         ...                               \n",
       "183             NaN          NaN          NaN  ...       NaN       NaN        NaN\n",
       "254             NaN          NaN          NaN  ...       NaN       NaN        NaN\n",
       "507             NaN          NaN          NaN  ...       NaN       NaN        NaN\n",
       "882             NaN          NaN          NaN  ...       NaN       NaN        NaN\n",
       "1424            NaN          NaN          NaN  ...       NaN       NaN        NaN\n",
       "\n",
       "[5 rows x 240478 columns]"
      ]
     },
     "execution_count": 14,
     "metadata": {
      "tags": []
     },
     "output_type": "execute_result"
    }
   ],
   "source": [
    "ratings_pivot = ratings.pivot(index='userID', columns='ISBN').bookRating\n",
    "userID = ratings_pivot.index\n",
    "ISBN = ratings_pivot.columns\n",
    "print(ratings_pivot.shape)\n",
    "ratings_pivot.head()"
   ]
  },
  {
   "cell_type": "code",
   "execution_count": 15,
   "metadata": {
    "colab": {
     "base_uri": "https://localhost:8080/",
     "height": 118
    },
    "colab_type": "code",
    "executionInfo": {
     "elapsed": 99864,
     "status": "ok",
     "timestamp": 1581798115680,
     "user": {
      "displayName": "Prashant Arora",
      "photoUrl": "",
      "userId": "17509553824158463421"
     },
     "user_tz": -330
    },
    "id": "lFSASPD7mlkd",
    "outputId": "ebe297c0-6dc2-4bdd-8236-89c10223d919"
   },
   "outputs": [
    {
     "name": "stdout",
     "output_type": "stream",
     "text": [
      "408    The Lovely Bones: A Novel\n",
      "Name: bookTitle, dtype: object\n"
     ]
    },
    {
     "name": "stderr",
     "output_type": "stream",
     "text": [
      "/usr/local/lib/python3.6/dist-packages/numpy/lib/function_base.py:2526: RuntimeWarning: Degrees of freedom <= 0 for slice\n",
      "  c = cov(x, y, rowvar)\n",
      "/usr/local/lib/python3.6/dist-packages/numpy/lib/function_base.py:2455: RuntimeWarning: divide by zero encountered in true_divide\n",
      "  c *= np.true_divide(1, fact)\n"
     ]
    }
   ],
   "source": [
    "bones_ratings = ratings_pivot['0316666343']\n",
    "print(books[books.ISBN == \"0316666343\"].bookTitle)\n",
    "similar_to_bones = ratings_pivot.corrwith(bones_ratings)\n",
    "corr_bones = pd.DataFrame(similar_to_bones, columns=['pearsonR'])\n",
    "corr_bones.dropna(inplace=True)\n",
    "corr_summary = corr_bones.join(average_rating['ratingCount'])\n",
    "recommendations = corr_summary[corr_summary['ratingCount']>=300].sort_values('pearsonR', ascending=False).head(10)"
   ]
  },
  {
   "cell_type": "code",
   "execution_count": 16,
   "metadata": {
    "colab": {
     "base_uri": "https://localhost:8080/",
     "height": 750
    },
    "colab_type": "code",
    "executionInfo": {
     "elapsed": 99852,
     "status": "ok",
     "timestamp": 1581798115681,
     "user": {
      "displayName": "Prashant Arora",
      "photoUrl": "",
      "userId": "17509553824158463421"
     },
     "user_tz": -330
    },
    "id": "w3dy4TN4oRhC",
    "outputId": "1d1ae292-d75f-4ef9-b264-82d53d656b72"
   },
   "outputs": [
    {
     "data": {
      "text/html": [
       "<div>\n",
       "<style scoped>\n",
       "    .dataframe tbody tr th:only-of-type {\n",
       "        vertical-align: middle;\n",
       "    }\n",
       "\n",
       "    .dataframe tbody tr th {\n",
       "        vertical-align: top;\n",
       "    }\n",
       "\n",
       "    .dataframe thead th {\n",
       "        text-align: right;\n",
       "    }\n",
       "</style>\n",
       "<table border=\"1\" class=\"dataframe\">\n",
       "  <thead>\n",
       "    <tr style=\"text-align: right;\">\n",
       "      <th></th>\n",
       "      <th>ISBN</th>\n",
       "      <th>pearsonR</th>\n",
       "      <th>ratingCount</th>\n",
       "      <th>bookTitle</th>\n",
       "      <th>bookAuthor</th>\n",
       "      <th>yearOfPublication</th>\n",
       "      <th>publisher</th>\n",
       "      <th>imageUrlS</th>\n",
       "      <th>imageUrlM</th>\n",
       "      <th>imageUrlL</th>\n",
       "    </tr>\n",
       "  </thead>\n",
       "  <tbody>\n",
       "    <tr>\n",
       "      <th>0</th>\n",
       "      <td>0316666343</td>\n",
       "      <td>1.000000</td>\n",
       "      <td>1295</td>\n",
       "      <td>The Lovely Bones: A Novel</td>\n",
       "      <td>Alice Sebold</td>\n",
       "      <td>2002</td>\n",
       "      <td>Little, Brown</td>\n",
       "      <td>http://images.amazon.com/images/P/0316666343.0...</td>\n",
       "      <td>http://images.amazon.com/images/P/0316666343.0...</td>\n",
       "      <td>http://images.amazon.com/images/P/0316666343.0...</td>\n",
       "    </tr>\n",
       "    <tr>\n",
       "      <th>1</th>\n",
       "      <td>0446672211</td>\n",
       "      <td>0.411417</td>\n",
       "      <td>585</td>\n",
       "      <td>Where the Heart Is (Oprah's Book Club (Paperba...</td>\n",
       "      <td>Billie Letts</td>\n",
       "      <td>1998</td>\n",
       "      <td>Warner Books</td>\n",
       "      <td>http://images.amazon.com/images/P/0446672211.0...</td>\n",
       "      <td>http://images.amazon.com/images/P/0446672211.0...</td>\n",
       "      <td>http://images.amazon.com/images/P/0446672211.0...</td>\n",
       "    </tr>\n",
       "    <tr>\n",
       "      <th>2</th>\n",
       "      <td>0312291639</td>\n",
       "      <td>0.390961</td>\n",
       "      <td>354</td>\n",
       "      <td>The Nanny Diaries: A Novel</td>\n",
       "      <td>Emma McLaughlin</td>\n",
       "      <td>2003</td>\n",
       "      <td>St. Martin's Griffin</td>\n",
       "      <td>http://images.amazon.com/images/P/0312291639.0...</td>\n",
       "      <td>http://images.amazon.com/images/P/0312291639.0...</td>\n",
       "      <td>http://images.amazon.com/images/P/0312291639.0...</td>\n",
       "    </tr>\n",
       "    <tr>\n",
       "      <th>3</th>\n",
       "      <td>0446610038</td>\n",
       "      <td>0.361089</td>\n",
       "      <td>391</td>\n",
       "      <td>1st to Die: A Novel</td>\n",
       "      <td>James Patterson</td>\n",
       "      <td>2002</td>\n",
       "      <td>Warner Vision</td>\n",
       "      <td>http://images.amazon.com/images/P/0446610038.0...</td>\n",
       "      <td>http://images.amazon.com/images/P/0446610038.0...</td>\n",
       "      <td>http://images.amazon.com/images/P/0446610038.0...</td>\n",
       "    </tr>\n",
       "    <tr>\n",
       "      <th>4</th>\n",
       "      <td>0060930535</td>\n",
       "      <td>0.348839</td>\n",
       "      <td>494</td>\n",
       "      <td>The Poisonwood Bible: A Novel</td>\n",
       "      <td>Barbara Kingsolver</td>\n",
       "      <td>1999</td>\n",
       "      <td>Perennial</td>\n",
       "      <td>http://images.amazon.com/images/P/0060930535.0...</td>\n",
       "      <td>http://images.amazon.com/images/P/0060930535.0...</td>\n",
       "      <td>http://images.amazon.com/images/P/0060930535.0...</td>\n",
       "    </tr>\n",
       "    <tr>\n",
       "      <th>5</th>\n",
       "      <td>0316601950</td>\n",
       "      <td>0.336298</td>\n",
       "      <td>568</td>\n",
       "      <td>The Pilot's Wife : A Novel</td>\n",
       "      <td>Anita Shreve</td>\n",
       "      <td>1999</td>\n",
       "      <td>Back Bay Books</td>\n",
       "      <td>http://images.amazon.com/images/P/0316601950.0...</td>\n",
       "      <td>http://images.amazon.com/images/P/0316601950.0...</td>\n",
       "      <td>http://images.amazon.com/images/P/0316601950.0...</td>\n",
       "    </tr>\n",
       "    <tr>\n",
       "      <th>6</th>\n",
       "      <td>0345342968</td>\n",
       "      <td>0.322280</td>\n",
       "      <td>321</td>\n",
       "      <td>Fahrenheit 451</td>\n",
       "      <td>RAY BRADBURY</td>\n",
       "      <td>1987</td>\n",
       "      <td>Del Rey</td>\n",
       "      <td>http://images.amazon.com/images/P/0345342968.0...</td>\n",
       "      <td>http://images.amazon.com/images/P/0345342968.0...</td>\n",
       "      <td>http://images.amazon.com/images/P/0345342968.0...</td>\n",
       "    </tr>\n",
       "    <tr>\n",
       "      <th>7</th>\n",
       "      <td>0385265700</td>\n",
       "      <td>0.315475</td>\n",
       "      <td>319</td>\n",
       "      <td>The Book of Ruth (Oprah's Book Club (Paperback))</td>\n",
       "      <td>Jane Hamilton</td>\n",
       "      <td>1990</td>\n",
       "      <td>Anchor</td>\n",
       "      <td>http://images.amazon.com/images/P/0385265700.0...</td>\n",
       "      <td>http://images.amazon.com/images/P/0385265700.0...</td>\n",
       "      <td>http://images.amazon.com/images/P/0385265700.0...</td>\n",
       "    </tr>\n",
       "    <tr>\n",
       "      <th>8</th>\n",
       "      <td>0060934417</td>\n",
       "      <td>0.282490</td>\n",
       "      <td>350</td>\n",
       "      <td>Bel Canto: A Novel</td>\n",
       "      <td>Ann Patchett</td>\n",
       "      <td>2002</td>\n",
       "      <td>Perennial</td>\n",
       "      <td>http://images.amazon.com/images/P/0060934417.0...</td>\n",
       "      <td>http://images.amazon.com/images/P/0060934417.0...</td>\n",
       "      <td>http://images.amazon.com/images/P/0060934417.0...</td>\n",
       "    </tr>\n",
       "    <tr>\n",
       "      <th>9</th>\n",
       "      <td>0671021001</td>\n",
       "      <td>0.263316</td>\n",
       "      <td>468</td>\n",
       "      <td>She's Come Undone (Oprah's Book Club)</td>\n",
       "      <td>Wally Lamb</td>\n",
       "      <td>1998</td>\n",
       "      <td>Pocket</td>\n",
       "      <td>http://images.amazon.com/images/P/0671021001.0...</td>\n",
       "      <td>http://images.amazon.com/images/P/0671021001.0...</td>\n",
       "      <td>http://images.amazon.com/images/P/0671021001.0...</td>\n",
       "    </tr>\n",
       "  </tbody>\n",
       "</table>\n",
       "</div>"
      ],
      "text/plain": [
       "         ISBN  ...                                          imageUrlL\n",
       "0  0316666343  ...  http://images.amazon.com/images/P/0316666343.0...\n",
       "1  0446672211  ...  http://images.amazon.com/images/P/0446672211.0...\n",
       "2  0312291639  ...  http://images.amazon.com/images/P/0312291639.0...\n",
       "3  0446610038  ...  http://images.amazon.com/images/P/0446610038.0...\n",
       "4  0060930535  ...  http://images.amazon.com/images/P/0060930535.0...\n",
       "5  0316601950  ...  http://images.amazon.com/images/P/0316601950.0...\n",
       "6  0345342968  ...  http://images.amazon.com/images/P/0345342968.0...\n",
       "7  0385265700  ...  http://images.amazon.com/images/P/0385265700.0...\n",
       "8  0060934417  ...  http://images.amazon.com/images/P/0060934417.0...\n",
       "9  0671021001  ...  http://images.amazon.com/images/P/0671021001.0...\n",
       "\n",
       "[10 rows x 10 columns]"
      ]
     },
     "execution_count": 16,
     "metadata": {
      "tags": []
     },
     "output_type": "execute_result"
    }
   ],
   "source": [
    "recommendations.reset_index().merge(books,on=\"ISBN\")"
   ]
  },
  {
   "cell_type": "markdown",
   "metadata": {
    "colab_type": "text",
    "id": "jqR4svAxqzq4"
   },
   "source": [
    "# KNN item_based\n"
   ]
  },
  {
   "cell_type": "code",
   "execution_count": 17,
   "metadata": {
    "colab": {
     "base_uri": "https://localhost:8080/",
     "height": 195
    },
    "colab_type": "code",
    "executionInfo": {
     "elapsed": 99841,
     "status": "ok",
     "timestamp": 1581798115682,
     "user": {
      "displayName": "Prashant Arora",
      "photoUrl": "",
      "userId": "17509553824158463421"
     },
     "user_tz": -330
    },
    "id": "FJauIYhlqbUQ",
    "outputId": "8c29395e-0174-4e24-bc71-719c9230cb91"
   },
   "outputs": [
    {
     "data": {
      "text/html": [
       "<div>\n",
       "<style scoped>\n",
       "    .dataframe tbody tr th:only-of-type {\n",
       "        vertical-align: middle;\n",
       "    }\n",
       "\n",
       "    .dataframe tbody tr th {\n",
       "        vertical-align: top;\n",
       "    }\n",
       "\n",
       "    .dataframe thead th {\n",
       "        text-align: right;\n",
       "    }\n",
       "</style>\n",
       "<table border=\"1\" class=\"dataframe\">\n",
       "  <thead>\n",
       "    <tr style=\"text-align: right;\">\n",
       "      <th></th>\n",
       "      <th>userID</th>\n",
       "      <th>ISBN</th>\n",
       "      <th>bookRating</th>\n",
       "      <th>bookTitle</th>\n",
       "    </tr>\n",
       "  </thead>\n",
       "  <tbody>\n",
       "    <tr>\n",
       "      <th>0</th>\n",
       "      <td>276925</td>\n",
       "      <td>002542730X</td>\n",
       "      <td>10</td>\n",
       "      <td>Politically Correct Bedtime Stories: Modern Ta...</td>\n",
       "    </tr>\n",
       "    <tr>\n",
       "      <th>1</th>\n",
       "      <td>277427</td>\n",
       "      <td>002542730X</td>\n",
       "      <td>10</td>\n",
       "      <td>Politically Correct Bedtime Stories: Modern Ta...</td>\n",
       "    </tr>\n",
       "    <tr>\n",
       "      <th>2</th>\n",
       "      <td>3363</td>\n",
       "      <td>002542730X</td>\n",
       "      <td>0</td>\n",
       "      <td>Politically Correct Bedtime Stories: Modern Ta...</td>\n",
       "    </tr>\n",
       "    <tr>\n",
       "      <th>3</th>\n",
       "      <td>10030</td>\n",
       "      <td>002542730X</td>\n",
       "      <td>7</td>\n",
       "      <td>Politically Correct Bedtime Stories: Modern Ta...</td>\n",
       "    </tr>\n",
       "    <tr>\n",
       "      <th>4</th>\n",
       "      <td>11676</td>\n",
       "      <td>002542730X</td>\n",
       "      <td>6</td>\n",
       "      <td>Politically Correct Bedtime Stories: Modern Ta...</td>\n",
       "    </tr>\n",
       "  </tbody>\n",
       "</table>\n",
       "</div>"
      ],
      "text/plain": [
       "   userID  ...                                          bookTitle\n",
       "0  276925  ...  Politically Correct Bedtime Stories: Modern Ta...\n",
       "1  277427  ...  Politically Correct Bedtime Stories: Modern Ta...\n",
       "2    3363  ...  Politically Correct Bedtime Stories: Modern Ta...\n",
       "3   10030  ...  Politically Correct Bedtime Stories: Modern Ta...\n",
       "4   11676  ...  Politically Correct Bedtime Stories: Modern Ta...\n",
       "\n",
       "[5 rows x 4 columns]"
      ]
     },
     "execution_count": 17,
     "metadata": {
      "tags": []
     },
     "output_type": "execute_result"
    }
   ],
   "source": [
    "combine_book_rating = pd.merge(ratings, books, on='ISBN')\n",
    "columns = ['yearOfPublication', 'publisher', 'bookAuthor', 'imageUrlS', 'imageUrlM', 'imageUrlL']\n",
    "combine_book_rating = combine_book_rating.drop(columns, axis=1)\n",
    "combine_book_rating.head()"
   ]
  },
  {
   "cell_type": "code",
   "execution_count": 18,
   "metadata": {
    "colab": {
     "base_uri": "https://localhost:8080/",
     "height": 195
    },
    "colab_type": "code",
    "executionInfo": {
     "elapsed": 99830,
     "status": "ok",
     "timestamp": 1581798115683,
     "user": {
      "displayName": "Prashant Arora",
      "photoUrl": "",
      "userId": "17509553824158463421"
     },
     "user_tz": -330
    },
    "id": "QH91F1sLq28g",
    "outputId": "bee35acc-4be0-4fb2-8754-9494ca196d49"
   },
   "outputs": [
    {
     "data": {
      "text/html": [
       "<div>\n",
       "<style scoped>\n",
       "    .dataframe tbody tr th:only-of-type {\n",
       "        vertical-align: middle;\n",
       "    }\n",
       "\n",
       "    .dataframe tbody tr th {\n",
       "        vertical-align: top;\n",
       "    }\n",
       "\n",
       "    .dataframe thead th {\n",
       "        text-align: right;\n",
       "    }\n",
       "</style>\n",
       "<table border=\"1\" class=\"dataframe\">\n",
       "  <thead>\n",
       "    <tr style=\"text-align: right;\">\n",
       "      <th></th>\n",
       "      <th>bookTitle</th>\n",
       "      <th>totalRatingCount</th>\n",
       "    </tr>\n",
       "  </thead>\n",
       "  <tbody>\n",
       "    <tr>\n",
       "      <th>0</th>\n",
       "      <td>A Light in the Storm: The Civil War Diary of ...</td>\n",
       "      <td>3</td>\n",
       "    </tr>\n",
       "    <tr>\n",
       "      <th>1</th>\n",
       "      <td>Always Have Popsicles</td>\n",
       "      <td>1</td>\n",
       "    </tr>\n",
       "    <tr>\n",
       "      <th>2</th>\n",
       "      <td>Apple Magic (The Collector's series)</td>\n",
       "      <td>1</td>\n",
       "    </tr>\n",
       "    <tr>\n",
       "      <th>3</th>\n",
       "      <td>Beyond IBM: Leadership Marketing and Finance ...</td>\n",
       "      <td>1</td>\n",
       "    </tr>\n",
       "    <tr>\n",
       "      <th>4</th>\n",
       "      <td>Clifford Visita El Hospital (Clifford El Gran...</td>\n",
       "      <td>1</td>\n",
       "    </tr>\n",
       "  </tbody>\n",
       "</table>\n",
       "</div>"
      ],
      "text/plain": [
       "                                           bookTitle  totalRatingCount\n",
       "0   A Light in the Storm: The Civil War Diary of ...                 3\n",
       "1                              Always Have Popsicles                 1\n",
       "2               Apple Magic (The Collector's series)                 1\n",
       "3   Beyond IBM: Leadership Marketing and Finance ...                 1\n",
       "4   Clifford Visita El Hospital (Clifford El Gran...                 1"
      ]
     },
     "execution_count": 18,
     "metadata": {
      "tags": []
     },
     "output_type": "execute_result"
    }
   ],
   "source": [
    "combine_book_rating = combine_book_rating.dropna(axis = 0, subset = ['bookTitle'])\n",
    "\n",
    "book_ratingCount = (combine_book_rating.\n",
    "     groupby(by = ['bookTitle'])['bookRating'].\n",
    "     count().\n",
    "     reset_index().\n",
    "     rename(columns = {'bookRating': 'totalRatingCount'})\n",
    "     [['bookTitle', 'totalRatingCount']]\n",
    "    )\n",
    "book_ratingCount.head()"
   ]
  },
  {
   "cell_type": "code",
   "execution_count": 19,
   "metadata": {
    "colab": {
     "base_uri": "https://localhost:8080/",
     "height": 195
    },
    "colab_type": "code",
    "executionInfo": {
     "elapsed": 100189,
     "status": "ok",
     "timestamp": 1581798116059,
     "user": {
      "displayName": "Prashant Arora",
      "photoUrl": "",
      "userId": "17509553824158463421"
     },
     "user_tz": -330
    },
    "id": "qjrXZiDNrfjX",
    "outputId": "887e5a36-779e-4b83-e5c5-42299a3e8df2"
   },
   "outputs": [
    {
     "data": {
      "text/html": [
       "<div>\n",
       "<style scoped>\n",
       "    .dataframe tbody tr th:only-of-type {\n",
       "        vertical-align: middle;\n",
       "    }\n",
       "\n",
       "    .dataframe tbody tr th {\n",
       "        vertical-align: top;\n",
       "    }\n",
       "\n",
       "    .dataframe thead th {\n",
       "        text-align: right;\n",
       "    }\n",
       "</style>\n",
       "<table border=\"1\" class=\"dataframe\">\n",
       "  <thead>\n",
       "    <tr style=\"text-align: right;\">\n",
       "      <th></th>\n",
       "      <th>userID</th>\n",
       "      <th>ISBN</th>\n",
       "      <th>bookRating</th>\n",
       "      <th>bookTitle</th>\n",
       "      <th>totalRatingCount</th>\n",
       "    </tr>\n",
       "  </thead>\n",
       "  <tbody>\n",
       "    <tr>\n",
       "      <th>0</th>\n",
       "      <td>276925</td>\n",
       "      <td>002542730X</td>\n",
       "      <td>10</td>\n",
       "      <td>Politically Correct Bedtime Stories: Modern Ta...</td>\n",
       "      <td>105</td>\n",
       "    </tr>\n",
       "    <tr>\n",
       "      <th>1</th>\n",
       "      <td>277427</td>\n",
       "      <td>002542730X</td>\n",
       "      <td>10</td>\n",
       "      <td>Politically Correct Bedtime Stories: Modern Ta...</td>\n",
       "      <td>105</td>\n",
       "    </tr>\n",
       "    <tr>\n",
       "      <th>2</th>\n",
       "      <td>3363</td>\n",
       "      <td>002542730X</td>\n",
       "      <td>0</td>\n",
       "      <td>Politically Correct Bedtime Stories: Modern Ta...</td>\n",
       "      <td>105</td>\n",
       "    </tr>\n",
       "    <tr>\n",
       "      <th>3</th>\n",
       "      <td>10030</td>\n",
       "      <td>002542730X</td>\n",
       "      <td>7</td>\n",
       "      <td>Politically Correct Bedtime Stories: Modern Ta...</td>\n",
       "      <td>105</td>\n",
       "    </tr>\n",
       "    <tr>\n",
       "      <th>4</th>\n",
       "      <td>11676</td>\n",
       "      <td>002542730X</td>\n",
       "      <td>6</td>\n",
       "      <td>Politically Correct Bedtime Stories: Modern Ta...</td>\n",
       "      <td>105</td>\n",
       "    </tr>\n",
       "  </tbody>\n",
       "</table>\n",
       "</div>"
      ],
      "text/plain": [
       "   userID  ... totalRatingCount\n",
       "0  276925  ...              105\n",
       "1  277427  ...              105\n",
       "2    3363  ...              105\n",
       "3   10030  ...              105\n",
       "4   11676  ...              105\n",
       "\n",
       "[5 rows x 5 columns]"
      ]
     },
     "execution_count": 19,
     "metadata": {
      "tags": []
     },
     "output_type": "execute_result"
    }
   ],
   "source": [
    "rating_with_totalRatingCount = combine_book_rating.merge(book_ratingCount, left_on = 'bookTitle', right_on = 'bookTitle', how = 'left')\n",
    "rating_with_totalRatingCount.head()"
   ]
  },
  {
   "cell_type": "code",
   "execution_count": 20,
   "metadata": {
    "colab": {
     "base_uri": "https://localhost:8080/",
     "height": 168
    },
    "colab_type": "code",
    "executionInfo": {
     "elapsed": 100168,
     "status": "ok",
     "timestamp": 1581798116060,
     "user": {
      "displayName": "Prashant Arora",
      "photoUrl": "",
      "userId": "17509553824158463421"
     },
     "user_tz": -330
    },
    "id": "vkV915_arjuE",
    "outputId": "92a47274-8cfc-4677-a407-44e83d3e3dae"
   },
   "outputs": [
    {
     "name": "stdout",
     "output_type": "stream",
     "text": [
      "count   182491.000\n",
      "mean         3.323\n",
      "std          9.138\n",
      "min          1.000\n",
      "25%          1.000\n",
      "50%          1.000\n",
      "75%          3.000\n",
      "max        617.000\n",
      "Name: totalRatingCount, dtype: float64\n"
     ]
    }
   ],
   "source": [
    "pd.set_option('display.float_format', lambda x: '%.3f' % x)\n",
    "print(book_ratingCount['totalRatingCount'].describe())"
   ]
  },
  {
   "cell_type": "code",
   "execution_count": 21,
   "metadata": {
    "colab": {
     "base_uri": "https://localhost:8080/",
     "height": 202
    },
    "colab_type": "code",
    "executionInfo": {
     "elapsed": 100150,
     "status": "ok",
     "timestamp": 1581798116061,
     "user": {
      "displayName": "Prashant Arora",
      "photoUrl": "",
      "userId": "17509553824158463421"
     },
     "user_tz": -330
    },
    "id": "OiDa36BrrmnN",
    "outputId": "239aa462-c39c-4788-fcf6-8f6d9067251c"
   },
   "outputs": [
    {
     "name": "stdout",
     "output_type": "stream",
     "text": [
      "0.900    6.000\n",
      "0.910    6.000\n",
      "0.920    7.000\n",
      "0.930    8.000\n",
      "0.940    9.000\n",
      "0.950   10.000\n",
      "0.960   12.000\n",
      "0.970   16.000\n",
      "0.980   22.000\n",
      "0.990   35.000\n",
      "Name: totalRatingCount, dtype: float64\n"
     ]
    }
   ],
   "source": [
    "print(book_ratingCount['totalRatingCount'].quantile(np.arange(.9, 1, .01)))"
   ]
  },
  {
   "cell_type": "code",
   "execution_count": 22,
   "metadata": {
    "colab": {
     "base_uri": "https://localhost:8080/",
     "height": 285
    },
    "colab_type": "code",
    "executionInfo": {
     "elapsed": 102181,
     "status": "ok",
     "timestamp": 1581798118113,
     "user": {
      "displayName": "Prashant Arora",
      "photoUrl": "",
      "userId": "17509553824158463421"
     },
     "user_tz": -330
    },
    "id": "oD93fB6WG8ej",
    "outputId": "73cb4100-2ac8-4c01-d1a7-e0d5d19cccd8"
   },
   "outputs": [
    {
     "data": {
      "text/plain": [
       "<matplotlib.axes._subplots.AxesSubplot at 0x7f43a9e7a470>"
      ]
     },
     "execution_count": 22,
     "metadata": {
      "tags": []
     },
     "output_type": "execute_result"
    },
    {
     "data": {
      "image/png": "[encoded data removed]",
      "text/plain": [
       "<Figure size 432x288 with 1 Axes>"
      ]
     },
     "metadata": {
      "tags": []
     },
     "output_type": "display_data"
    }
   ],
   "source": [
    "rating_with_totalRatingCount.totalRatingCount.hist(bins=[1,10,20,50,100,150,200,300])"
   ]
  },
  {
   "cell_type": "code",
   "execution_count": 23,
   "metadata": {
    "colab": {
     "base_uri": "https://localhost:8080/",
     "height": 195
    },
    "colab_type": "code",
    "executionInfo": {
     "elapsed": 102166,
     "status": "ok",
     "timestamp": 1581798118114,
     "user": {
      "displayName": "Prashant Arora",
      "photoUrl": "",
      "userId": "17509553824158463421"
     },
     "user_tz": -330
    },
    "id": "wtH6FEuOrqoA",
    "outputId": "f5167bee-61a5-4382-c908-2947a2ac8246"
   },
   "outputs": [
    {
     "data": {
      "text/html": [
       "<div>\n",
       "<style scoped>\n",
       "    .dataframe tbody tr th:only-of-type {\n",
       "        vertical-align: middle;\n",
       "    }\n",
       "\n",
       "    .dataframe tbody tr th {\n",
       "        vertical-align: top;\n",
       "    }\n",
       "\n",
       "    .dataframe thead th {\n",
       "        text-align: right;\n",
       "    }\n",
       "</style>\n",
       "<table border=\"1\" class=\"dataframe\">\n",
       "  <thead>\n",
       "    <tr style=\"text-align: right;\">\n",
       "      <th></th>\n",
       "      <th>userID</th>\n",
       "      <th>ISBN</th>\n",
       "      <th>bookRating</th>\n",
       "      <th>bookTitle</th>\n",
       "      <th>totalRatingCount</th>\n",
       "    </tr>\n",
       "  </thead>\n",
       "  <tbody>\n",
       "    <tr>\n",
       "      <th>0</th>\n",
       "      <td>276925</td>\n",
       "      <td>002542730X</td>\n",
       "      <td>10</td>\n",
       "      <td>Politically Correct Bedtime Stories: Modern Ta...</td>\n",
       "      <td>105</td>\n",
       "    </tr>\n",
       "    <tr>\n",
       "      <th>1</th>\n",
       "      <td>277427</td>\n",
       "      <td>002542730X</td>\n",
       "      <td>10</td>\n",
       "      <td>Politically Correct Bedtime Stories: Modern Ta...</td>\n",
       "      <td>105</td>\n",
       "    </tr>\n",
       "    <tr>\n",
       "      <th>2</th>\n",
       "      <td>3363</td>\n",
       "      <td>002542730X</td>\n",
       "      <td>0</td>\n",
       "      <td>Politically Correct Bedtime Stories: Modern Ta...</td>\n",
       "      <td>105</td>\n",
       "    </tr>\n",
       "    <tr>\n",
       "      <th>3</th>\n",
       "      <td>10030</td>\n",
       "      <td>002542730X</td>\n",
       "      <td>7</td>\n",
       "      <td>Politically Correct Bedtime Stories: Modern Ta...</td>\n",
       "      <td>105</td>\n",
       "    </tr>\n",
       "    <tr>\n",
       "      <th>4</th>\n",
       "      <td>11676</td>\n",
       "      <td>002542730X</td>\n",
       "      <td>6</td>\n",
       "      <td>Politically Correct Bedtime Stories: Modern Ta...</td>\n",
       "      <td>105</td>\n",
       "    </tr>\n",
       "  </tbody>\n",
       "</table>\n",
       "</div>"
      ],
      "text/plain": [
       "   userID  ... totalRatingCount\n",
       "0  276925  ...              105\n",
       "1  277427  ...              105\n",
       "2    3363  ...              105\n",
       "3   10030  ...              105\n",
       "4   11676  ...              105\n",
       "\n",
       "[5 rows x 5 columns]"
      ]
     },
     "execution_count": 23,
     "metadata": {
      "tags": []
     },
     "output_type": "execute_result"
    }
   ],
   "source": [
    "popularity_threshold = 50\n",
    "rating_popular_book = rating_with_totalRatingCount.query('totalRatingCount >= @popularity_threshold')\n",
    "rating_popular_book.head()"
   ]
  },
  {
   "cell_type": "code",
   "execution_count": 24,
   "metadata": {
    "colab": {
     "base_uri": "https://localhost:8080/",
     "height": 195
    },
    "colab_type": "code",
    "executionInfo": {
     "elapsed": 102150,
     "status": "ok",
     "timestamp": 1581798118115,
     "user": {
      "displayName": "Prashant Arora",
      "photoUrl": "",
      "userId": "17509553824158463421"
     },
     "user_tz": -330
    },
    "id": "iTIaLcvcr2If",
    "outputId": "7c1c4154-e4ec-4cf4-827e-923f92686015"
   },
   "outputs": [
    {
     "data": {
      "text/html": [
       "<div>\n",
       "<style scoped>\n",
       "    .dataframe tbody tr th:only-of-type {\n",
       "        vertical-align: middle;\n",
       "    }\n",
       "\n",
       "    .dataframe tbody tr th {\n",
       "        vertical-align: top;\n",
       "    }\n",
       "\n",
       "    .dataframe thead th {\n",
       "        text-align: right;\n",
       "    }\n",
       "</style>\n",
       "<table border=\"1\" class=\"dataframe\">\n",
       "  <thead>\n",
       "    <tr style=\"text-align: right;\">\n",
       "      <th></th>\n",
       "      <th>userID</th>\n",
       "      <th>ISBN</th>\n",
       "      <th>bookRating</th>\n",
       "      <th>bookTitle</th>\n",
       "      <th>totalRatingCount</th>\n",
       "      <th>Location</th>\n",
       "    </tr>\n",
       "  </thead>\n",
       "  <tbody>\n",
       "    <tr>\n",
       "      <th>1</th>\n",
       "      <td>277427</td>\n",
       "      <td>002542730X</td>\n",
       "      <td>10</td>\n",
       "      <td>Politically Correct Bedtime Stories: Modern Ta...</td>\n",
       "      <td>105</td>\n",
       "      <td>gilbert, arizona, usa</td>\n",
       "    </tr>\n",
       "    <tr>\n",
       "      <th>2</th>\n",
       "      <td>3363</td>\n",
       "      <td>002542730X</td>\n",
       "      <td>0</td>\n",
       "      <td>Politically Correct Bedtime Stories: Modern Ta...</td>\n",
       "      <td>105</td>\n",
       "      <td>knoxville, tennessee, usa</td>\n",
       "    </tr>\n",
       "    <tr>\n",
       "      <th>3</th>\n",
       "      <td>10030</td>\n",
       "      <td>002542730X</td>\n",
       "      <td>7</td>\n",
       "      <td>Politically Correct Bedtime Stories: Modern Ta...</td>\n",
       "      <td>105</td>\n",
       "      <td>pittsburgh, pennsylvania, usa</td>\n",
       "    </tr>\n",
       "    <tr>\n",
       "      <th>5</th>\n",
       "      <td>12538</td>\n",
       "      <td>002542730X</td>\n",
       "      <td>10</td>\n",
       "      <td>Politically Correct Bedtime Stories: Modern Ta...</td>\n",
       "      <td>105</td>\n",
       "      <td>byron, minnesota, usa</td>\n",
       "    </tr>\n",
       "    <tr>\n",
       "      <th>6</th>\n",
       "      <td>13552</td>\n",
       "      <td>002542730X</td>\n",
       "      <td>0</td>\n",
       "      <td>Politically Correct Bedtime Stories: Modern Ta...</td>\n",
       "      <td>105</td>\n",
       "      <td>cordova, tennessee, usa</td>\n",
       "    </tr>\n",
       "  </tbody>\n",
       "</table>\n",
       "</div>"
      ],
      "text/plain": [
       "   userID        ISBN  ...  totalRatingCount                       Location\n",
       "1  277427  002542730X  ...               105          gilbert, arizona, usa\n",
       "2    3363  002542730X  ...               105      knoxville, tennessee, usa\n",
       "3   10030  002542730X  ...               105  pittsburgh, pennsylvania, usa\n",
       "5   12538  002542730X  ...               105          byron, minnesota, usa\n",
       "6   13552  002542730X  ...               105        cordova, tennessee, usa\n",
       "\n",
       "[5 rows x 6 columns]"
      ]
     },
     "execution_count": 24,
     "metadata": {
      "tags": []
     },
     "output_type": "execute_result"
    }
   ],
   "source": [
    "combined = rating_popular_book.merge(users, left_on = 'userID', right_on = 'userID', how = 'left')\n",
    "\n",
    "us_canada_user_rating = combined[combined['Location'].str.contains(\"usa|canada|australia|france\")]\n",
    "us_canada_user_rating = us_canada_user_rating.drop('Age', axis=1)\n",
    "us_canada_user_rating.head()"
   ]
  },
  {
   "cell_type": "code",
   "execution_count": 25,
   "metadata": {
    "colab": {
     "base_uri": "https://localhost:8080/",
     "height": 67
    },
    "colab_type": "code",
    "executionInfo": {
     "elapsed": 102134,
     "status": "ok",
     "timestamp": 1581798118115,
     "user": {
      "displayName": "Prashant Arora",
      "photoUrl": "",
      "userId": "17509553824158463421"
     },
     "user_tz": -330
    },
    "id": "HRZt-hzYr47K",
    "outputId": "3520b3dc-a146-4987-ec63-e44e93310101"
   },
   "outputs": [
    {
     "data": {
      "text/plain": [
       "NearestNeighbors(algorithm='brute', leaf_size=30, metric='cosine',\n",
       "                 metric_params=None, n_jobs=None, n_neighbors=5, p=2,\n",
       "                 radius=1.0)"
      ]
     },
     "execution_count": 25,
     "metadata": {
      "tags": []
     },
     "output_type": "execute_result"
    }
   ],
   "source": [
    "from sklearn.metrics.pairwise import csr_matrix\n",
    "\n",
    "us_canada_user_rating = us_canada_user_rating.drop_duplicates(['userID', 'bookTitle'])\n",
    "us_canada_user_rating_pivot = us_canada_user_rating.pivot(index = 'bookTitle', columns = 'userID', values = 'bookRating').fillna(0)\n",
    "us_canada_user_rating_matrix = csr_matrix(us_canada_user_rating_pivot.values)\n",
    "\n",
    "from sklearn.neighbors import NearestNeighbors\n",
    "\n",
    "model_knn = NearestNeighbors(metric = 'cosine', algorithm = 'brute',)\n",
    "model_knn.fit(us_canada_user_rating_matrix)"
   ]
  },
  {
   "cell_type": "code",
   "execution_count": 26,
   "metadata": {
    "colab": {
     "base_uri": "https://localhost:8080/",
     "height": 286
    },
    "colab_type": "code",
    "executionInfo": {
     "elapsed": 102115,
     "status": "ok",
     "timestamp": 1581798118116,
     "user": {
      "displayName": "Prashant Arora",
      "photoUrl": "",
      "userId": "17509553824158463421"
     },
     "user_tz": -330
    },
    "id": "1sbL_bqgr6aa",
    "outputId": "f8d27dfe-0481-4320-ba81-1691b6abd67b"
   },
   "outputs": [
    {
     "name": "stdout",
     "output_type": "stream",
     "text": [
      "Recommendations for No Greater Love:\n",
      "\n",
      "1: Changes, with distance of 0.4716340996133853:\n",
      "2: Jewels, with distance of 0.4969091355472932:\n",
      "3: Heartbeat, with distance of 0.573423201123213:\n",
      "4: Full Circle, with distance of 0.5850807937849627:\n",
      "5: Message from Nam, with distance of 0.5854282270205484:\n",
      "6: Thurston House, with distance of 0.5875628850873684:\n",
      "7: Silent Honor, with distance of 0.5943201479731025:\n",
      "8: The Long Road Home, with distance of 0.6190303411202703:\n",
      "9: Wanderlust, with distance of 0.6622161738452843:\n",
      "10: Twilight's Child (Cutler), with distance of 0.6859168538264666:\n",
      "11: Dawn (Cutler), with distance of 0.6904605523477572:\n",
      "12: Palomino, with distance of 0.6936020407201933:\n",
      "13: Daddy, with distance of 0.6957748952980873:\n",
      "14: Five Days in Paris, with distance of 0.7025400533597467:\n"
     ]
    }
   ],
   "source": [
    "query_index = np.random.choice(us_canada_user_rating_pivot.shape[0])\n",
    "distances, indices = model_knn.kneighbors([us_canada_user_rating_pivot.iloc[query_index, :]], n_neighbors = 15)\n",
    "\n",
    "f={}\n",
    "for i in range(0, len(distances.flatten())):\n",
    "    if i == 0:\n",
    "      print('Recommendations for {0}:\\n'.format(us_canada_user_rating_pivot.index[query_index]))\n",
    "    else:\n",
    "      f[us_canada_user_rating_pivot.index[indices.flatten()[i]]] = distances.flatten()[i]\n",
    "      print('{0}: {1}, with distance of {2}:'.format(i, us_canada_user_rating_pivot.index[indices.flatten()[i]], distances.flatten()[i]))\n"
   ]
  },
  {
   "cell_type": "code",
   "execution_count": 27,
   "metadata": {
    "colab": {
     "base_uri": "https://localhost:8080/",
     "height": 750
    },
    "colab_type": "code",
    "executionInfo": {
     "elapsed": 102100,
     "status": "ok",
     "timestamp": 1581798118117,
     "user": {
      "displayName": "Prashant Arora",
      "photoUrl": "",
      "userId": "17509553824158463421"
     },
     "user_tz": -330
    },
    "id": "f_oJy_3nKUs_",
    "outputId": "3f5c5880-0a60-45d9-ea9a-f62362606f5c"
   },
   "outputs": [
    {
     "data": {
      "text/html": [
       "<div>\n",
       "<style scoped>\n",
       "    .dataframe tbody tr th:only-of-type {\n",
       "        vertical-align: middle;\n",
       "    }\n",
       "\n",
       "    .dataframe tbody tr th {\n",
       "        vertical-align: top;\n",
       "    }\n",
       "\n",
       "    .dataframe thead th {\n",
       "        text-align: right;\n",
       "    }\n",
       "</style>\n",
       "<table border=\"1\" class=\"dataframe\">\n",
       "  <thead>\n",
       "    <tr style=\"text-align: right;\">\n",
       "      <th></th>\n",
       "      <th>ISBN</th>\n",
       "      <th>bookTitle</th>\n",
       "      <th>bookAuthor</th>\n",
       "      <th>yearOfPublication</th>\n",
       "      <th>publisher</th>\n",
       "      <th>imageUrlS</th>\n",
       "      <th>imageUrlM</th>\n",
       "      <th>imageUrlL</th>\n",
       "      <th>recommendation_metric</th>\n",
       "    </tr>\n",
       "  </thead>\n",
       "  <tbody>\n",
       "    <tr>\n",
       "      <th>3846</th>\n",
       "      <td>0440111811</td>\n",
       "      <td>Changes</td>\n",
       "      <td>Danielle Steel</td>\n",
       "      <td>1984</td>\n",
       "      <td>Dell</td>\n",
       "      <td>http://images.amazon.com/images/P/0440111811.0...</td>\n",
       "      <td>http://images.amazon.com/images/P/0440111811.0...</td>\n",
       "      <td>http://images.amazon.com/images/P/0440111811.0...</td>\n",
       "      <td>0.472</td>\n",
       "    </tr>\n",
       "    <tr>\n",
       "      <th>31390</th>\n",
       "      <td>044021422X</td>\n",
       "      <td>Jewels</td>\n",
       "      <td>Danielle Steel</td>\n",
       "      <td>1993</td>\n",
       "      <td>Dell</td>\n",
       "      <td>http://images.amazon.com/images/P/044021422X.0...</td>\n",
       "      <td>http://images.amazon.com/images/P/044021422X.0...</td>\n",
       "      <td>http://images.amazon.com/images/P/044021422X.0...</td>\n",
       "      <td>0.497</td>\n",
       "    </tr>\n",
       "    <tr>\n",
       "      <th>20124</th>\n",
       "      <td>0385299087</td>\n",
       "      <td>Heartbeat</td>\n",
       "      <td>Danielle Steel</td>\n",
       "      <td>1991</td>\n",
       "      <td>Delacorte Press</td>\n",
       "      <td>http://images.amazon.com/images/P/0385299087.0...</td>\n",
       "      <td>http://images.amazon.com/images/P/0385299087.0...</td>\n",
       "      <td>http://images.amazon.com/images/P/0385299087.0...</td>\n",
       "      <td>0.573</td>\n",
       "    </tr>\n",
       "    <tr>\n",
       "      <th>22352</th>\n",
       "      <td>0440126894</td>\n",
       "      <td>Full Circle</td>\n",
       "      <td>Danielle Steel</td>\n",
       "      <td>1985</td>\n",
       "      <td>Dell</td>\n",
       "      <td>http://images.amazon.com/images/P/0440126894.0...</td>\n",
       "      <td>http://images.amazon.com/images/P/0440126894.0...</td>\n",
       "      <td>http://images.amazon.com/images/P/0440126894.0...</td>\n",
       "      <td>0.585</td>\n",
       "    </tr>\n",
       "    <tr>\n",
       "      <th>17698</th>\n",
       "      <td>0440209412</td>\n",
       "      <td>Message from Nam</td>\n",
       "      <td>Danielle Steel</td>\n",
       "      <td>1991</td>\n",
       "      <td>Dell</td>\n",
       "      <td>http://images.amazon.com/images/P/0440209412.0...</td>\n",
       "      <td>http://images.amazon.com/images/P/0440209412.0...</td>\n",
       "      <td>http://images.amazon.com/images/P/0440209412.0...</td>\n",
       "      <td>0.585</td>\n",
       "    </tr>\n",
       "    <tr>\n",
       "      <th>22007</th>\n",
       "      <td>0440185327</td>\n",
       "      <td>Thurston House</td>\n",
       "      <td>Danielle Steel</td>\n",
       "      <td>1984</td>\n",
       "      <td>Dell</td>\n",
       "      <td>http://images.amazon.com/images/P/0440185327.0...</td>\n",
       "      <td>http://images.amazon.com/images/P/0440185327.0...</td>\n",
       "      <td>http://images.amazon.com/images/P/0440185327.0...</td>\n",
       "      <td>0.588</td>\n",
       "    </tr>\n",
       "    <tr>\n",
       "      <th>2741</th>\n",
       "      <td>0440224055</td>\n",
       "      <td>Silent Honor</td>\n",
       "      <td>Danielle Steel</td>\n",
       "      <td>1997</td>\n",
       "      <td>Dell</td>\n",
       "      <td>http://images.amazon.com/images/P/0440224055.0...</td>\n",
       "      <td>http://images.amazon.com/images/P/0440224055.0...</td>\n",
       "      <td>http://images.amazon.com/images/P/0440224055.0...</td>\n",
       "      <td>0.594</td>\n",
       "    </tr>\n",
       "    <tr>\n",
       "      <th>12386</th>\n",
       "      <td>0385319568</td>\n",
       "      <td>The Long Road Home</td>\n",
       "      <td>DANIELLE STEEL</td>\n",
       "      <td>1998</td>\n",
       "      <td>Delacorte Press</td>\n",
       "      <td>http://images.amazon.com/images/P/0385319568.0...</td>\n",
       "      <td>http://images.amazon.com/images/P/0385319568.0...</td>\n",
       "      <td>http://images.amazon.com/images/P/0385319568.0...</td>\n",
       "      <td>0.619</td>\n",
       "    </tr>\n",
       "    <tr>\n",
       "      <th>9263</th>\n",
       "      <td>0440193613</td>\n",
       "      <td>Wanderlust</td>\n",
       "      <td>Danielle Steel</td>\n",
       "      <td>1987</td>\n",
       "      <td>Dell</td>\n",
       "      <td>http://images.amazon.com/images/P/0440193613.0...</td>\n",
       "      <td>http://images.amazon.com/images/P/0440193613.0...</td>\n",
       "      <td>http://images.amazon.com/images/P/0440193613.0...</td>\n",
       "      <td>0.662</td>\n",
       "    </tr>\n",
       "    <tr>\n",
       "      <th>5605</th>\n",
       "      <td>0671695142</td>\n",
       "      <td>Twilight's Child (Cutler)</td>\n",
       "      <td>V.C. Andrews</td>\n",
       "      <td>1992</td>\n",
       "      <td>Pocket</td>\n",
       "      <td>http://images.amazon.com/images/P/0671695142.0...</td>\n",
       "      <td>http://images.amazon.com/images/P/0671695142.0...</td>\n",
       "      <td>http://images.amazon.com/images/P/0671695142.0...</td>\n",
       "      <td>0.686</td>\n",
       "    </tr>\n",
       "    <tr>\n",
       "      <th>6984</th>\n",
       "      <td>0671670689</td>\n",
       "      <td>Dawn (Cutler)</td>\n",
       "      <td>V.C. Andrews</td>\n",
       "      <td>1990</td>\n",
       "      <td>Pocket</td>\n",
       "      <td>http://images.amazon.com/images/P/0671670689.0...</td>\n",
       "      <td>http://images.amazon.com/images/P/0671670689.0...</td>\n",
       "      <td>http://images.amazon.com/images/P/0671670689.0...</td>\n",
       "      <td>0.690</td>\n",
       "    </tr>\n",
       "    <tr>\n",
       "      <th>26127</th>\n",
       "      <td>0440167531</td>\n",
       "      <td>Palomino</td>\n",
       "      <td>DANIELLE STEEL</td>\n",
       "      <td>1985</td>\n",
       "      <td>Dell</td>\n",
       "      <td>http://images.amazon.com/images/P/0440167531.0...</td>\n",
       "      <td>http://images.amazon.com/images/P/0440167531.0...</td>\n",
       "      <td>http://images.amazon.com/images/P/0440167531.0...</td>\n",
       "      <td>0.694</td>\n",
       "    </tr>\n",
       "    <tr>\n",
       "      <th>8123</th>\n",
       "      <td>0440207622</td>\n",
       "      <td>Daddy</td>\n",
       "      <td>DANIELLE STEEL</td>\n",
       "      <td>1990</td>\n",
       "      <td>Dell</td>\n",
       "      <td>http://images.amazon.com/images/P/0440207622.0...</td>\n",
       "      <td>http://images.amazon.com/images/P/0440207622.0...</td>\n",
       "      <td>http://images.amazon.com/images/P/0440207622.0...</td>\n",
       "      <td>0.696</td>\n",
       "    </tr>\n",
       "    <tr>\n",
       "      <th>9500</th>\n",
       "      <td>0440222842</td>\n",
       "      <td>Five Days in Paris</td>\n",
       "      <td>DANIELLE STEEL</td>\n",
       "      <td>1997</td>\n",
       "      <td>Dell</td>\n",
       "      <td>http://images.amazon.com/images/P/0440222842.0...</td>\n",
       "      <td>http://images.amazon.com/images/P/0440222842.0...</td>\n",
       "      <td>http://images.amazon.com/images/P/0440222842.0...</td>\n",
       "      <td>0.703</td>\n",
       "    </tr>\n",
       "  </tbody>\n",
       "</table>\n",
       "</div>"
      ],
      "text/plain": [
       "             ISBN  ... recommendation_metric\n",
       "3846   0440111811  ...                 0.472\n",
       "31390  044021422X  ...                 0.497\n",
       "20124  0385299087  ...                 0.573\n",
       "22352  0440126894  ...                 0.585\n",
       "17698  0440209412  ...                 0.585\n",
       "22007  0440185327  ...                 0.588\n",
       "2741   0440224055  ...                 0.594\n",
       "12386  0385319568  ...                 0.619\n",
       "9263   0440193613  ...                 0.662\n",
       "5605   0671695142  ...                 0.686\n",
       "6984   0671670689  ...                 0.690\n",
       "26127  0440167531  ...                 0.694\n",
       "8123   0440207622  ...                 0.696\n",
       "9500   0440222842  ...                 0.703\n",
       "\n",
       "[14 rows x 9 columns]"
      ]
     },
     "execution_count": 27,
     "metadata": {
      "tags": []
     },
     "output_type": "execute_result"
    }
   ],
   "source": [
    "h = books[books.bookTitle.isin(us_canada_user_rating_pivot.index[indices.flatten()][1:])].drop_duplicates(\"bookTitle\")\n",
    "h['recommendation_metric'] = h.apply(lambda x:f[x.bookTitle],axis=1)\n",
    "h.sort_values(by=\"recommendation_metric\",ascending=True)"
   ]
  },
  {
   "cell_type": "markdown",
   "metadata": {
    "colab_type": "text",
    "id": "xrFkUEXXv29i"
   },
   "source": [
    "# Tensorflow try"
   ]
  },
  {
   "cell_type": "code",
   "execution_count": 28,
   "metadata": {
    "colab": {
     "base_uri": "https://localhost:8080/",
     "height": 183
    },
    "colab_type": "code",
    "executionInfo": {
     "elapsed": 106216,
     "status": "ok",
     "timestamp": 1581798122246,
     "user": {
      "displayName": "Prashant Arora",
      "photoUrl": "",
      "userId": "17509553824158463421"
     },
     "user_tz": -330
    },
    "id": "4gN4G9CVemFi",
    "outputId": "7a96ce73-1710-4dc6-b5ba-183624e4d243"
   },
   "outputs": [
    {
     "data": {
      "text/html": [
       "<p style=\"color: red;\">\n",
       "The default version of TensorFlow in Colab will soon switch to TensorFlow 2.x.<br>\n",
       "We recommend you <a href=\"https://www.tensorflow.org/guide/migrate\" target=\"_blank\">upgrade</a> now \n",
       "or ensure your notebook will continue to use TensorFlow 1.x via the <code>%tensorflow_version 1.x</code> magic:\n",
       "<a href=\"https://colab.research.google.com/notebooks/tensorflow_version.ipynb\" target=\"_blank\">more info</a>.</p>\n"
      ],
      "text/plain": [
       "<IPython.core.display.HTML object>"
      ]
     },
     "metadata": {
      "tags": []
     },
     "output_type": "display_data"
    },
    {
     "name": "stderr",
     "output_type": "stream",
     "text": [
      "b'Skipping line 6452: expected 8 fields, saw 9\\nSkipping line 43667: expected 8 fields, saw 10\\nSkipping line 51751: expected 8 fields, saw 9\\n'\n",
      "b'Skipping line 92038: expected 8 fields, saw 9\\nSkipping line 104319: expected 8 fields, saw 9\\nSkipping line 121768: expected 8 fields, saw 9\\n'\n",
      "b'Skipping line 144058: expected 8 fields, saw 9\\nSkipping line 150789: expected 8 fields, saw 9\\nSkipping line 157128: expected 8 fields, saw 9\\nSkipping line 180189: expected 8 fields, saw 9\\nSkipping line 185738: expected 8 fields, saw 9\\n'\n",
      "b'Skipping line 209388: expected 8 fields, saw 9\\nSkipping line 220626: expected 8 fields, saw 9\\nSkipping line 227933: expected 8 fields, saw 11\\nSkipping line 228957: expected 8 fields, saw 10\\nSkipping line 245933: expected 8 fields, saw 9\\nSkipping line 251296: expected 8 fields, saw 9\\nSkipping line 259941: expected 8 fields, saw 9\\nSkipping line 261529: expected 8 fields, saw 9\\n'\n",
      "/usr/local/lib/python3.6/dist-packages/IPython/core/interactiveshell.py:2718: DtypeWarning: Columns (3) have mixed types. Specify dtype option on import or set low_memory=False.\n",
      "  interactivity=interactivity, compiler=compiler, result=result)\n"
     ]
    }
   ],
   "source": [
    "import numpy as np\n",
    "import pandas as pd\n",
    "import tensorflow as tf\n",
    "from sklearn.preprocessing import MinMaxScaler\n",
    "\n",
    "rating = pd.read_csv('BX-Book-Ratings.csv', sep=';', error_bad_lines=False, encoding=\"latin-1\")\n",
    "user = pd.read_csv('BX-Users.csv', sep=';', error_bad_lines=False, encoding=\"latin-1\")\n",
    "book = pd.read_csv('BX-Books.csv', sep=';', error_bad_lines=False, encoding=\"latin-1\")\n",
    "book_rating_dataframe = pd.merge(rating, book, on='ISBN')\n",
    "cols = ['Year-Of-Publication', 'Publisher', 'Book-Author', 'Image-URL-S', 'Image-URL-M', 'Image-URL-L']\n",
    "book_rating_dataframe.drop(cols, axis=1, inplace=True)\n"
   ]
  },
  {
   "cell_type": "code",
   "execution_count": 29,
   "metadata": {
    "colab": {
     "base_uri": "https://localhost:8080/",
     "height": 418
    },
    "colab_type": "code",
    "executionInfo": {
     "elapsed": 107115,
     "status": "ok",
     "timestamp": 1581798123156,
     "user": {
      "displayName": "Prashant Arora",
      "photoUrl": "",
      "userId": "17509553824158463421"
     },
     "user_tz": -330
    },
    "id": "L_QwHZT4fMqU",
    "outputId": "6d5ba0d9-8721-4ccd-b3e2-d81e4169cbd9"
   },
   "outputs": [
    {
     "name": "stdout",
     "output_type": "stream",
     "text": [
      "Maximum Rating on Wild Animus with total 2502 number of counts\n"
     ]
    },
    {
     "data": {
      "text/html": [
       "<div>\n",
       "<style scoped>\n",
       "    .dataframe tbody tr th:only-of-type {\n",
       "        vertical-align: middle;\n",
       "    }\n",
       "\n",
       "    .dataframe tbody tr th {\n",
       "        vertical-align: top;\n",
       "    }\n",
       "\n",
       "    .dataframe thead th {\n",
       "        text-align: right;\n",
       "    }\n",
       "</style>\n",
       "<table border=\"1\" class=\"dataframe\">\n",
       "  <thead>\n",
       "    <tr style=\"text-align: right;\">\n",
       "      <th></th>\n",
       "      <th>Book-Title</th>\n",
       "      <th>RatingCount_book</th>\n",
       "    </tr>\n",
       "  </thead>\n",
       "  <tbody>\n",
       "    <tr>\n",
       "      <th>0</th>\n",
       "      <td>A Light in the Storm: The Civil War Diary of ...</td>\n",
       "      <td>4</td>\n",
       "    </tr>\n",
       "    <tr>\n",
       "      <th>1</th>\n",
       "      <td>Always Have Popsicles</td>\n",
       "      <td>1</td>\n",
       "    </tr>\n",
       "    <tr>\n",
       "      <th>2</th>\n",
       "      <td>Apple Magic (The Collector's series)</td>\n",
       "      <td>1</td>\n",
       "    </tr>\n",
       "    <tr>\n",
       "      <th>3</th>\n",
       "      <td>Ask Lily (Young Women of Faith: Lily Series, ...</td>\n",
       "      <td>1</td>\n",
       "    </tr>\n",
       "    <tr>\n",
       "      <th>4</th>\n",
       "      <td>Beyond IBM: Leadership Marketing and Finance ...</td>\n",
       "      <td>1</td>\n",
       "    </tr>\n",
       "    <tr>\n",
       "      <th>...</th>\n",
       "      <td>...</td>\n",
       "      <td>...</td>\n",
       "    </tr>\n",
       "    <tr>\n",
       "      <th>241066</th>\n",
       "      <td>Ã?Â?lpiraten.</td>\n",
       "      <td>2</td>\n",
       "    </tr>\n",
       "    <tr>\n",
       "      <th>241067</th>\n",
       "      <td>Ã?Â?rger mit Produkt X. Roman.</td>\n",
       "      <td>4</td>\n",
       "    </tr>\n",
       "    <tr>\n",
       "      <th>241068</th>\n",
       "      <td>Ã?Â?sterlich leben.</td>\n",
       "      <td>1</td>\n",
       "    </tr>\n",
       "    <tr>\n",
       "      <th>241069</th>\n",
       "      <td>Ã?Â?stlich der Berge.</td>\n",
       "      <td>3</td>\n",
       "    </tr>\n",
       "    <tr>\n",
       "      <th>241070</th>\n",
       "      <td>Ã?Â?thique en toc</td>\n",
       "      <td>2</td>\n",
       "    </tr>\n",
       "  </tbody>\n",
       "</table>\n",
       "<p>241071 rows × 2 columns</p>\n",
       "</div>"
      ],
      "text/plain": [
       "                                               Book-Title  RatingCount_book\n",
       "0        A Light in the Storm: The Civil War Diary of ...                 4\n",
       "1                                   Always Have Popsicles                 1\n",
       "2                    Apple Magic (The Collector's series)                 1\n",
       "3        Ask Lily (Young Women of Faith: Lily Series, ...                 1\n",
       "4        Beyond IBM: Leadership Marketing and Finance ...                 1\n",
       "...                                                   ...               ...\n",
       "241066                                      Ã?Â?lpiraten.                 2\n",
       "241067                     Ã?Â?rger mit Produkt X. Roman.                 4\n",
       "241068                                Ã?Â?sterlich leben.                 1\n",
       "241069                              Ã?Â?stlich der Berge.                 3\n",
       "241070                                  Ã?Â?thique en toc                 2\n",
       "\n",
       "[241071 rows x 2 columns]"
      ]
     },
     "execution_count": 29,
     "metadata": {
      "tags": []
     },
     "output_type": "execute_result"
    }
   ],
   "source": [
    "rating_count = (book_rating_dataframe.\n",
    "     groupby(by = ['Book-Title'])['Book-Rating'].\n",
    "     count().\n",
    "     reset_index().\n",
    "     rename(columns = {'Book-Rating': 'RatingCount_book'})\n",
    "     [['Book-Title', 'RatingCount_book']]\n",
    "    )\n",
    "\n",
    "book = rating_count[rating_count.RatingCount_book == max(rating_count.RatingCount_book)]\n",
    "print(\"Maximum Rating on {} with total {} number of counts\".format(book['Book-Title'].iloc[0] , book[\"RatingCount_book\"].iloc[0]))\n",
    "rating_count"
   ]
  },
  {
   "cell_type": "code",
   "execution_count": 30,
   "metadata": {
    "colab": {
     "base_uri": "https://localhost:8080/",
     "height": 418
    },
    "colab_type": "code",
    "executionInfo": {
     "elapsed": 107485,
     "status": "ok",
     "timestamp": 1581798123538,
     "user": {
      "displayName": "Prashant Arora",
      "photoUrl": "",
      "userId": "17509553824158463421"
     },
     "user_tz": -330
    },
    "id": "oQGhe_10fXqR",
    "outputId": "a09bed52-f4b2-4c37-a407-07cad2ade642"
   },
   "outputs": [
    {
     "name": "stdout",
     "output_type": "stream",
     "text": [
      "Maximum Rating on 11676 with total 3620 number of counts\n"
     ]
    },
    {
     "data": {
      "text/html": [
       "<div>\n",
       "<style scoped>\n",
       "    .dataframe tbody tr th:only-of-type {\n",
       "        vertical-align: middle;\n",
       "    }\n",
       "\n",
       "    .dataframe tbody tr th {\n",
       "        vertical-align: top;\n",
       "    }\n",
       "\n",
       "    .dataframe thead th {\n",
       "        text-align: right;\n",
       "    }\n",
       "</style>\n",
       "<table border=\"1\" class=\"dataframe\">\n",
       "  <thead>\n",
       "    <tr style=\"text-align: right;\">\n",
       "      <th></th>\n",
       "      <th>User-ID</th>\n",
       "      <th>RatingCount_user</th>\n",
       "    </tr>\n",
       "  </thead>\n",
       "  <tbody>\n",
       "    <tr>\n",
       "      <th>0</th>\n",
       "      <td>8</td>\n",
       "      <td>2</td>\n",
       "    </tr>\n",
       "    <tr>\n",
       "      <th>1</th>\n",
       "      <td>9</td>\n",
       "      <td>2</td>\n",
       "    </tr>\n",
       "    <tr>\n",
       "      <th>2</th>\n",
       "      <td>10</td>\n",
       "      <td>1</td>\n",
       "    </tr>\n",
       "    <tr>\n",
       "      <th>3</th>\n",
       "      <td>14</td>\n",
       "      <td>1</td>\n",
       "    </tr>\n",
       "    <tr>\n",
       "      <th>4</th>\n",
       "      <td>16</td>\n",
       "      <td>2</td>\n",
       "    </tr>\n",
       "    <tr>\n",
       "      <th>...</th>\n",
       "      <td>...</td>\n",
       "      <td>...</td>\n",
       "    </tr>\n",
       "    <tr>\n",
       "      <th>57123</th>\n",
       "      <td>278846</td>\n",
       "      <td>1</td>\n",
       "    </tr>\n",
       "    <tr>\n",
       "      <th>57124</th>\n",
       "      <td>278849</td>\n",
       "      <td>1</td>\n",
       "    </tr>\n",
       "    <tr>\n",
       "      <th>57125</th>\n",
       "      <td>278851</td>\n",
       "      <td>6</td>\n",
       "    </tr>\n",
       "    <tr>\n",
       "      <th>57126</th>\n",
       "      <td>278852</td>\n",
       "      <td>1</td>\n",
       "    </tr>\n",
       "    <tr>\n",
       "      <th>57127</th>\n",
       "      <td>278854</td>\n",
       "      <td>4</td>\n",
       "    </tr>\n",
       "  </tbody>\n",
       "</table>\n",
       "<p>57128 rows × 2 columns</p>\n",
       "</div>"
      ],
      "text/plain": [
       "       User-ID  RatingCount_user\n",
       "0            8                 2\n",
       "1            9                 2\n",
       "2           10                 1\n",
       "3           14                 1\n",
       "4           16                 2\n",
       "...        ...               ...\n",
       "57123   278846                 1\n",
       "57124   278849                 1\n",
       "57125   278851                 6\n",
       "57126   278852                 1\n",
       "57127   278854                 4\n",
       "\n",
       "[57128 rows x 2 columns]"
      ]
     },
     "execution_count": 30,
     "metadata": {
      "tags": []
     },
     "output_type": "execute_result"
    }
   ],
   "source": [
    "threshold = 25\n",
    "rating_count = rating_count.query('RatingCount_book >= @threshold')\n",
    "\n",
    "user_rating = pd.merge(rating_count, book_rating_dataframe, left_on='Book-Title', right_on='Book-Title', how='left')\n",
    "\n",
    "user_count = (user_rating.\n",
    "     groupby(by = ['User-ID'])['Book-Rating'].\n",
    "     count().\n",
    "     reset_index().\n",
    "     rename(columns = {'Book-Rating': 'RatingCount_user'})\n",
    "     [['User-ID', 'RatingCount_user']]\n",
    "    )\n",
    "\n",
    "book = user_count[user_count.RatingCount_user == max(user_count.RatingCount_user)]\n",
    "print(\"Maximum Rating on {} with total {} number of counts\".format(book['User-ID'].iloc[0] , book[\"RatingCount_user\"].iloc[0]))\n",
    "user_count"
   ]
  },
  {
   "cell_type": "code",
   "execution_count": 31,
   "metadata": {
    "colab": {
     "base_uri": "https://localhost:8080/",
     "height": 50
    },
    "colab_type": "code",
    "executionInfo": {
     "elapsed": 107474,
     "status": "ok",
     "timestamp": 1581798123539,
     "user": {
      "displayName": "Prashant Arora",
      "photoUrl": "",
      "userId": "17509553824158463421"
     },
     "user_tz": -330
    },
    "id": "1q9Oe6qLfg1W",
    "outputId": "50084a52-83d1-4eca-f8e4-a53884220117"
   },
   "outputs": [
    {
     "name": "stdout",
     "output_type": "stream",
     "text": [
      "Number of unique books:  5850\n",
      "Number of unique users:  3192\n"
     ]
    }
   ],
   "source": [
    "threshold = 20\n",
    "user_count = user_count.query('RatingCount_user >= @threshold')\n",
    "\n",
    "combined = user_rating.merge(user_count, left_on = 'User-ID', right_on = 'User-ID', how = 'inner')\n",
    "\n",
    "print('Number of unique books: ', combined['Book-Title'].nunique())\n",
    "print('Number of unique users: ', combined['User-ID'].nunique())"
   ]
  },
  {
   "cell_type": "code",
   "execution_count": 0,
   "metadata": {
    "colab": {},
    "colab_type": "code",
    "id": "nldsrzw_fx1U"
   },
   "outputs": [],
   "source": [
    "from sklearn.preprocessing import MinMaxScaler\n",
    "scaler = MinMaxScaler()\n",
    "combined['Book-Rating'] = combined['Book-Rating'].values.astype(float)\n",
    "rating_scaled = pd.DataFrame(scaler.fit_transform(combined['Book-Rating'].values.reshape(-1,1)))\n",
    "combined['Book-Rating'] = rating_scaled"
   ]
  },
  {
   "cell_type": "code",
   "execution_count": 33,
   "metadata": {
    "colab": {
     "base_uri": "https://localhost:8080/",
     "height": 402
    },
    "colab_type": "code",
    "executionInfo": {
     "elapsed": 107455,
     "status": "ok",
     "timestamp": 1581798123541,
     "user": {
      "displayName": "Prashant Arora",
      "photoUrl": "",
      "userId": "17509553824158463421"
     },
     "user_tz": -330
    },
    "id": "pHltjAD0xmfU",
    "outputId": "27a29b61-c0a1-45ad-bfee-b8cf678b8d86"
   },
   "outputs": [
    {
     "data": {
      "text/html": [
       "<div>\n",
       "<style scoped>\n",
       "    .dataframe tbody tr th:only-of-type {\n",
       "        vertical-align: middle;\n",
       "    }\n",
       "\n",
       "    .dataframe tbody tr th {\n",
       "        vertical-align: top;\n",
       "    }\n",
       "\n",
       "    .dataframe thead th {\n",
       "        text-align: right;\n",
       "    }\n",
       "</style>\n",
       "<table border=\"1\" class=\"dataframe\">\n",
       "  <thead>\n",
       "    <tr style=\"text-align: right;\">\n",
       "      <th></th>\n",
       "      <th>Book-Title</th>\n",
       "      <th>RatingCount_book</th>\n",
       "      <th>User-ID</th>\n",
       "      <th>ISBN</th>\n",
       "      <th>Book-Rating</th>\n",
       "      <th>RatingCount_user</th>\n",
       "    </tr>\n",
       "  </thead>\n",
       "  <tbody>\n",
       "    <tr>\n",
       "      <th>0</th>\n",
       "      <td>'Salem's Lot</td>\n",
       "      <td>47</td>\n",
       "      <td>8936</td>\n",
       "      <td>067103975X</td>\n",
       "      <td>0.000</td>\n",
       "      <td>177</td>\n",
       "    </tr>\n",
       "    <tr>\n",
       "      <th>1</th>\n",
       "      <td>1st to Die: A Novel</td>\n",
       "      <td>509</td>\n",
       "      <td>8936</td>\n",
       "      <td>0446610038</td>\n",
       "      <td>0.000</td>\n",
       "      <td>177</td>\n",
       "    </tr>\n",
       "    <tr>\n",
       "      <th>2</th>\n",
       "      <td>A Case of Need</td>\n",
       "      <td>236</td>\n",
       "      <td>8936</td>\n",
       "      <td>0451210638</td>\n",
       "      <td>0.000</td>\n",
       "      <td>177</td>\n",
       "    </tr>\n",
       "    <tr>\n",
       "      <th>3</th>\n",
       "      <td>A Perfect Stranger</td>\n",
       "      <td>54</td>\n",
       "      <td>8936</td>\n",
       "      <td>0440168724</td>\n",
       "      <td>0.000</td>\n",
       "      <td>177</td>\n",
       "    </tr>\n",
       "    <tr>\n",
       "      <th>4</th>\n",
       "      <td>Accident</td>\n",
       "      <td>126</td>\n",
       "      <td>8936</td>\n",
       "      <td>0440217547</td>\n",
       "      <td>0.000</td>\n",
       "      <td>177</td>\n",
       "    </tr>\n",
       "    <tr>\n",
       "      <th>...</th>\n",
       "      <td>...</td>\n",
       "      <td>...</td>\n",
       "      <td>...</td>\n",
       "      <td>...</td>\n",
       "      <td>...</td>\n",
       "      <td>...</td>\n",
       "    </tr>\n",
       "    <tr>\n",
       "      <th>263462</th>\n",
       "      <td>The World Below (Ballantine Reader's Circle)</td>\n",
       "      <td>44</td>\n",
       "      <td>7312</td>\n",
       "      <td>0345440765</td>\n",
       "      <td>0.000</td>\n",
       "      <td>26</td>\n",
       "    </tr>\n",
       "    <tr>\n",
       "      <th>263463</th>\n",
       "      <td>Thunderhead</td>\n",
       "      <td>41</td>\n",
       "      <td>7312</td>\n",
       "      <td>0446608378</td>\n",
       "      <td>0.000</td>\n",
       "      <td>26</td>\n",
       "    </tr>\n",
       "    <tr>\n",
       "      <th>263464</th>\n",
       "      <td>TickTock</td>\n",
       "      <td>92</td>\n",
       "      <td>7312</td>\n",
       "      <td>034538430X</td>\n",
       "      <td>0.000</td>\n",
       "      <td>26</td>\n",
       "    </tr>\n",
       "    <tr>\n",
       "      <th>263465</th>\n",
       "      <td>Time And Again</td>\n",
       "      <td>94</td>\n",
       "      <td>7312</td>\n",
       "      <td>0373484410</td>\n",
       "      <td>0.000</td>\n",
       "      <td>26</td>\n",
       "    </tr>\n",
       "    <tr>\n",
       "      <th>263466</th>\n",
       "      <td>Wuthering Heights (Wordsworth Classics)</td>\n",
       "      <td>51</td>\n",
       "      <td>7312</td>\n",
       "      <td>1853260010</td>\n",
       "      <td>0.800</td>\n",
       "      <td>26</td>\n",
       "    </tr>\n",
       "  </tbody>\n",
       "</table>\n",
       "<p>263467 rows × 6 columns</p>\n",
       "</div>"
      ],
      "text/plain": [
       "                                          Book-Title  ...  RatingCount_user\n",
       "0                                       'Salem's Lot  ...               177\n",
       "1                                1st to Die: A Novel  ...               177\n",
       "2                                     A Case of Need  ...               177\n",
       "3                                 A Perfect Stranger  ...               177\n",
       "4                                           Accident  ...               177\n",
       "...                                              ...  ...               ...\n",
       "263462  The World Below (Ballantine Reader's Circle)  ...                26\n",
       "263463                                   Thunderhead  ...                26\n",
       "263464                                      TickTock  ...                26\n",
       "263465                                Time And Again  ...                26\n",
       "263466       Wuthering Heights (Wordsworth Classics)  ...                26\n",
       "\n",
       "[263467 rows x 6 columns]"
      ]
     },
     "execution_count": 33,
     "metadata": {
      "tags": []
     },
     "output_type": "execute_result"
    }
   ],
   "source": [
    "combined"
   ]
  },
  {
   "cell_type": "code",
   "execution_count": 34,
   "metadata": {
    "colab": {
     "base_uri": "https://localhost:8080/",
     "height": 70
    },
    "colab_type": "code",
    "executionInfo": {
     "elapsed": 108669,
     "status": "ok",
     "timestamp": 1581798124769,
     "user": {
      "displayName": "Prashant Arora",
      "photoUrl": "",
      "userId": "17509553824158463421"
     },
     "user_tz": -330
    },
    "id": "8uF5tv5FyVtc",
    "outputId": "944bdde8-2811-4fd3-e574-ad962e8c3e7e"
   },
   "outputs": [
    {
     "name": "stderr",
     "output_type": "stream",
     "text": [
      "/usr/local/lib/python3.6/dist-packages/ipykernel_launcher.py:6: FutureWarning: Method .as_matrix will be removed in a future version. Use .values instead.\n",
      "  \n"
     ]
    }
   ],
   "source": [
    "combined = combined.drop_duplicates(['User-ID', 'Book-Title'])\n",
    "user_book_matrix = combined.pivot(index='User-ID', columns='Book-Title', values='Book-Rating')\n",
    "user_book_matrix.fillna(0, inplace=True)\n",
    "users = user_book_matrix.index.tolist()\n",
    "books = user_book_matrix.columns.tolist()\n",
    "user_book_matrix = user_book_matrix.as_matrix()"
   ]
  },
  {
   "cell_type": "code",
   "execution_count": 35,
   "metadata": {
    "colab": {
     "base_uri": "https://localhost:8080/",
     "height": 87
    },
    "colab_type": "code",
    "executionInfo": {
     "elapsed": 108658,
     "status": "ok",
     "timestamp": 1581798124770,
     "user": {
      "displayName": "Prashant Arora",
      "photoUrl": "",
      "userId": "17509553824158463421"
     },
     "user_tz": -330
    },
    "id": "DdHOkGCGyeYv",
    "outputId": "6e4a42a9-6484-4519-97e1-25a088d9d2e1"
   },
   "outputs": [
    {
     "name": "stdout",
     "output_type": "stream",
     "text": [
      "WARNING:tensorflow:From /usr/local/lib/python3.6/dist-packages/tensorflow_core/python/compat/v2_compat.py:68: disable_resource_variables (from tensorflow.python.ops.variable_scope) is deprecated and will be removed in a future version.\n",
      "Instructions for updating:\n",
      "non-resource variables are not supported in the long term\n"
     ]
    }
   ],
   "source": [
    "import tensorflow.compat.v1 as tf\n",
    "tf.disable_v2_behavior()"
   ]
  },
  {
   "cell_type": "code",
   "execution_count": 0,
   "metadata": {
    "colab": {},
    "colab_type": "code",
    "id": "0VGLQSVXy3Zi"
   },
   "outputs": [],
   "source": [
    "num_input = combined['Book-Title'].nunique()\n",
    "num_hidden_1 = 10\n",
    "num_hidden_2 = 5\n",
    "\n",
    "X = tf.placeholder(tf.float64, [None,num_input])\n",
    "\n",
    "weights = {\n",
    "    'encoder_h1': tf.Variable(tf.random_normal([num_input, num_hidden_1], dtype=tf.float64)),\n",
    "    'encoder_h2': tf.Variable(tf.random_normal([num_hidden_1, num_hidden_2], dtype=tf.float64)),\n",
    "    'decoder_h1': tf.Variable(tf.random_normal([num_hidden_2, num_hidden_1], dtype=tf.float64)),\n",
    "    'decoder_h2': tf.Variable(tf.random_normal([num_hidden_1, num_input], dtype=tf.float64)),\n",
    "}\n",
    "\n",
    "biases = {\n",
    "    'encoder_b1': tf.Variable(tf.random_normal([num_hidden_1], dtype=tf.float64)),\n",
    "    'encoder_b2': tf.Variable(tf.random_normal([num_hidden_2], dtype=tf.float64)),\n",
    "    'decoder_b1': tf.Variable(tf.random_normal([num_hidden_1], dtype=tf.float64)),\n",
    "    'decoder_b2': tf.Variable(tf.random_normal([num_input], dtype=tf.float64)),\n",
    "}"
   ]
  },
  {
   "cell_type": "code",
   "execution_count": 0,
   "metadata": {
    "colab": {},
    "colab_type": "code",
    "id": "qvGw3mg1zZgQ"
   },
   "outputs": [],
   "source": [
    "def encoder(x):\n",
    "  layer_1 = tf.nn.sigmoid(tf.add(tf.matmul(x,weights[\"encoder_h1\"]),biases[\"encoder_b1\"]))\n",
    "  layer_2 = tf.nn.sigmoid(tf.add(tf.matmul(layer_1,weights[\"encoder_h2\"]),biases[\"encoder_b2\"]))\n",
    "  return layer_2\n",
    "\n",
    "def decoder(x):\n",
    "  layer_1 = tf.nn.sigmoid(tf.add(tf.matmul(x,weights[\"decoder_h1\"]),biases[\"decoder_b1\"]))\n",
    "  layer_2 = tf.nn.sigmoid(tf.add(tf.matmul(layer_1,weights[\"decoder_h2\"]),biases[\"decoder_b2\"]))\n",
    "  return layer_2"
   ]
  },
  {
   "cell_type": "code",
   "execution_count": 0,
   "metadata": {
    "colab": {},
    "colab_type": "code",
    "id": "_ADqBKBoz-_W"
   },
   "outputs": [],
   "source": [
    "encoder_op = encoder(X)\n",
    "decoder_out = decoder(encoder_op)\n",
    "\n",
    "y_pred = decoder_out\n",
    "y_true = X"
   ]
  },
  {
   "cell_type": "code",
   "execution_count": 39,
   "metadata": {
    "colab": {
     "base_uri": "https://localhost:8080/",
     "height": 188
    },
    "colab_type": "code",
    "executionInfo": {
     "elapsed": 109072,
     "status": "ok",
     "timestamp": 1581798125218,
     "user": {
      "displayName": "Prashant Arora",
      "photoUrl": "",
      "userId": "17509553824158463421"
     },
     "user_tz": -330
    },
    "id": "QTn5riTN0NvY",
    "outputId": "1159acb8-7803-46dc-c503-2f295bca0bf8"
   },
   "outputs": [
    {
     "name": "stdout",
     "output_type": "stream",
     "text": [
      "WARNING:tensorflow:From /usr/local/lib/python3.6/dist-packages/tensorflow_core/python/ops/losses/losses_impl.py:121: where (from tensorflow.python.ops.array_ops) is deprecated and will be removed in a future version.\n",
      "Instructions for updating:\n",
      "Use tf.where in 2.0, which has the same broadcast rule as np.where\n",
      "WARNING:tensorflow:From /usr/local/lib/python3.6/dist-packages/tensorflow_core/python/training/rmsprop.py:119: calling Ones.__init__ (from tensorflow.python.ops.init_ops) with dtype is deprecated and will be removed in a future version.\n",
      "Instructions for updating:\n",
      "Call initializer instance with the dtype argument instead of passing it to the constructor\n",
      "WARNING:tensorflow:From /usr/local/lib/python3.6/dist-packages/tensorflow_core/python/ops/metrics_impl.py:2026: div (from tensorflow.python.ops.math_ops) is deprecated and will be removed in a future version.\n",
      "Instructions for updating:\n",
      "Deprecated in favor of operator or tf.math.divide.\n"
     ]
    }
   ],
   "source": [
    "loss = tf.losses.mean_squared_error(y_true,y_pred)\n",
    "optimizer = tf.train.RMSPropOptimizer(0.02).minimize(loss)\n",
    "eval_x = tf.placeholder(tf.int32,)\n",
    "eval_y = tf.placeholder(tf.int32,)\n",
    "\n",
    "pre , pre_out = tf.metrics.precision(labels= eval_x,predictions=eval_y)\n"
   ]
  },
  {
   "cell_type": "code",
   "execution_count": 0,
   "metadata": {
    "colab": {},
    "colab_type": "code",
    "id": "NRzKCqSv0yyG"
   },
   "outputs": [],
   "source": [
    "init = tf.global_variables_initializer()\n",
    "local_init = tf.local_variables_initializer()\n",
    "predicted_data = pd.DataFrame()"
   ]
  },
  {
   "cell_type": "code",
   "execution_count": 42,
   "metadata": {
    "colab": {
     "base_uri": "https://localhost:8080/",
     "height": 34
    },
    "colab_type": "code",
    "executionInfo": {
     "elapsed": 810,
     "status": "ok",
     "timestamp": 1581798142653,
     "user": {
      "displayName": "Prashant Arora",
      "photoUrl": "",
      "userId": "17509553824158463421"
     },
     "user_tz": -330
    },
    "id": "NiyOyoV23EIw",
    "outputId": "1226cbd8-4350-45a6-82f3-eda31e4bb305"
   },
   "outputs": [
    {
     "data": {
      "text/plain": [
       "(3192, 5850)"
      ]
     },
     "execution_count": 42,
     "metadata": {
      "tags": []
     },
     "output_type": "execute_result"
    }
   ],
   "source": [
    "user_book_matrix_converted = np.array(user_book_matrix)\n",
    "user_book_matrix_converted.shape"
   ]
  },
  {
   "cell_type": "code",
   "execution_count": 43,
   "metadata": {
    "colab": {
     "base_uri": "https://localhost:8080/",
     "height": 1000
    },
    "colab_type": "code",
    "executionInfo": {
     "elapsed": 41344,
     "status": "ok",
     "timestamp": 1581798184644,
     "user": {
      "displayName": "Prashant Arora",
      "photoUrl": "",
      "userId": "17509553824158463421"
     },
     "user_tz": -330
    },
    "id": "6xTWnHy209Zt",
    "outputId": "b2936adc-fc62-4c94-ce7a-951a83f7bce4"
   },
   "outputs": [
    {
     "name": "stdout",
     "output_type": "stream",
     "text": [
      "Epoch: 1 ,Loss: 0.3518626237963582\n",
      "Epoch: 2 ,Loss: 0.30706150436794366\n",
      "Epoch: 3 ,Loss: 0.09674686666291493\n",
      "Epoch: 4 ,Loss: 0.004990307061554311\n",
      "Epoch: 5 ,Loss: 0.0037500491995200677\n",
      "Epoch: 6 ,Loss: 0.0035805373304206266\n",
      "Epoch: 7 ,Loss: 0.0032555476115034014\n",
      "Epoch: 8 ,Loss: 0.0031472900626505467\n",
      "Epoch: 9 ,Loss: 0.0031216601894881865\n",
      "Epoch: 10 ,Loss: 0.0031038723312891447\n",
      "Epoch: 11 ,Loss: 0.003090755970493614\n",
      "Epoch: 12 ,Loss: 0.003080656317031973\n",
      "Epoch: 13 ,Loss: 0.0030725542494290316\n",
      "Epoch: 14 ,Loss: 0.0030650160132119288\n",
      "Epoch: 15 ,Loss: 0.0029272055381315424\n",
      "Epoch: 16 ,Loss: 0.002886660239700187\n",
      "Epoch: 17 ,Loss: 0.00288275164260355\n",
      "Epoch: 18 ,Loss: 0.00287945027166343\n",
      "Epoch: 19 ,Loss: 0.002876576180774514\n",
      "Epoch: 20 ,Loss: 0.0028740173041984277\n",
      "Epoch: 21 ,Loss: 0.0028716134941103037\n",
      "Epoch: 22 ,Loss: 0.0028630620390586144\n",
      "Epoch: 23 ,Loss: 0.00270649826583954\n",
      "Epoch: 24 ,Loss: 0.0026997271132051617\n",
      "Epoch: 25 ,Loss: 0.002698167718455687\n",
      "Epoch: 26 ,Loss: 0.0026968357429563343\n",
      "Epoch: 27 ,Loss: 0.002695655779002214\n",
      "Epoch: 28 ,Loss: 0.0026945913860390146\n",
      "Epoch: 29 ,Loss: 0.002693620753464299\n",
      "Epoch: 30 ,Loss: 0.002692729718266771\n",
      "Epoch: 31 ,Loss: 0.0026919080461324245\n",
      "Epoch: 32 ,Loss: 0.002691147651953193\n",
      "Epoch: 33 ,Loss: 0.0026904418808663937\n",
      "Epoch: 34 ,Loss: 0.0026897852037838853\n",
      "Epoch: 35 ,Loss: 0.002689172751730779\n",
      "Epoch: 36 ,Loss: 0.002688600304331835\n",
      "Epoch: 37 ,Loss: 0.0026880643269108547\n",
      "Epoch: 38 ,Loss: 0.0026875615675145616\n",
      "Epoch: 39 ,Loss: 0.002687089242409546\n",
      "Epoch: 40 ,Loss: 0.0026866449439734382\n",
      "Epoch: 41 ,Loss: 0.0026862264372879167\n",
      "Epoch: 42 ,Loss: 0.002685831718986015\n",
      "Epoch: 43 ,Loss: 0.002685459064585822\n",
      "Epoch: 44 ,Loss: 0.002685106854507147\n",
      "Epoch: 45 ,Loss: 0.0026847735472064426\n",
      "Epoch: 46 ,Loss: 0.002684457823736491\n",
      "Epoch: 47 ,Loss: 0.0026841583971323056\n",
      "Epoch: 48 ,Loss: 0.002683874048231231\n",
      "Epoch: 49 ,Loss: 0.002683603809890593\n",
      "Epoch: 50 ,Loss: 0.0026833465985523965\n",
      "Epoch: 51 ,Loss: 0.0026831015263899015\n",
      "Epoch: 52 ,Loss: 0.002682867832226003\n",
      "Epoch: 53 ,Loss: 0.00268264469987416\n",
      "Epoch: 54 ,Loss: 0.002682431457707515\n",
      "Epoch: 55 ,Loss: 0.002682227466081443\n",
      "Epoch: 56 ,Loss: 0.0026820321659465412\n",
      "Epoch: 57 ,Loss: 0.002681844982901936\n",
      "Epoch: 58 ,Loss: 0.00268166543465558\n",
      "Epoch: 59 ,Loss: 0.002681493138699987\n",
      "Epoch: 60 ,Loss: 0.0026813275538958036\n",
      "Epoch: 61 ,Loss: 0.0026811683437899573\n",
      "Epoch: 62 ,Loss: 0.002681015161695061\n",
      "Epoch: 63 ,Loss: 0.0026808676289414965\n",
      "Epoch: 64 ,Loss: 0.002680725501185017\n",
      "Epoch: 65 ,Loss: 0.002680588462441177\n",
      "Epoch: 66 ,Loss: 0.002680456246617813\n",
      "Epoch: 67 ,Loss: 0.0026803285415683475\n",
      "Epoch: 68 ,Loss: 0.002680205168192285\n",
      "Epoch: 69 ,Loss: 0.002680085907731164\n",
      "Epoch: 70 ,Loss: 0.0026799705132821597\n",
      "Epoch: 71 ,Loss: 0.002679858805744776\n",
      "Epoch: 72 ,Loss: 0.0026797505983427823\n",
      "Epoch: 73 ,Loss: 0.0026796457554715183\n",
      "Epoch: 74 ,Loss: 0.0026795440686068366\n",
      "Epoch: 75 ,Loss: 0.002679445371441134\n",
      "Epoch: 76 ,Loss: 0.0026793495577934023\n",
      "Epoch: 77 ,Loss: 0.002679256462635329\n",
      "Epoch: 78 ,Loss: 0.0026791659209386004\n",
      "Epoch: 79 ,Loss: 0.0026790778649008863\n",
      "Epoch: 80 ,Loss: 0.0026789920808808817\n",
      "Epoch: 81 ,Loss: 0.0026789085535271154\n",
      "Epoch: 82 ,Loss: 0.0026788270781533076\n",
      "Epoch: 83 ,Loss: 0.002678747572884946\n",
      "Epoch: 84 ,Loss: 0.002678669963523254\n",
      "Epoch: 85 ,Loss: 0.002678594137490778\n",
      "Epoch: 86 ,Loss: 0.002678519957903568\n",
      "Epoch: 87 ,Loss: 0.0026784474234823343\n",
      "Epoch: 88 ,Loss: 0.00267837639222597\n",
      "Epoch: 89 ,Loss: 0.0026783068807652364\n",
      "Epoch: 90 ,Loss: 0.002678238845604298\n",
      "Epoch: 91 ,Loss: 0.002678172258598791\n",
      "Epoch: 92 ,Loss: 0.0026781071811546008\n",
      "Epoch: 93 ,Loss: 0.002678043719452734\n",
      "Epoch: 94 ,Loss: 0.002677981886286084\n",
      "Epoch: 95 ,Loss: 0.0026779218223764675\n",
      "Epoch: 96 ,Loss: 0.0026778635827333225\n",
      "Epoch: 97 ,Loss: 0.0026778071213022364\n",
      "Epoch: 98 ,Loss: 0.002677752566012134\n",
      "Epoch: 99 ,Loss: 0.0026776996776359256\n",
      "Epoch: 100 ,Loss: 0.0026776484177949336\n",
      "Epoch: 101 ,Loss: 0.0026775986061093734\n",
      "Epoch: 102 ,Loss: 0.002677550092902403\n",
      "Epoch: 103 ,Loss: 0.0026775028078131133\n",
      "Epoch: 104 ,Loss: 0.002677456606281819\n",
      "Epoch: 105 ,Loss: 0.002677411466560603\n",
      "Epoch: 106 ,Loss: 0.0026773672645584077\n",
      "Epoch: 107 ,Loss: 0.0026773240028338118\n",
      "Epoch: 108 ,Loss: 0.0026772815841608322\n",
      "Epoch: 109 ,Loss: 0.0026772400264495184\n",
      "Epoch: 110 ,Loss: 0.0026771993245827135\n",
      "Epoch: 111 ,Loss: 0.0026771593902894593\n",
      "Epoch: 112 ,Loss: 0.002677120247876251\n",
      "Epoch: 113 ,Loss: 0.0026770818065135525\n",
      "Epoch: 114 ,Loss: 0.0026770441698237926\n",
      "Epoch: 115 ,Loss: 0.002677007212436625\n",
      "Epoch: 116 ,Loss: 0.0026769709855236196\n",
      "Epoch: 117 ,Loss: 0.00267693543151676\n",
      "Epoch: 118 ,Loss: 0.002676900573443253\n",
      "Epoch: 119 ,Loss: 0.002676866389555181\n",
      "Epoch: 120 ,Loss: 0.0026768329041590403\n",
      "Epoch: 121 ,Loss: 0.002676800085272599\n",
      "Epoch: 122 ,Loss: 0.0026767679034722046\n",
      "Epoch: 123 ,Loss: 0.0026767363689921713\n",
      "Epoch: 124 ,Loss: 0.0026767055266076227\n",
      "Epoch: 125 ,Loss: 0.002676675253506791\n",
      "Epoch: 126 ,Loss: 0.0026766457070422534\n",
      "Epoch: 127 ,Loss: 0.0026766166838070194\n",
      "Epoch: 128 ,Loss: 0.0026765883283607745\n",
      "Epoch: 129 ,Loss: 0.0026765604999817007\n",
      "Epoch: 130 ,Loss: 0.0026765333061300957\n",
      "Epoch: 131 ,Loss: 0.002676506631669926\n",
      "Epoch: 132 ,Loss: 0.0026764804650875893\n",
      "Epoch: 133 ,Loss: 0.00267645479870735\n",
      "Epoch: 134 ,Loss: 0.0026764296453220993\n",
      "Epoch: 135 ,Loss: 0.00267640496911174\n",
      "Epoch: 136 ,Loss: 0.00267638070355323\n",
      "Epoch: 137 ,Loss: 0.0026763568844666683\n",
      "Epoch: 138 ,Loss: 0.0026763334926627165\n",
      "Epoch: 139 ,Loss: 0.00267631048464554\n",
      "Epoch: 140 ,Loss: 0.0026762878732080313\n",
      "Epoch: 141 ,Loss: 0.0026762656583501905\n",
      "Epoch: 142 ,Loss: 0.0026762438170448107\n",
      "Epoch: 143 ,Loss: 0.002676222304516769\n",
      "Epoch: 144 ,Loss: 0.002676201171937634\n",
      "Epoch: 145 ,Loss: 0.0026761803681358367\n",
      "Epoch: 146 ,Loss: 0.002676159873922038\n",
      "Epoch: 147 ,Loss: 0.0026761397481435438\n",
      "Epoch: 148 ,Loss: 0.002676119893574371\n",
      "Epoch: 149 ,Loss: 0.002676100366503246\n",
      "Epoch: 150 ,Loss: 0.0026760811426236736\n"
     ]
    }
   ],
   "source": [
    "sess = tf.Session()\n",
    "epochs = 150\n",
    "batch_size = 35\n",
    "\n",
    "sess.run(init)\n",
    "sess.run(local_init)\n",
    "\n",
    "num_batches = int(user_book_matrix_converted.shape[0] / batch_size)\n",
    "user_book_matrix_converted = np.array_split(user_book_matrix_converted , num_batches)\n",
    "\n",
    "for i in range(epochs):\n",
    "  avg_cost = 0\n",
    "  for individual_batch in user_book_matrix_converted:\n",
    "    # print(np.array(individual_batch).shape)\n",
    "    _,l = sess.run([optimizer,loss],feed_dict={X:individual_batch})\n",
    "    avg_cost+=l\n",
    "\n",
    "  avg_cost /= num_batches\n",
    "\n",
    "  print(\"Epoch: {} ,Loss: {}\".format(i+1,avg_cost)) \n"
   ]
  },
  {
   "cell_type": "code",
   "execution_count": 0,
   "metadata": {
    "colab": {},
    "colab_type": "code",
    "id": "7BP-hspa6XTU"
   },
   "outputs": [],
   "source": [
    "user_book_matrix_converted = np.concatenate(user_book_matrix_converted, axis=0)"
   ]
  },
  {
   "cell_type": "code",
   "execution_count": 0,
   "metadata": {
    "colab": {},
    "colab_type": "code",
    "id": "JrlWwS1xE5aT"
   },
   "outputs": [],
   "source": [
    "preds = sess.run(decoder_out, feed_dict={X: user_book_matrix_converted})\n",
    "preds = np.array(preds,dtype=str)\n",
    "predicted_data_ = pd.DataFrame(preds)"
   ]
  },
  {
   "cell_type": "code",
   "execution_count": 0,
   "metadata": {
    "colab": {},
    "colab_type": "code",
    "id": "1aXIGAjz4nsj"
   },
   "outputs": [],
   "source": [
    "predicted_data_ = predicted_data_.stack().reset_index(name='Book-Rating')\n",
    "predicted_data_.columns = ['User-ID', 'Book-Title', 'Book-Rating']\n",
    "predicted_data_['User-ID'] = predicted_data_['User-ID'].map(lambda value: users[value])\n",
    "predicted_data_['Book-Title'] = predicted_data_['Book-Title'].map(lambda value: books[value])"
   ]
  },
  {
   "cell_type": "code",
   "execution_count": 47,
   "metadata": {
    "colab": {
     "base_uri": "https://localhost:8080/",
     "height": 235
    },
    "colab_type": "code",
    "executionInfo": {
     "elapsed": 38341,
     "status": "ok",
     "timestamp": 1581798228515,
     "user": {
      "displayName": "Prashant Arora",
      "photoUrl": "",
      "userId": "17509553824158463421"
     },
     "user_tz": -330
    },
    "id": "GIYcb--PImRh",
    "outputId": "8751aee3-fd3d-4420-e7d5-146704c772b6"
   },
   "outputs": [
    {
     "data": {
      "text/plain": [
       "User-ID             \n",
       "243      Book-Title     5850\n",
       "         Book-Rating    5850\n",
       "254      Book-Title     5850\n",
       "         Book-Rating    5850\n",
       "487      Book-Title     5850\n",
       "                        ... \n",
       "278582   Book-Rating    5850\n",
       "278633   Book-Title     5850\n",
       "         Book-Rating    5850\n",
       "278843   Book-Title     5850\n",
       "         Book-Rating    5850\n",
       "Length: 6384, dtype: int64"
      ]
     },
     "execution_count": 47,
     "metadata": {
      "tags": []
     },
     "output_type": "execute_result"
    }
   ],
   "source": [
    "predicted_data_.groupby(\"User-ID\").count().stack()"
   ]
  },
  {
   "cell_type": "code",
   "execution_count": 100,
   "metadata": {
    "colab": {
     "base_uri": "https://localhost:8080/",
     "height": 656
    },
    "colab_type": "code",
    "executionInfo": {
     "elapsed": 1733,
     "status": "ok",
     "timestamp": 1581802540542,
     "user": {
      "displayName": "Prashant Arora",
      "photoUrl": "",
      "userId": "17509553824158463421"
     },
     "user_tz": -330
    },
    "id": "vh6GZg702xee",
    "outputId": "1c23152c-8654-4953-e27f-89eafd0f9ec5"
   },
   "outputs": [
    {
     "name": "stdout",
     "output_type": "stream",
     "text": [
      "(5850,) (68,)\n"
     ]
    },
    {
     "data": {
      "text/html": [
       "<div>\n",
       "<style scoped>\n",
       "    .dataframe tbody tr th:only-of-type {\n",
       "        vertical-align: middle;\n",
       "    }\n",
       "\n",
       "    .dataframe tbody tr th {\n",
       "        vertical-align: top;\n",
       "    }\n",
       "\n",
       "    .dataframe thead th {\n",
       "        text-align: right;\n",
       "    }\n",
       "</style>\n",
       "<table border=\"1\" class=\"dataframe\">\n",
       "  <thead>\n",
       "    <tr style=\"text-align: right;\">\n",
       "      <th></th>\n",
       "      <th>User-ID</th>\n",
       "      <th>Book-Title</th>\n",
       "      <th>Book-Rating</th>\n",
       "    </tr>\n",
       "  </thead>\n",
       "  <tbody>\n",
       "    <tr>\n",
       "      <th>4302</th>\n",
       "      <td>243</td>\n",
       "      <td>The Da Vinci Code</td>\n",
       "      <td>0.0608676</td>\n",
       "    </tr>\n",
       "    <tr>\n",
       "      <th>5060</th>\n",
       "      <td>243</td>\n",
       "      <td>The Secret Life of Bees</td>\n",
       "      <td>0.0477055</td>\n",
       "    </tr>\n",
       "    <tr>\n",
       "      <th>1837</th>\n",
       "      <td>243</td>\n",
       "      <td>Harry Potter and the Chamber of Secrets (Book 2)</td>\n",
       "      <td>0.0465519</td>\n",
       "    </tr>\n",
       "    <tr>\n",
       "      <th>1841</th>\n",
       "      <td>243</td>\n",
       "      <td>Harry Potter and the Prisoner of Azkaban (Book 3)</td>\n",
       "      <td>0.0436693</td>\n",
       "    </tr>\n",
       "    <tr>\n",
       "      <th>2406</th>\n",
       "      <td>243</td>\n",
       "      <td>Life of Pi</td>\n",
       "      <td>0.0415798</td>\n",
       "    </tr>\n",
       "    <tr>\n",
       "      <th>702</th>\n",
       "      <td>243</td>\n",
       "      <td>Bridget Jones's Diary</td>\n",
       "      <td>0.0415436</td>\n",
       "    </tr>\n",
       "    <tr>\n",
       "      <th>1843</th>\n",
       "      <td>243</td>\n",
       "      <td>Harry Potter and the Sorcerer's Stone (Harry P...</td>\n",
       "      <td>0.0394455</td>\n",
       "    </tr>\n",
       "    <tr>\n",
       "      <th>4984</th>\n",
       "      <td>243</td>\n",
       "      <td>The Red Tent (Bestselling Backlist)</td>\n",
       "      <td>0.0388696</td>\n",
       "    </tr>\n",
       "    <tr>\n",
       "      <th>5401</th>\n",
       "      <td>243</td>\n",
       "      <td>To Kill a Mockingbird</td>\n",
       "      <td>0.0381117</td>\n",
       "    </tr>\n",
       "    <tr>\n",
       "      <th>1839</th>\n",
       "      <td>243</td>\n",
       "      <td>Harry Potter and the Goblet of Fire (Book 4)</td>\n",
       "      <td>0.0376612</td>\n",
       "    </tr>\n",
       "    <tr>\n",
       "      <th>1840</th>\n",
       "      <td>243</td>\n",
       "      <td>Harry Potter and the Order of the Phoenix (Boo...</td>\n",
       "      <td>0.0349873</td>\n",
       "    </tr>\n",
       "    <tr>\n",
       "      <th>5690</th>\n",
       "      <td>243</td>\n",
       "      <td>Where the Heart Is (Oprah's Book Club (Paperba...</td>\n",
       "      <td>0.0343186</td>\n",
       "    </tr>\n",
       "    <tr>\n",
       "      <th>4842</th>\n",
       "      <td>243</td>\n",
       "      <td>The Nanny Diaries: A Novel</td>\n",
       "      <td>0.0341738</td>\n",
       "    </tr>\n",
       "    <tr>\n",
       "      <th>1225</th>\n",
       "      <td>243</td>\n",
       "      <td>Divine Secrets of the Ya-Ya Sisterhood: A Novel</td>\n",
       "      <td>0.0322369</td>\n",
       "    </tr>\n",
       "    <tr>\n",
       "      <th>4860</th>\n",
       "      <td>243</td>\n",
       "      <td>The Notebook</td>\n",
       "      <td>0.0318540</td>\n",
       "    </tr>\n",
       "    <tr>\n",
       "      <th>2133</th>\n",
       "      <td>243</td>\n",
       "      <td>Interview with the Vampire</td>\n",
       "      <td>0.0313853</td>\n",
       "    </tr>\n",
       "    <tr>\n",
       "      <th>3494</th>\n",
       "      <td>243</td>\n",
       "      <td>Salt: A World History</td>\n",
       "      <td>0.0000875</td>\n",
       "    </tr>\n",
       "    <tr>\n",
       "      <th>5614</th>\n",
       "      <td>243</td>\n",
       "      <td>War and Peace (Wordsworth Classics)</td>\n",
       "      <td>0.0000545</td>\n",
       "    </tr>\n",
       "    <tr>\n",
       "      <th>601</th>\n",
       "      <td>243</td>\n",
       "      <td>Blessing in Disguise</td>\n",
       "      <td>0.0000543</td>\n",
       "    </tr>\n",
       "    <tr>\n",
       "      <th>4909</th>\n",
       "      <td>243</td>\n",
       "      <td>The Phantom of the Opera: The Original Novel</td>\n",
       "      <td>0.0000284</td>\n",
       "    </tr>\n",
       "  </tbody>\n",
       "</table>\n",
       "</div>"
      ],
      "text/plain": [
       "      User-ID                                         Book-Title Book-Rating\n",
       "4302      243                                  The Da Vinci Code   0.0608676\n",
       "5060      243                            The Secret Life of Bees   0.0477055\n",
       "1837      243   Harry Potter and the Chamber of Secrets (Book 2)   0.0465519\n",
       "1841      243  Harry Potter and the Prisoner of Azkaban (Book 3)   0.0436693\n",
       "2406      243                                         Life of Pi   0.0415798\n",
       "702       243                              Bridget Jones's Diary   0.0415436\n",
       "1843      243  Harry Potter and the Sorcerer's Stone (Harry P...   0.0394455\n",
       "4984      243                The Red Tent (Bestselling Backlist)   0.0388696\n",
       "5401      243                              To Kill a Mockingbird   0.0381117\n",
       "1839      243       Harry Potter and the Goblet of Fire (Book 4)   0.0376612\n",
       "1840      243  Harry Potter and the Order of the Phoenix (Boo...   0.0349873\n",
       "5690      243  Where the Heart Is (Oprah's Book Club (Paperba...   0.0343186\n",
       "4842      243                         The Nanny Diaries: A Novel   0.0341738\n",
       "1225      243    Divine Secrets of the Ya-Ya Sisterhood: A Novel   0.0322369\n",
       "4860      243                                       The Notebook   0.0318540\n",
       "2133      243                         Interview with the Vampire   0.0313853\n",
       "3494      243                              Salt: A World History   0.0000875\n",
       "5614      243                War and Peace (Wordsworth Classics)   0.0000545\n",
       "601       243                               Blessing in Disguise   0.0000543\n",
       "4909      243       The Phantom of the Opera: The Original Novel   0.0000284"
      ]
     },
     "execution_count": 100,
     "metadata": {
      "tags": []
     },
     "output_type": "execute_result"
    }
   ],
   "source": [
    "user_id = 243\n",
    "keys = ['User-ID', 'Book-Title']\n",
    "index_1 = predicted_data_[predicted_data_['User-ID'] == user_id].set_index(keys).index\n",
    "index_2 = combined[combined['User-ID'] == user_id].set_index(keys).index\n",
    "\n",
    "print(index_1.shape,index_2.shape)\n",
    "usable_indexes = set(index_1).difference(set(index_2))\n",
    "predicts=predicted_data_[(predicted_data_['User-ID'] == user_id) & predicted_data_['Book-Title'].isin([i[1] for i in usable_indexes])].sort_values(by=\"Book-Rating\",ascending=False).head(20)\n",
    "predicts[\"Book-Rating\"] = predicts['Book-Rating'].apply(lambda x:\"{0:.7f}\".format(float(x)))\n",
    "predicts.sort_values(by=\"Book-Rating\",ascending=False)"
   ]
  },
  {
   "cell_type": "code",
   "execution_count": 0,
   "metadata": {
    "colab": {},
    "colab_type": "code",
    "id": "7IIjhjGOE6bU"
   },
   "outputs": [],
   "source": [
    "keys = ['User-ID', 'Book-Title']\n",
    "index_1 = predicted_data_.set_index(keys).index\n",
    "index_2 = combined.set_index(keys).index\n",
    "\n",
    "top_ranked = predicted_data_[~index_1.isin(index_2)]\n",
    "top_ranked = top_ranked.sort_values(['User-ID', 'Book-Rating'], ascending=[True, False])\n",
    "top_ranked = top_ranked.groupby('User-ID').head(20)"
   ]
  },
  {
   "cell_type": "code",
   "execution_count": 68,
   "metadata": {
    "colab": {
     "base_uri": "https://localhost:8080/",
     "height": 639
    },
    "colab_type": "code",
    "executionInfo": {
     "elapsed": 796,
     "status": "ok",
     "timestamp": 1581800171738,
     "user": {
      "displayName": "Prashant Arora",
      "photoUrl": "",
      "userId": "17509553824158463421"
     },
     "user_tz": -330
    },
    "id": "RoeFZ7dAn2vB",
    "outputId": "2b17b3fe-f7fc-4c9e-ab8c-334e2b89228d"
   },
   "outputs": [
    {
     "data": {
      "text/html": [
       "<div>\n",
       "<style scoped>\n",
       "    .dataframe tbody tr th:only-of-type {\n",
       "        vertical-align: middle;\n",
       "    }\n",
       "\n",
       "    .dataframe tbody tr th {\n",
       "        vertical-align: top;\n",
       "    }\n",
       "\n",
       "    .dataframe thead th {\n",
       "        text-align: right;\n",
       "    }\n",
       "</style>\n",
       "<table border=\"1\" class=\"dataframe\">\n",
       "  <thead>\n",
       "    <tr style=\"text-align: right;\">\n",
       "      <th></th>\n",
       "      <th>User-ID</th>\n",
       "      <th>Book-Title</th>\n",
       "      <th>Book-Rating</th>\n",
       "    </tr>\n",
       "  </thead>\n",
       "  <tbody>\n",
       "    <tr>\n",
       "      <th>161444</th>\n",
       "      <td>3363</td>\n",
       "      <td>Salt: A World History</td>\n",
       "      <td>8.762174754638372e-05</td>\n",
       "    </tr>\n",
       "    <tr>\n",
       "      <th>163564</th>\n",
       "      <td>3363</td>\n",
       "      <td>War and Peace (Wordsworth Classics)</td>\n",
       "      <td>5.4481050503723195e-05</td>\n",
       "    </tr>\n",
       "    <tr>\n",
       "      <th>158551</th>\n",
       "      <td>3363</td>\n",
       "      <td>Blessing in Disguise</td>\n",
       "      <td>5.436960942397198e-05</td>\n",
       "    </tr>\n",
       "    <tr>\n",
       "      <th>162859</th>\n",
       "      <td>3363</td>\n",
       "      <td>The Phantom of the Opera: The Original Novel</td>\n",
       "      <td>2.837837734935499e-05</td>\n",
       "    </tr>\n",
       "    <tr>\n",
       "      <th>163010</th>\n",
       "      <td>3363</td>\n",
       "      <td>The Secret Life of Bees</td>\n",
       "      <td>0.04769790445969215</td>\n",
       "    </tr>\n",
       "    <tr>\n",
       "      <th>159787</th>\n",
       "      <td>3363</td>\n",
       "      <td>Harry Potter and the Chamber of Secrets (Book 2)</td>\n",
       "      <td>0.04651550375934195</td>\n",
       "    </tr>\n",
       "    <tr>\n",
       "      <th>159791</th>\n",
       "      <td>3363</td>\n",
       "      <td>Harry Potter and the Prisoner of Azkaban (Book 3)</td>\n",
       "      <td>0.043661567275720514</td>\n",
       "    </tr>\n",
       "    <tr>\n",
       "      <th>160356</th>\n",
       "      <td>3363</td>\n",
       "      <td>Life of Pi</td>\n",
       "      <td>0.04158829897224542</td>\n",
       "    </tr>\n",
       "    <tr>\n",
       "      <th>159793</th>\n",
       "      <td>3363</td>\n",
       "      <td>Harry Potter and the Sorcerer's Stone (Harry P...</td>\n",
       "      <td>0.03935222924055055</td>\n",
       "    </tr>\n",
       "    <tr>\n",
       "      <th>162934</th>\n",
       "      <td>3363</td>\n",
       "      <td>The Red Tent (Bestselling Backlist)</td>\n",
       "      <td>0.03886915131250633</td>\n",
       "    </tr>\n",
       "    <tr>\n",
       "      <th>163351</th>\n",
       "      <td>3363</td>\n",
       "      <td>To Kill a Mockingbird</td>\n",
       "      <td>0.03810522173805007</td>\n",
       "    </tr>\n",
       "    <tr>\n",
       "      <th>159789</th>\n",
       "      <td>3363</td>\n",
       "      <td>Harry Potter and the Goblet of Fire (Book 4)</td>\n",
       "      <td>0.037646054201801275</td>\n",
       "    </tr>\n",
       "    <tr>\n",
       "      <th>158307</th>\n",
       "      <td>3363</td>\n",
       "      <td>Angels &amp;amp; Demons</td>\n",
       "      <td>0.036045877059216025</td>\n",
       "    </tr>\n",
       "    <tr>\n",
       "      <th>159790</th>\n",
       "      <td>3363</td>\n",
       "      <td>Harry Potter and the Order of the Phoenix (Boo...</td>\n",
       "      <td>0.034935373383892736</td>\n",
       "    </tr>\n",
       "    <tr>\n",
       "      <th>158074</th>\n",
       "      <td>3363</td>\n",
       "      <td>A Painted House</td>\n",
       "      <td>0.03107961840840053</td>\n",
       "    </tr>\n",
       "    <tr>\n",
       "      <th>158133</th>\n",
       "      <td>3363</td>\n",
       "      <td>A Time to Kill</td>\n",
       "      <td>0.030796609972554085</td>\n",
       "    </tr>\n",
       "    <tr>\n",
       "      <th>162403</th>\n",
       "      <td>3363</td>\n",
       "      <td>The Firm</td>\n",
       "      <td>0.03049275095036918</td>\n",
       "    </tr>\n",
       "    <tr>\n",
       "      <th>159684</th>\n",
       "      <td>3363</td>\n",
       "      <td>Girl with a Pearl Earring</td>\n",
       "      <td>0.028547270112014113</td>\n",
       "    </tr>\n",
       "    <tr>\n",
       "      <th>163431</th>\n",
       "      <td>3363</td>\n",
       "      <td>Tuesdays with Morrie: An Old Man, a Young Man,...</td>\n",
       "      <td>0.028469746435970486</td>\n",
       "    </tr>\n",
       "    <tr>\n",
       "      <th>162874</th>\n",
       "      <td>3363</td>\n",
       "      <td>The Pilot's Wife : A Novel</td>\n",
       "      <td>0.02836553114198562</td>\n",
       "    </tr>\n",
       "  </tbody>\n",
       "</table>\n",
       "</div>"
      ],
      "text/plain": [
       "        User-ID  ...             Book-Rating\n",
       "161444     3363  ...   8.762174754638372e-05\n",
       "163564     3363  ...  5.4481050503723195e-05\n",
       "158551     3363  ...   5.436960942397198e-05\n",
       "162859     3363  ...   2.837837734935499e-05\n",
       "163010     3363  ...     0.04769790445969215\n",
       "159787     3363  ...     0.04651550375934195\n",
       "159791     3363  ...    0.043661567275720514\n",
       "160356     3363  ...     0.04158829897224542\n",
       "159793     3363  ...     0.03935222924055055\n",
       "162934     3363  ...     0.03886915131250633\n",
       "163351     3363  ...     0.03810522173805007\n",
       "159789     3363  ...    0.037646054201801275\n",
       "158307     3363  ...    0.036045877059216025\n",
       "159790     3363  ...    0.034935373383892736\n",
       "158074     3363  ...     0.03107961840840053\n",
       "158133     3363  ...    0.030796609972554085\n",
       "162403     3363  ...     0.03049275095036918\n",
       "159684     3363  ...    0.028547270112014113\n",
       "163431     3363  ...    0.028469746435970486\n",
       "162874     3363  ...     0.02836553114198562\n",
       "\n",
       "[20 rows x 3 columns]"
      ]
     },
     "execution_count": 68,
     "metadata": {
      "tags": []
     },
     "output_type": "execute_result"
    }
   ],
   "source": [
    "top_ranked[top_ranked['User-ID'] == 3363]"
   ]
  },
  {
   "cell_type": "code",
   "execution_count": 0,
   "metadata": {
    "colab": {},
    "colab_type": "code",
    "id": "6fhDOYO0R3RU"
   },
   "outputs": [],
   "source": [
    "top_ranked.info()"
   ]
  },
  {
   "cell_type": "code",
   "execution_count": 110,
   "metadata": {
    "colab": {
     "base_uri": "https://localhost:8080/",
     "height": 138
    },
    "colab_type": "code",
    "executionInfo": {
     "elapsed": 2104,
     "status": "ok",
     "timestamp": 1581804362227,
     "user": {
      "displayName": "Prashant Arora",
      "photoUrl": "",
      "userId": "17509553824158463421"
     },
     "user_tz": -330
    },
    "id": "yXX3LaxXTMVE",
    "outputId": "7e3c7171-1d2b-45d7-e1c6-eb832982dcc2"
   },
   "outputs": [
    {
     "name": "stderr",
     "output_type": "stream",
     "text": [
      "b'Skipping line 6452: expected 8 fields, saw 9\\nSkipping line 43667: expected 8 fields, saw 10\\nSkipping line 51751: expected 8 fields, saw 9\\n'\n",
      "b'Skipping line 92038: expected 8 fields, saw 9\\nSkipping line 104319: expected 8 fields, saw 9\\nSkipping line 121768: expected 8 fields, saw 9\\n'\n",
      "b'Skipping line 144058: expected 8 fields, saw 9\\nSkipping line 150789: expected 8 fields, saw 9\\nSkipping line 157128: expected 8 fields, saw 9\\nSkipping line 180189: expected 8 fields, saw 9\\nSkipping line 185738: expected 8 fields, saw 9\\n'\n",
      "b'Skipping line 209388: expected 8 fields, saw 9\\nSkipping line 220626: expected 8 fields, saw 9\\nSkipping line 227933: expected 8 fields, saw 11\\nSkipping line 228957: expected 8 fields, saw 10\\nSkipping line 245933: expected 8 fields, saw 9\\nSkipping line 251296: expected 8 fields, saw 9\\nSkipping line 259941: expected 8 fields, saw 9\\nSkipping line 261529: expected 8 fields, saw 9\\n'\n",
      "/usr/local/lib/python3.6/dist-packages/IPython/core/interactiveshell.py:2718: DtypeWarning: Columns (3) have mixed types. Specify dtype option on import or set low_memory=False.\n",
      "  interactivity=interactivity, compiler=compiler, result=result)\n"
     ]
    }
   ],
   "source": [
    "book_df = pd.read_csv(\"BX-Books.csv\",encoding=\"latin-1\",sep=\";\",error_bad_lines=False,skip_blank_lines=True)"
   ]
  },
  {
   "cell_type": "code",
   "execution_count": 87,
   "metadata": {
    "colab": {
     "base_uri": "https://localhost:8080/",
     "height": 639
    },
    "colab_type": "code",
    "executionInfo": {
     "elapsed": 776,
     "status": "ok",
     "timestamp": 1581802201648,
     "user": {
      "displayName": "Prashant Arora",
      "photoUrl": "",
      "userId": "17509553824158463421"
     },
     "user_tz": -330
    },
    "id": "YESFUEsg-EGS",
    "outputId": "509378fb-f8c9-4b2e-8ed2-0001cc766c31"
   },
   "outputs": [
    {
     "data": {
      "text/html": [
       "<div>\n",
       "<style scoped>\n",
       "    .dataframe tbody tr th:only-of-type {\n",
       "        vertical-align: middle;\n",
       "    }\n",
       "\n",
       "    .dataframe tbody tr th {\n",
       "        vertical-align: top;\n",
       "    }\n",
       "\n",
       "    .dataframe thead th {\n",
       "        text-align: right;\n",
       "    }\n",
       "</style>\n",
       "<table border=\"1\" class=\"dataframe\">\n",
       "  <thead>\n",
       "    <tr style=\"text-align: right;\">\n",
       "      <th></th>\n",
       "      <th>User-ID</th>\n",
       "      <th>Book-Title</th>\n",
       "      <th>Book-Rating</th>\n",
       "    </tr>\n",
       "  </thead>\n",
       "  <tbody>\n",
       "    <tr>\n",
       "      <th>623594</th>\n",
       "      <td>11676</td>\n",
       "      <td>Salt: A World History</td>\n",
       "      <td>8.770141110470709e-05</td>\n",
       "    </tr>\n",
       "    <tr>\n",
       "      <th>620701</th>\n",
       "      <td>11676</td>\n",
       "      <td>Blessing in Disguise</td>\n",
       "      <td>5.450145263184445e-05</td>\n",
       "    </tr>\n",
       "    <tr>\n",
       "      <th>625714</th>\n",
       "      <td>11676</td>\n",
       "      <td>War and Peace (Wordsworth Classics)</td>\n",
       "      <td>5.4325859534024155e-05</td>\n",
       "    </tr>\n",
       "    <tr>\n",
       "      <th>625009</th>\n",
       "      <td>11676</td>\n",
       "      <td>The Phantom of the Opera: The Original Novel</td>\n",
       "      <td>2.8369953315914378e-05</td>\n",
       "    </tr>\n",
       "    <tr>\n",
       "      <th>624658</th>\n",
       "      <td>11676</td>\n",
       "      <td>The Gunslinger (The Dark Tower, Book 1)</td>\n",
       "      <td>0.01577059240675153</td>\n",
       "    </tr>\n",
       "    <tr>\n",
       "      <th>624466</th>\n",
       "      <td>11676</td>\n",
       "      <td>The Drawing of the Three (The Dark Tower, Book 2)</td>\n",
       "      <td>0.015391402093504543</td>\n",
       "    </tr>\n",
       "    <tr>\n",
       "      <th>625241</th>\n",
       "      <td>11676</td>\n",
       "      <td>The Subtle Knife (His Dark Materials, Book 2)</td>\n",
       "      <td>0.015233366391713892</td>\n",
       "    </tr>\n",
       "    <tr>\n",
       "      <th>624407</th>\n",
       "      <td>11676</td>\n",
       "      <td>The Dark Half</td>\n",
       "      <td>0.014155767631679925</td>\n",
       "    </tr>\n",
       "    <tr>\n",
       "      <th>621835</th>\n",
       "      <td>11676</td>\n",
       "      <td>Girl, Interrupted</td>\n",
       "      <td>0.013257784096397184</td>\n",
       "    </tr>\n",
       "    <tr>\n",
       "      <th>624829</th>\n",
       "      <td>11676</td>\n",
       "      <td>The Little Prince</td>\n",
       "      <td>0.012766611511834832</td>\n",
       "    </tr>\n",
       "    <tr>\n",
       "      <th>621728</th>\n",
       "      <td>11676</td>\n",
       "      <td>Four Past Midnight</td>\n",
       "      <td>0.012433944067997483</td>\n",
       "    </tr>\n",
       "    <tr>\n",
       "      <th>622012</th>\n",
       "      <td>11676</td>\n",
       "      <td>High Fidelity</td>\n",
       "      <td>0.012426334103960787</td>\n",
       "    </tr>\n",
       "    <tr>\n",
       "      <th>621816</th>\n",
       "      <td>11676</td>\n",
       "      <td>Gerald's Game</td>\n",
       "      <td>0.01196222761014665</td>\n",
       "    </tr>\n",
       "    <tr>\n",
       "      <th>623531</th>\n",
       "      <td>11676</td>\n",
       "      <td>Rose Madder</td>\n",
       "      <td>0.011946764819746427</td>\n",
       "    </tr>\n",
       "    <tr>\n",
       "      <th>624147</th>\n",
       "      <td>11676</td>\n",
       "      <td>The Amber Spyglass (His Dark Materials, Book 3)</td>\n",
       "      <td>0.011370725919921543</td>\n",
       "    </tr>\n",
       "    <tr>\n",
       "      <th>621909</th>\n",
       "      <td>11676</td>\n",
       "      <td>Guilty Pleasures (Anita Blake Vampire Hunter (...</td>\n",
       "      <td>0.010891933699846925</td>\n",
       "    </tr>\n",
       "    <tr>\n",
       "      <th>624931</th>\n",
       "      <td>11676</td>\n",
       "      <td>The Mummy or Ramses the Damned</td>\n",
       "      <td>0.010652764774325404</td>\n",
       "    </tr>\n",
       "    <tr>\n",
       "      <th>624092</th>\n",
       "      <td>11676</td>\n",
       "      <td>Tears of the Moon (Irish Trilogy)</td>\n",
       "      <td>0.009779326018312148</td>\n",
       "    </tr>\n",
       "    <tr>\n",
       "      <th>624517</th>\n",
       "      <td>11676</td>\n",
       "      <td>The Eyes of the Dragon</td>\n",
       "      <td>0.009582052538038495</td>\n",
       "    </tr>\n",
       "    <tr>\n",
       "      <th>620532</th>\n",
       "      <td>11676</td>\n",
       "      <td>Atlas Shrugged</td>\n",
       "      <td>0.009424244574307726</td>\n",
       "    </tr>\n",
       "  </tbody>\n",
       "</table>\n",
       "</div>"
      ],
      "text/plain": [
       "        User-ID  ...             Book-Rating\n",
       "623594    11676  ...   8.770141110470709e-05\n",
       "620701    11676  ...   5.450145263184445e-05\n",
       "625714    11676  ...  5.4325859534024155e-05\n",
       "625009    11676  ...  2.8369953315914378e-05\n",
       "624658    11676  ...     0.01577059240675153\n",
       "624466    11676  ...    0.015391402093504543\n",
       "625241    11676  ...    0.015233366391713892\n",
       "624407    11676  ...    0.014155767631679925\n",
       "621835    11676  ...    0.013257784096397184\n",
       "624829    11676  ...    0.012766611511834832\n",
       "621728    11676  ...    0.012433944067997483\n",
       "622012    11676  ...    0.012426334103960787\n",
       "621816    11676  ...     0.01196222761014665\n",
       "623531    11676  ...    0.011946764819746427\n",
       "624147    11676  ...    0.011370725919921543\n",
       "621909    11676  ...    0.010891933699846925\n",
       "624931    11676  ...    0.010652764774325404\n",
       "624092    11676  ...    0.009779326018312148\n",
       "624517    11676  ...    0.009582052538038495\n",
       "620532    11676  ...    0.009424244574307726\n",
       "\n",
       "[20 rows x 3 columns]"
      ]
     },
     "execution_count": 87,
     "metadata": {
      "tags": []
     },
     "output_type": "execute_result"
    }
   ],
   "source": [
    "top_ranked[top_ranked[\"User-ID\"] == 11676]"
   ]
  },
  {
   "cell_type": "code",
   "execution_count": 0,
   "metadata": {
    "colab": {},
    "colab_type": "code",
    "id": "s_3RoNtLFC8k"
   },
   "outputs": [],
   "source": []
  },
  {
   "cell_type": "code",
   "execution_count": 0,
   "metadata": {
    "colab": {
     "base_uri": "https://localhost:8080/",
     "height": 1000
    },
    "colab_type": "code",
    "executionInfo": {
     "elapsed": 226635,
     "status": "ok",
     "timestamp": 1581718587647,
     "user": {
      "displayName": "Prashant Arora",
      "photoUrl": "",
      "userId": "17509553824158463421"
     },
     "user_tz": -330
    },
    "id": "nU-59OodDDC7",
    "outputId": "c4920406-ac5c-4fdb-9bce-5a0c66ab9ae0"
   },
   "outputs": [
    {
     "data": {
      "text/html": [
       "<div>\n",
       "<style scoped>\n",
       "    .dataframe tbody tr th:only-of-type {\n",
       "        vertical-align: middle;\n",
       "    }\n",
       "\n",
       "    .dataframe tbody tr th {\n",
       "        vertical-align: top;\n",
       "    }\n",
       "\n",
       "    .dataframe thead th {\n",
       "        text-align: right;\n",
       "    }\n",
       "</style>\n",
       "<table border=\"1\" class=\"dataframe\">\n",
       "  <thead>\n",
       "    <tr style=\"text-align: right;\">\n",
       "      <th></th>\n",
       "      <th>index</th>\n",
       "      <th>Book-Title</th>\n",
       "      <th>Book-Rating</th>\n",
       "      <th>ISBN</th>\n",
       "      <th>Book-Author</th>\n",
       "      <th>Year-Of-Publication</th>\n",
       "      <th>Publisher</th>\n",
       "      <th>Image-URL-S</th>\n",
       "      <th>Image-URL-M</th>\n",
       "      <th>Image-URL-L</th>\n",
       "    </tr>\n",
       "  </thead>\n",
       "  <tbody>\n",
       "    <tr>\n",
       "      <th>0</th>\n",
       "      <td>0</td>\n",
       "      <td>Carter Beats the Devil</td>\n",
       "      <td>9.499436684128026e-05</td>\n",
       "      <td>0786886323</td>\n",
       "      <td>Glen Gold</td>\n",
       "      <td>2002</td>\n",
       "      <td>Hyperion</td>\n",
       "      <td>http://images.amazon.com/images/P/0786886323.0...</td>\n",
       "      <td>http://images.amazon.com/images/P/0786886323.0...</td>\n",
       "      <td>http://images.amazon.com/images/P/0786886323.0...</td>\n",
       "    </tr>\n",
       "    <tr>\n",
       "      <th>3</th>\n",
       "      <td>3</td>\n",
       "      <td>By the Sword (Kerowyn's Tale)</td>\n",
       "      <td>9.419164512540417e-05</td>\n",
       "      <td>0886774632</td>\n",
       "      <td>Mercedes Lackey</td>\n",
       "      <td>1991</td>\n",
       "      <td>Daw Books</td>\n",
       "      <td>http://images.amazon.com/images/P/0886774632.0...</td>\n",
       "      <td>http://images.amazon.com/images/P/0886774632.0...</td>\n",
       "      <td>http://images.amazon.com/images/P/0886774632.0...</td>\n",
       "    </tr>\n",
       "    <tr>\n",
       "      <th>4</th>\n",
       "      <td>4</td>\n",
       "      <td>Someone Like You</td>\n",
       "      <td>8.663302353764591e-05</td>\n",
       "      <td>0449150062</td>\n",
       "      <td>Elaine Coffman</td>\n",
       "      <td>1998</td>\n",
       "      <td>Ivy Books</td>\n",
       "      <td>http://images.amazon.com/images/P/0449150062.0...</td>\n",
       "      <td>http://images.amazon.com/images/P/0449150062.0...</td>\n",
       "      <td>http://images.amazon.com/images/P/0449150062.0...</td>\n",
       "    </tr>\n",
       "    <tr>\n",
       "      <th>11</th>\n",
       "      <td>11</td>\n",
       "      <td>What We Keep : A Novel (Ballantine Reader's Ci...</td>\n",
       "      <td>7.404989165678294e-05</td>\n",
       "      <td>0345423291</td>\n",
       "      <td>Elizabeth Berg</td>\n",
       "      <td>1999</td>\n",
       "      <td>Ballantine Books</td>\n",
       "      <td>http://images.amazon.com/images/P/0345423291.0...</td>\n",
       "      <td>http://images.amazon.com/images/P/0345423291.0...</td>\n",
       "      <td>http://images.amazon.com/images/P/0345423291.0...</td>\n",
       "    </tr>\n",
       "    <tr>\n",
       "      <th>12</th>\n",
       "      <td>12</td>\n",
       "      <td>Death by Darjeeling (Tea Shop Mysteries)</td>\n",
       "      <td>4.243822778610553e-05</td>\n",
       "      <td>0425179451</td>\n",
       "      <td>Laura Childs</td>\n",
       "      <td>2001</td>\n",
       "      <td>Berkley Publishing Group</td>\n",
       "      <td>http://images.amazon.com/images/P/0425179451.0...</td>\n",
       "      <td>http://images.amazon.com/images/P/0425179451.0...</td>\n",
       "      <td>http://images.amazon.com/images/P/0425179451.0...</td>\n",
       "    </tr>\n",
       "    <tr>\n",
       "      <th>13</th>\n",
       "      <td>13</td>\n",
       "      <td>Blue Mars</td>\n",
       "      <td>3.700674506618443e-05</td>\n",
       "      <td>0553573357</td>\n",
       "      <td>Kim Stanley Robinson</td>\n",
       "      <td>1997</td>\n",
       "      <td>Spectra Books</td>\n",
       "      <td>http://images.amazon.com/images/P/0553573357.0...</td>\n",
       "      <td>http://images.amazon.com/images/P/0553573357.0...</td>\n",
       "      <td>http://images.amazon.com/images/P/0553573357.0...</td>\n",
       "    </tr>\n",
       "    <tr>\n",
       "      <th>14</th>\n",
       "      <td>14</td>\n",
       "      <td>The Da Vinci Code</td>\n",
       "      <td>0.06187894768332087</td>\n",
       "      <td>0385504209</td>\n",
       "      <td>Dan Brown</td>\n",
       "      <td>2003</td>\n",
       "      <td>Doubleday</td>\n",
       "      <td>http://images.amazon.com/images/P/0385504209.0...</td>\n",
       "      <td>http://images.amazon.com/images/P/0385504209.0...</td>\n",
       "      <td>http://images.amazon.com/images/P/0385504209.0...</td>\n",
       "    </tr>\n",
       "    <tr>\n",
       "      <th>20</th>\n",
       "      <td>20</td>\n",
       "      <td>The Secret Life of Bees</td>\n",
       "      <td>0.04806502104828866</td>\n",
       "      <td>0142001740</td>\n",
       "      <td>Sue Monk Kidd</td>\n",
       "      <td>2003</td>\n",
       "      <td>Penguin Books</td>\n",
       "      <td>http://images.amazon.com/images/P/0142001740.0...</td>\n",
       "      <td>http://images.amazon.com/images/P/0142001740.0...</td>\n",
       "      <td>http://images.amazon.com/images/P/0142001740.0...</td>\n",
       "    </tr>\n",
       "    <tr>\n",
       "      <th>26</th>\n",
       "      <td>26</td>\n",
       "      <td>Harry Potter and the Chamber of Secrets (Book 2)</td>\n",
       "      <td>0.046674883448752626</td>\n",
       "      <td>0439064872</td>\n",
       "      <td>J. K. Rowling</td>\n",
       "      <td>2000</td>\n",
       "      <td>Scholastic</td>\n",
       "      <td>http://images.amazon.com/images/P/0439064872.0...</td>\n",
       "      <td>http://images.amazon.com/images/P/0439064872.0...</td>\n",
       "      <td>http://images.amazon.com/images/P/0439064872.0...</td>\n",
       "    </tr>\n",
       "    <tr>\n",
       "      <th>29</th>\n",
       "      <td>29</td>\n",
       "      <td>Harry Potter and the Prisoner of Azkaban (Book 3)</td>\n",
       "      <td>0.04357327832072581</td>\n",
       "      <td>0439136350</td>\n",
       "      <td>J. K. Rowling</td>\n",
       "      <td>1999</td>\n",
       "      <td>Scholastic</td>\n",
       "      <td>http://images.amazon.com/images/P/0439136350.0...</td>\n",
       "      <td>http://images.amazon.com/images/P/0439136350.0...</td>\n",
       "      <td>http://images.amazon.com/images/P/0439136350.0...</td>\n",
       "    </tr>\n",
       "    <tr>\n",
       "      <th>32</th>\n",
       "      <td>32</td>\n",
       "      <td>Bridget Jones's Diary</td>\n",
       "      <td>0.04230701051591446</td>\n",
       "      <td>0330332775</td>\n",
       "      <td>Helen Fielding</td>\n",
       "      <td>1997</td>\n",
       "      <td>Picador (UK)</td>\n",
       "      <td>http://images.amazon.com/images/P/0330332775.0...</td>\n",
       "      <td>http://images.amazon.com/images/P/0330332775.0...</td>\n",
       "      <td>http://images.amazon.com/images/P/0330332775.0...</td>\n",
       "    </tr>\n",
       "    <tr>\n",
       "      <th>38</th>\n",
       "      <td>38</td>\n",
       "      <td>Life of Pi</td>\n",
       "      <td>0.04219982548236285</td>\n",
       "      <td>0151008116</td>\n",
       "      <td>Yann Martel</td>\n",
       "      <td>2002</td>\n",
       "      <td>Harcourt</td>\n",
       "      <td>http://images.amazon.com/images/P/0151008116.0...</td>\n",
       "      <td>http://images.amazon.com/images/P/0151008116.0...</td>\n",
       "      <td>http://images.amazon.com/images/P/0151008116.0...</td>\n",
       "    </tr>\n",
       "    <tr>\n",
       "      <th>42</th>\n",
       "      <td>42</td>\n",
       "      <td>The Red Tent (Bestselling Backlist)</td>\n",
       "      <td>0.039656881696914226</td>\n",
       "      <td>0312195516</td>\n",
       "      <td>Anita Diamant</td>\n",
       "      <td>1998</td>\n",
       "      <td>Picador USA</td>\n",
       "      <td>http://images.amazon.com/images/P/0312195516.0...</td>\n",
       "      <td>http://images.amazon.com/images/P/0312195516.0...</td>\n",
       "      <td>http://images.amazon.com/images/P/0312195516.0...</td>\n",
       "    </tr>\n",
       "    <tr>\n",
       "      <th>43</th>\n",
       "      <td>43</td>\n",
       "      <td>Harry Potter and the Sorcerer's Stone (Harry P...</td>\n",
       "      <td>0.03927888951755383</td>\n",
       "      <td>059035342X</td>\n",
       "      <td>J. K. Rowling</td>\n",
       "      <td>1999</td>\n",
       "      <td>Arthur A. Levine Books</td>\n",
       "      <td>http://images.amazon.com/images/P/059035342X.0...</td>\n",
       "      <td>http://images.amazon.com/images/P/059035342X.0...</td>\n",
       "      <td>http://images.amazon.com/images/P/059035342X.0...</td>\n",
       "    </tr>\n",
       "    <tr>\n",
       "      <th>45</th>\n",
       "      <td>45</td>\n",
       "      <td>To Kill a Mockingbird</td>\n",
       "      <td>0.03802947190484414</td>\n",
       "      <td>0446310786</td>\n",
       "      <td>Harper Lee</td>\n",
       "      <td>1988</td>\n",
       "      <td>Little Brown &amp;amp; Company</td>\n",
       "      <td>http://images.amazon.com/images/P/0446310786.0...</td>\n",
       "      <td>http://images.amazon.com/images/P/0446310786.0...</td>\n",
       "      <td>http://images.amazon.com/images/P/0446310786.0...</td>\n",
       "    </tr>\n",
       "    <tr>\n",
       "      <th>53</th>\n",
       "      <td>53</td>\n",
       "      <td>Harry Potter and the Goblet of Fire (Book 4)</td>\n",
       "      <td>0.03751086543775695</td>\n",
       "      <td>0439139597</td>\n",
       "      <td>J. K. Rowling</td>\n",
       "      <td>2000</td>\n",
       "      <td>Scholastic</td>\n",
       "      <td>http://images.amazon.com/images/P/0439139597.0...</td>\n",
       "      <td>http://images.amazon.com/images/P/0439139597.0...</td>\n",
       "      <td>http://images.amazon.com/images/P/0439139597.0...</td>\n",
       "    </tr>\n",
       "    <tr>\n",
       "      <th>55</th>\n",
       "      <td>55</td>\n",
       "      <td>Harry Potter and the Order of the Phoenix (Boo...</td>\n",
       "      <td>0.034927869830153994</td>\n",
       "      <td>043935806X</td>\n",
       "      <td>J. K. Rowling</td>\n",
       "      <td>2003</td>\n",
       "      <td>Scholastic</td>\n",
       "      <td>http://images.amazon.com/images/P/043935806X.0...</td>\n",
       "      <td>http://images.amazon.com/images/P/043935806X.0...</td>\n",
       "      <td>http://images.amazon.com/images/P/043935806X.0...</td>\n",
       "    </tr>\n",
       "    <tr>\n",
       "      <th>59</th>\n",
       "      <td>59</td>\n",
       "      <td>Where the Heart Is (Oprah's Book Club (Paperba...</td>\n",
       "      <td>0.0343585682982422</td>\n",
       "      <td>0446672211</td>\n",
       "      <td>Billie Letts</td>\n",
       "      <td>1998</td>\n",
       "      <td>Warner Books</td>\n",
       "      <td>http://images.amazon.com/images/P/0446672211.0...</td>\n",
       "      <td>http://images.amazon.com/images/P/0446672211.0...</td>\n",
       "      <td>http://images.amazon.com/images/P/0446672211.0...</td>\n",
       "    </tr>\n",
       "    <tr>\n",
       "      <th>60</th>\n",
       "      <td>60</td>\n",
       "      <td>The Nanny Diaries: A Novel</td>\n",
       "      <td>0.03367052103626669</td>\n",
       "      <td>0312278586</td>\n",
       "      <td>Emma McLaughlin</td>\n",
       "      <td>2002</td>\n",
       "      <td>St. Martin's Press</td>\n",
       "      <td>http://images.amazon.com/images/P/0312278586.0...</td>\n",
       "      <td>http://images.amazon.com/images/P/0312278586.0...</td>\n",
       "      <td>http://images.amazon.com/images/P/0312278586.0...</td>\n",
       "    </tr>\n",
       "    <tr>\n",
       "      <th>62</th>\n",
       "      <td>62</td>\n",
       "      <td>Divine Secrets of the Ya-Ya Sisterhood: A Novel</td>\n",
       "      <td>0.03247817634306049</td>\n",
       "      <td>0060928336</td>\n",
       "      <td>Rebecca Wells</td>\n",
       "      <td>1997</td>\n",
       "      <td>Perennial</td>\n",
       "      <td>http://images.amazon.com/images/P/0060928336.0...</td>\n",
       "      <td>http://images.amazon.com/images/P/0060928336.0...</td>\n",
       "      <td>http://images.amazon.com/images/P/0060928336.0...</td>\n",
       "    </tr>\n",
       "  </tbody>\n",
       "</table>\n",
       "</div>"
      ],
      "text/plain": [
       "    index  ...                                        Image-URL-L\n",
       "0       0  ...  http://images.amazon.com/images/P/0786886323.0...\n",
       "3       3  ...  http://images.amazon.com/images/P/0886774632.0...\n",
       "4       4  ...  http://images.amazon.com/images/P/0449150062.0...\n",
       "11     11  ...  http://images.amazon.com/images/P/0345423291.0...\n",
       "12     12  ...  http://images.amazon.com/images/P/0425179451.0...\n",
       "13     13  ...  http://images.amazon.com/images/P/0553573357.0...\n",
       "14     14  ...  http://images.amazon.com/images/P/0385504209.0...\n",
       "20     20  ...  http://images.amazon.com/images/P/0142001740.0...\n",
       "26     26  ...  http://images.amazon.com/images/P/0439064872.0...\n",
       "29     29  ...  http://images.amazon.com/images/P/0439136350.0...\n",
       "32     32  ...  http://images.amazon.com/images/P/0330332775.0...\n",
       "38     38  ...  http://images.amazon.com/images/P/0151008116.0...\n",
       "42     42  ...  http://images.amazon.com/images/P/0312195516.0...\n",
       "43     43  ...  http://images.amazon.com/images/P/059035342X.0...\n",
       "45     45  ...  http://images.amazon.com/images/P/0446310786.0...\n",
       "53     53  ...  http://images.amazon.com/images/P/0439139597.0...\n",
       "55     55  ...  http://images.amazon.com/images/P/043935806X.0...\n",
       "59     59  ...  http://images.amazon.com/images/P/0446672211.0...\n",
       "60     60  ...  http://images.amazon.com/images/P/0312278586.0...\n",
       "62     62  ...  http://images.amazon.com/images/P/0060928336.0...\n",
       "\n",
       "[20 rows x 10 columns]"
      ]
     },
     "execution_count": 52,
     "metadata": {
      "tags": []
     },
     "output_type": "execute_result"
    }
   ],
   "source": [
    "temp = top_ranked[top_ranked['User-ID'] == 243].merge(book_df)\n",
    "temp = temp.reset_index().drop([\"index\",\"User-ID\"],axis=1).reset_index()\n",
    "temp = temp.drop_duplicates(\"Book-Title\")\n",
    "# temp=temp.rename(columns = {\"index\":\"id\",\n",
    "#                   \"Book-Title\":\"Title\",\n",
    "#                   \"Book-Rating\":\"Rating\",\n",
    "#                   \"Book-Author\":\"Author\",\n",
    "#                   \"Year-Of-Publication\":\"published_in\",\n",
    "#                   \"Image-URL-S\" :\"image_s\",\n",
    "#                   \"Image-URL-M\" :\"image_m\",\n",
    "#                   \"Image-URL-L\" :\"image_l\",\n",
    "#                   })\n",
    "temp"
   ]
  },
  {
   "cell_type": "code",
   "execution_count": 0,
   "metadata": {
    "colab": {},
    "colab_type": "code",
    "id": "rTiEVKOKDF1m"
   },
   "outputs": [],
   "source": [
    "# temp.to_json(orient=\"records\")"
   ]
  },
  {
   "cell_type": "code",
   "execution_count": 0,
   "metadata": {
    "colab": {
     "base_uri": "https://localhost:8080/",
     "height": 373
    },
    "colab_type": "code",
    "executionInfo": {
     "elapsed": 226095,
     "status": "ok",
     "timestamp": 1581718587649,
     "user": {
      "displayName": "Prashant Arora",
      "photoUrl": "",
      "userId": "17509553824158463421"
     },
     "user_tz": -330
    },
    "id": "yU_0YPi8N_Q6",
    "outputId": "0cb91b7c-4dd0-4370-d35e-6bbf1e0ca750"
   },
   "outputs": [
    {
     "data": {
      "text/html": [
       "<div>\n",
       "<style scoped>\n",
       "    .dataframe tbody tr th:only-of-type {\n",
       "        vertical-align: middle;\n",
       "    }\n",
       "\n",
       "    .dataframe tbody tr th {\n",
       "        vertical-align: top;\n",
       "    }\n",
       "\n",
       "    .dataframe thead th {\n",
       "        text-align: right;\n",
       "    }\n",
       "</style>\n",
       "<table border=\"1\" class=\"dataframe\">\n",
       "  <thead>\n",
       "    <tr style=\"text-align: right;\">\n",
       "      <th></th>\n",
       "      <th>pearsonR</th>\n",
       "      <th>ratingCount</th>\n",
       "    </tr>\n",
       "    <tr>\n",
       "      <th>ISBN</th>\n",
       "      <th></th>\n",
       "      <th></th>\n",
       "    </tr>\n",
       "  </thead>\n",
       "  <tbody>\n",
       "    <tr>\n",
       "      <th>0316666343</th>\n",
       "      <td>1.000</td>\n",
       "      <td>1295</td>\n",
       "    </tr>\n",
       "    <tr>\n",
       "      <th>0446672211</th>\n",
       "      <td>0.411</td>\n",
       "      <td>585</td>\n",
       "    </tr>\n",
       "    <tr>\n",
       "      <th>0312291639</th>\n",
       "      <td>0.391</td>\n",
       "      <td>354</td>\n",
       "    </tr>\n",
       "    <tr>\n",
       "      <th>0446610038</th>\n",
       "      <td>0.361</td>\n",
       "      <td>391</td>\n",
       "    </tr>\n",
       "    <tr>\n",
       "      <th>0060930535</th>\n",
       "      <td>0.349</td>\n",
       "      <td>494</td>\n",
       "    </tr>\n",
       "    <tr>\n",
       "      <th>0316601950</th>\n",
       "      <td>0.336</td>\n",
       "      <td>568</td>\n",
       "    </tr>\n",
       "    <tr>\n",
       "      <th>0345342968</th>\n",
       "      <td>0.322</td>\n",
       "      <td>321</td>\n",
       "    </tr>\n",
       "    <tr>\n",
       "      <th>0385265700</th>\n",
       "      <td>0.315</td>\n",
       "      <td>319</td>\n",
       "    </tr>\n",
       "    <tr>\n",
       "      <th>0060934417</th>\n",
       "      <td>0.282</td>\n",
       "      <td>350</td>\n",
       "    </tr>\n",
       "    <tr>\n",
       "      <th>0671021001</th>\n",
       "      <td>0.263</td>\n",
       "      <td>468</td>\n",
       "    </tr>\n",
       "  </tbody>\n",
       "</table>\n",
       "</div>"
      ],
      "text/plain": [
       "            pearsonR  ratingCount\n",
       "ISBN                             \n",
       "0316666343     1.000         1295\n",
       "0446672211     0.411          585\n",
       "0312291639     0.391          354\n",
       "0446610038     0.361          391\n",
       "0060930535     0.349          494\n",
       "0316601950     0.336          568\n",
       "0345342968     0.322          321\n",
       "0385265700     0.315          319\n",
       "0060934417     0.282          350\n",
       "0671021001     0.263          468"
      ]
     },
     "execution_count": 54,
     "metadata": {
      "tags": []
     },
     "output_type": "execute_result"
    }
   ],
   "source": [
    "recommendations"
   ]
  },
  {
   "cell_type": "code",
   "execution_count": 0,
   "metadata": {
    "colab": {
     "base_uri": "https://localhost:8080/",
     "height": 138
    },
    "colab_type": "code",
    "executionInfo": {
     "elapsed": 226084,
     "status": "ok",
     "timestamp": 1581718590207,
     "user": {
      "displayName": "Prashant Arora",
      "photoUrl": "",
      "userId": "17509553824158463421"
     },
     "user_tz": -330
    },
    "id": "6dI4aZg-FPig",
    "outputId": "68971587-0157-4bb6-9be7-19fce1e8c7c6"
   },
   "outputs": [
    {
     "name": "stderr",
     "output_type": "stream",
     "text": [
      "b'Skipping line 6452: expected 8 fields, saw 9\\nSkipping line 43667: expected 8 fields, saw 10\\nSkipping line 51751: expected 8 fields, saw 9\\n'\n",
      "b'Skipping line 92038: expected 8 fields, saw 9\\nSkipping line 104319: expected 8 fields, saw 9\\nSkipping line 121768: expected 8 fields, saw 9\\n'\n",
      "b'Skipping line 144058: expected 8 fields, saw 9\\nSkipping line 150789: expected 8 fields, saw 9\\nSkipping line 157128: expected 8 fields, saw 9\\nSkipping line 180189: expected 8 fields, saw 9\\nSkipping line 185738: expected 8 fields, saw 9\\n'\n",
      "b'Skipping line 209388: expected 8 fields, saw 9\\nSkipping line 220626: expected 8 fields, saw 9\\nSkipping line 227933: expected 8 fields, saw 11\\nSkipping line 228957: expected 8 fields, saw 10\\nSkipping line 245933: expected 8 fields, saw 9\\nSkipping line 251296: expected 8 fields, saw 9\\nSkipping line 259941: expected 8 fields, saw 9\\nSkipping line 261529: expected 8 fields, saw 9\\n'\n",
      "/usr/local/lib/python3.6/dist-packages/IPython/core/interactiveshell.py:2718: DtypeWarning: Columns (3) have mixed types. Specify dtype option on import or set low_memory=False.\n",
      "  interactivity=interactivity, compiler=compiler, result=result)\n"
     ]
    }
   ],
   "source": [
    "book = pd.read_csv('BX-Books.csv', sep=';', error_bad_lines=False, encoding=\"latin-1\")"
   ]
  },
  {
   "cell_type": "code",
   "execution_count": 0,
   "metadata": {
    "colab": {
     "base_uri": "https://localhost:8080/",
     "height": 858
    },
    "colab_type": "code",
    "executionInfo": {
     "elapsed": 225811,
     "status": "ok",
     "timestamp": 1581718590209,
     "user": {
      "displayName": "Prashant Arora",
      "photoUrl": "",
      "userId": "17509553824158463421"
     },
     "user_tz": -330
    },
    "id": "SFJ6boMAZQjK",
    "outputId": "1c7d59c6-8a4e-4783-bed5-31d5388f395e"
   },
   "outputs": [
    {
     "data": {
      "text/html": [
       "<div>\n",
       "<style scoped>\n",
       "    .dataframe tbody tr th:only-of-type {\n",
       "        vertical-align: middle;\n",
       "    }\n",
       "\n",
       "    .dataframe tbody tr th {\n",
       "        vertical-align: top;\n",
       "    }\n",
       "\n",
       "    .dataframe thead th {\n",
       "        text-align: right;\n",
       "    }\n",
       "</style>\n",
       "<table border=\"1\" class=\"dataframe\">\n",
       "  <thead>\n",
       "    <tr style=\"text-align: right;\">\n",
       "      <th></th>\n",
       "      <th>ISBN</th>\n",
       "      <th>Book-Title</th>\n",
       "      <th>Book-Author</th>\n",
       "      <th>Year-Of-Publication</th>\n",
       "      <th>Publisher</th>\n",
       "      <th>Image-URL-S</th>\n",
       "      <th>Image-URL-M</th>\n",
       "      <th>Image-URL-L</th>\n",
       "    </tr>\n",
       "  </thead>\n",
       "  <tbody>\n",
       "    <tr>\n",
       "      <th>0</th>\n",
       "      <td>0195153448</td>\n",
       "      <td>Classical Mythology</td>\n",
       "      <td>Mark P. O. Morford</td>\n",
       "      <td>2002</td>\n",
       "      <td>Oxford University Press</td>\n",
       "      <td>http://images.amazon.com/images/P/0195153448.0...</td>\n",
       "      <td>http://images.amazon.com/images/P/0195153448.0...</td>\n",
       "      <td>http://images.amazon.com/images/P/0195153448.0...</td>\n",
       "    </tr>\n",
       "    <tr>\n",
       "      <th>1</th>\n",
       "      <td>0002005018</td>\n",
       "      <td>Clara Callan</td>\n",
       "      <td>Richard Bruce Wright</td>\n",
       "      <td>2001</td>\n",
       "      <td>HarperFlamingo Canada</td>\n",
       "      <td>http://images.amazon.com/images/P/0002005018.0...</td>\n",
       "      <td>http://images.amazon.com/images/P/0002005018.0...</td>\n",
       "      <td>http://images.amazon.com/images/P/0002005018.0...</td>\n",
       "    </tr>\n",
       "    <tr>\n",
       "      <th>2</th>\n",
       "      <td>0060973129</td>\n",
       "      <td>Decision in Normandy</td>\n",
       "      <td>Carlo D'Este</td>\n",
       "      <td>1991</td>\n",
       "      <td>HarperPerennial</td>\n",
       "      <td>http://images.amazon.com/images/P/0060973129.0...</td>\n",
       "      <td>http://images.amazon.com/images/P/0060973129.0...</td>\n",
       "      <td>http://images.amazon.com/images/P/0060973129.0...</td>\n",
       "    </tr>\n",
       "    <tr>\n",
       "      <th>3</th>\n",
       "      <td>0374157065</td>\n",
       "      <td>Flu: The Story of the Great Influenza Pandemic...</td>\n",
       "      <td>Gina Bari Kolata</td>\n",
       "      <td>1999</td>\n",
       "      <td>Farrar Straus Giroux</td>\n",
       "      <td>http://images.amazon.com/images/P/0374157065.0...</td>\n",
       "      <td>http://images.amazon.com/images/P/0374157065.0...</td>\n",
       "      <td>http://images.amazon.com/images/P/0374157065.0...</td>\n",
       "    </tr>\n",
       "    <tr>\n",
       "      <th>4</th>\n",
       "      <td>0393045218</td>\n",
       "      <td>The Mummies of Urumchi</td>\n",
       "      <td>E. J. W. Barber</td>\n",
       "      <td>1999</td>\n",
       "      <td>W. W. Norton &amp;amp; Company</td>\n",
       "      <td>http://images.amazon.com/images/P/0393045218.0...</td>\n",
       "      <td>http://images.amazon.com/images/P/0393045218.0...</td>\n",
       "      <td>http://images.amazon.com/images/P/0393045218.0...</td>\n",
       "    </tr>\n",
       "    <tr>\n",
       "      <th>...</th>\n",
       "      <td>...</td>\n",
       "      <td>...</td>\n",
       "      <td>...</td>\n",
       "      <td>...</td>\n",
       "      <td>...</td>\n",
       "      <td>...</td>\n",
       "      <td>...</td>\n",
       "      <td>...</td>\n",
       "    </tr>\n",
       "    <tr>\n",
       "      <th>271355</th>\n",
       "      <td>0440400988</td>\n",
       "      <td>There's a Bat in Bunk Five</td>\n",
       "      <td>Paula Danziger</td>\n",
       "      <td>1988</td>\n",
       "      <td>Random House Childrens Pub (Mm)</td>\n",
       "      <td>http://images.amazon.com/images/P/0440400988.0...</td>\n",
       "      <td>http://images.amazon.com/images/P/0440400988.0...</td>\n",
       "      <td>http://images.amazon.com/images/P/0440400988.0...</td>\n",
       "    </tr>\n",
       "    <tr>\n",
       "      <th>271356</th>\n",
       "      <td>0525447644</td>\n",
       "      <td>From One to One Hundred</td>\n",
       "      <td>Teri Sloat</td>\n",
       "      <td>1991</td>\n",
       "      <td>Dutton Books</td>\n",
       "      <td>http://images.amazon.com/images/P/0525447644.0...</td>\n",
       "      <td>http://images.amazon.com/images/P/0525447644.0...</td>\n",
       "      <td>http://images.amazon.com/images/P/0525447644.0...</td>\n",
       "    </tr>\n",
       "    <tr>\n",
       "      <th>271357</th>\n",
       "      <td>006008667X</td>\n",
       "      <td>Lily Dale : The True Story of the Town that Ta...</td>\n",
       "      <td>Christine Wicker</td>\n",
       "      <td>2004</td>\n",
       "      <td>HarperSanFrancisco</td>\n",
       "      <td>http://images.amazon.com/images/P/006008667X.0...</td>\n",
       "      <td>http://images.amazon.com/images/P/006008667X.0...</td>\n",
       "      <td>http://images.amazon.com/images/P/006008667X.0...</td>\n",
       "    </tr>\n",
       "    <tr>\n",
       "      <th>271358</th>\n",
       "      <td>0192126040</td>\n",
       "      <td>Republic (World's Classics)</td>\n",
       "      <td>Plato</td>\n",
       "      <td>1996</td>\n",
       "      <td>Oxford University Press</td>\n",
       "      <td>http://images.amazon.com/images/P/0192126040.0...</td>\n",
       "      <td>http://images.amazon.com/images/P/0192126040.0...</td>\n",
       "      <td>http://images.amazon.com/images/P/0192126040.0...</td>\n",
       "    </tr>\n",
       "    <tr>\n",
       "      <th>271359</th>\n",
       "      <td>0767409752</td>\n",
       "      <td>A Guided Tour of Rene Descartes' Meditations o...</td>\n",
       "      <td>Christopher  Biffle</td>\n",
       "      <td>2000</td>\n",
       "      <td>McGraw-Hill Humanities/Social Sciences/Languages</td>\n",
       "      <td>http://images.amazon.com/images/P/0767409752.0...</td>\n",
       "      <td>http://images.amazon.com/images/P/0767409752.0...</td>\n",
       "      <td>http://images.amazon.com/images/P/0767409752.0...</td>\n",
       "    </tr>\n",
       "  </tbody>\n",
       "</table>\n",
       "<p>271360 rows × 8 columns</p>\n",
       "</div>"
      ],
      "text/plain": [
       "              ISBN  ...                                        Image-URL-L\n",
       "0       0195153448  ...  http://images.amazon.com/images/P/0195153448.0...\n",
       "1       0002005018  ...  http://images.amazon.com/images/P/0002005018.0...\n",
       "2       0060973129  ...  http://images.amazon.com/images/P/0060973129.0...\n",
       "3       0374157065  ...  http://images.amazon.com/images/P/0374157065.0...\n",
       "4       0393045218  ...  http://images.amazon.com/images/P/0393045218.0...\n",
       "...            ...  ...                                                ...\n",
       "271355  0440400988  ...  http://images.amazon.com/images/P/0440400988.0...\n",
       "271356  0525447644  ...  http://images.amazon.com/images/P/0525447644.0...\n",
       "271357  006008667X  ...  http://images.amazon.com/images/P/006008667X.0...\n",
       "271358  0192126040  ...  http://images.amazon.com/images/P/0192126040.0...\n",
       "271359  0767409752  ...  http://images.amazon.com/images/P/0767409752.0...\n",
       "\n",
       "[271360 rows x 8 columns]"
      ]
     },
     "execution_count": 56,
     "metadata": {
      "tags": []
     },
     "output_type": "execute_result"
    }
   ],
   "source": [
    "book"
   ]
  },
  {
   "cell_type": "code",
   "execution_count": 0,
   "metadata": {
    "colab": {},
    "colab_type": "code",
    "id": "Gp2CIH1KZTfc"
   },
   "outputs": [],
   "source": [
    "!pip install Goodreads\n",
    "from goodreads import client\n",
    "gc = client.GoodreadsClient(\"I8RMWKdI2Mt36VkvbmhvQ\",\"yA9Jemwi5HhIeCtbqmkAQ7GDViPsTc9IFa7lBQQ5o\")"
   ]
  },
  {
   "cell_type": "code",
   "execution_count": 0,
   "metadata": {
    "colab": {},
    "colab_type": "code",
    "id": "3E6xaP-uRevR"
   },
   "outputs": [],
   "source": [
    "test = top_ranked.merge(book,on=\"Book-Title\")\n",
    "test[test[\"User-ID\"] == 243].drop_duplicates([\"Book-Title\",\"ISBN\"])\n",
    "# .drop_duplicates([\"Book-Title\"])"
   ]
  },
  {
   "cell_type": "code",
   "execution_count": 0,
   "metadata": {
    "colab": {},
    "colab_type": "code",
    "id": "y51AnmjXRas6"
   },
   "outputs": [],
   "source": [
    "top_ranked.drop_duplicates(\"Book-Title\").shape"
   ]
  },
  {
   "cell_type": "code",
   "execution_count": 0,
   "metadata": {
    "colab": {},
    "colab_type": "code",
    "id": "2ISK8lZmZoaf"
   },
   "outputs": [],
   "source": [
    "not_counted = []\n",
    "from bs4 import BeautifulSoup as bs\n",
    "def get_description(x):\n",
    "  try:\n",
    "    desc = gc.book(isbn = str(x))\n",
    "    # return (bs(desc.description).text)\n",
    "    details = {\n",
    "        \"rating_dist\" : desc.rating_dist,\n",
    "        \"reviews\" : desc.text_reviews_count,\n",
    "        \"description\": desc.description,\n",
    "        \"pages\":desc.num_pages,\n",
    "        \"popular_shelves\": set([\"fiction\",\"romance\",\"business\",\"horror\",\"biography\",\"fantasy\", \"poetry\"]).intersection(set([str(i).lower() for i  in desc.popular_shelves])),\n",
    "        \"format\":desc.format\n",
    "    }\n",
    "\n",
    "    return details\n",
    "  except Exception as e:\n",
    "    return desc\n",
    "    not_counted.append(x)\n",
    "    \n",
    "print(temp.ISBN[0])\n",
    "import json\n",
    "pd.DataFrame(get_description(\"0142001430\"))\n",
    "# print(l)\n",
    "# get_description(\"0142001430\")"
   ]
  },
  {
   "cell_type": "code",
   "execution_count": 0,
   "metadata": {
    "colab": {},
    "colab_type": "code",
    "id": "RcATtaB-ZVhY"
   },
   "outputs": [],
   "source": []
  },
  {
   "cell_type": "code",
   "execution_count": 0,
   "metadata": {
    "colab": {},
    "colab_type": "code",
    "id": "xDKooxWAcN_s"
   },
   "outputs": [],
   "source": [
    "# desc = gc.book(isbn = \"0452282152\")\n",
    "desc = gc.book(isbn = \"0452282152\")\n",
    "details = {\n",
    "    \"rating_dist\" : desc.rating_dist,\n",
    "    \"reviews\" : desc.text_reviews_count,\n",
    "    \"description\": desc.description,\n",
    "    \"pages\":desc.num_pages,\n",
    "    \"popular_shelves\": set([\"fiction\",\"romance\",\"business\",\"horror\",\"biography\",\"fantasy\", \"self help\"]).intersection(set([str(i).lower() for i  in desc.popular_shelves])),\n",
    "    \"format\":desc.format\n",
    "}"
   ]
  },
  {
   "cell_type": "code",
   "execution_count": 0,
   "metadata": {
    "colab": {},
    "colab_type": "code",
    "id": "jNkOCt8_P832"
   },
   "outputs": [],
   "source": [
    "details"
   ]
  },
  {
   "cell_type": "code",
   "execution_count": 0,
   "metadata": {
    "colab": {},
    "colab_type": "code",
    "id": "vpLzVFMos_vq"
   },
   "outputs": [],
   "source": [
    "# temp[[\"description\",\"Genres\"]] = \n",
    "def get_details(x):\n",
    "  try:\n",
    "    book = gc.book(isbn=str(x))\n",
    "  except Exception as e:\n",
    "    return False\n",
    "  try:\n",
    "    description = book.description\n",
    "  except Exception as e:\n",
    "    description = \"No Description\"\n",
    "  try:\n",
    "    genres = set([\"fiction\",\"romance\",\"business\",\"horror\",\"biography\",\"fantasy\", \"self help\"]).intersection(set([str(i).lower() for i  in book.popular_shelves]))\n",
    "  except Exception as e:  \n",
    "    genres = \"No Genre Provided\"\n",
    "  try:\n",
    "    ratings = book.rating_dist\n",
    "  except Exception as e:\n",
    "    ratings = \"No ratings Provided\"\n",
    "    \n",
    "  return [description,genres,ratings]"
   ]
  },
  {
   "cell_type": "code",
   "execution_count": 0,
   "metadata": {
    "colab": {},
    "colab_type": "code",
    "id": "AcsTCoq1uoCn"
   },
   "outputs": [],
   "source": [
    "from collections import defaultdict\n",
    "details_dict = defaultdict(list)\n",
    "\n",
    "from tqdm import tqdm\n",
    "for i in tqdm(book['ISBN'][:1000]):\n",
    "  details_dict[str(i)] = get_description(i)"
   ]
  },
  {
   "cell_type": "code",
   "execution_count": 0,
   "metadata": {
    "colab": {},
    "colab_type": "code",
    "id": "wt-1R_ghwwsO"
   },
   "outputs": [],
   "source": [
    "temp_[\"Description\"] = tmep_.apply(lambda x:)"
   ]
  },
  {
   "cell_type": "markdown",
   "metadata": {
    "colab_type": "text",
    "id": "dZp8-Uq8YJPR"
   },
   "source": [
    "Another Try"
   ]
  },
  {
   "cell_type": "code",
   "execution_count": 0,
   "metadata": {
    "colab": {},
    "colab_type": "code",
    "id": "sRD4nRezGpDH"
   },
   "outputs": [],
   "source": [
    "!wget https://raw.githubusercontent.com/MengtingWan/goodreads/master/gdrive_id.csv"
   ]
  },
  {
   "cell_type": "code",
   "execution_count": 0,
   "metadata": {
    "colab": {},
    "colab_type": "code",
    "id": "q_pUjvkYGqRT"
   },
   "outputs": [],
   "source": [
    "import pandas as pd\n",
    "\n",
    "gdrive  = pd.read_csv(\"gdrive_id.csv\")"
   ]
  },
  {
   "cell_type": "code",
   "execution_count": 0,
   "metadata": {
    "colab": {},
    "colab_type": "code",
    "id": "kwJXcU5cHESn"
   },
   "outputs": [],
   "source": [
    "!pip install gdown"
   ]
  },
  {
   "cell_type": "code",
   "execution_count": 0,
   "metadata": {
    "colab": {},
    "colab_type": "code",
    "id": "84Irmu84Gv8X"
   },
   "outputs": [],
   "source": [
    "import gdown\n",
    "from tqdm import tqdm\n",
    "def download_by_name(fid, output=None, quiet=False):\n",
    "    if fname in tqdm(file_id_map):\n",
    "        url = 'https://drive.google.com/uc?id='+file_id_map[fname]\n",
    "        gdown.download(url, output=output, quiet=quiet)\n",
    "    else:\n",
    "        print('The file', fname, 'can not be found!')"
   ]
  },
  {
   "cell_type": "markdown",
   "metadata": {
    "colab_type": "text",
    "id": "KOvI-dfE4KRP"
   },
   "source": [
    "### DATA WORK"
   ]
  },
  {
   "cell_type": "code",
   "execution_count": 0,
   "metadata": {
    "colab": {},
    "colab_type": "code",
    "id": "j-GEPCyv3m9S"
   },
   "outputs": [],
   "source": [
    "one = pd.read_csv(\"data_1.csv\")\n",
    "two = pd.read_csv(\"data_2.csv\")\n",
    "\n",
    "data = pd.concat([one,two])"
   ]
  },
  {
   "cell_type": "code",
   "execution_count": 111,
   "metadata": {
    "colab": {
     "base_uri": "https://localhost:8080/",
     "height": 138
    },
    "colab_type": "code",
    "executionInfo": {
     "elapsed": 2732,
     "status": "ok",
     "timestamp": 1581804375872,
     "user": {
      "displayName": "Prashant Arora",
      "photoUrl": "",
      "userId": "17509553824158463421"
     },
     "user_tz": -330
    },
    "id": "vvitYjFx4USH",
    "outputId": "922c8f08-e6da-43be-cf49-40b8dec09357"
   },
   "outputs": [
    {
     "name": "stderr",
     "output_type": "stream",
     "text": [
      "b'Skipping line 6452: expected 8 fields, saw 9\\nSkipping line 43667: expected 8 fields, saw 10\\nSkipping line 51751: expected 8 fields, saw 9\\n'\n",
      "b'Skipping line 92038: expected 8 fields, saw 9\\nSkipping line 104319: expected 8 fields, saw 9\\nSkipping line 121768: expected 8 fields, saw 9\\n'\n",
      "b'Skipping line 144058: expected 8 fields, saw 9\\nSkipping line 150789: expected 8 fields, saw 9\\nSkipping line 157128: expected 8 fields, saw 9\\nSkipping line 180189: expected 8 fields, saw 9\\nSkipping line 185738: expected 8 fields, saw 9\\n'\n",
      "b'Skipping line 209388: expected 8 fields, saw 9\\nSkipping line 220626: expected 8 fields, saw 9\\nSkipping line 227933: expected 8 fields, saw 11\\nSkipping line 228957: expected 8 fields, saw 10\\nSkipping line 245933: expected 8 fields, saw 9\\nSkipping line 251296: expected 8 fields, saw 9\\nSkipping line 259941: expected 8 fields, saw 9\\nSkipping line 261529: expected 8 fields, saw 9\\n'\n",
      "/usr/local/lib/python3.6/dist-packages/IPython/core/interactiveshell.py:2718: DtypeWarning: Columns (3) have mixed types. Specify dtype option on import or set low_memory=False.\n",
      "  interactivity=interactivity, compiler=compiler, result=result)\n"
     ]
    }
   ],
   "source": [
    "books_df = pd.read_csv('BX-Books.csv', sep=';', error_bad_lines=False, encoding=\"latin-1\")"
   ]
  },
  {
   "cell_type": "code",
   "execution_count": 0,
   "metadata": {
    "colab": {},
    "colab_type": "code",
    "id": "HaX5PVyL40JW"
   },
   "outputs": [],
   "source": [
    "final = books_df.merge(data).dropna()"
   ]
  },
  {
   "cell_type": "code",
   "execution_count": 120,
   "metadata": {
    "colab": {
     "base_uri": "https://localhost:8080/",
     "height": 336
    },
    "colab_type": "code",
    "executionInfo": {
     "elapsed": 1055,
     "status": "ok",
     "timestamp": 1581804639525,
     "user": {
      "displayName": "Prashant Arora",
      "photoUrl": "",
      "userId": "17509553824158463421"
     },
     "user_tz": -330
    },
    "id": "Dwr2Lxdx5zw3",
    "outputId": "48ce29c9-590f-4b8a-a81d-1e252f843b25"
   },
   "outputs": [
    {
     "name": "stdout",
     "output_type": "stream",
     "text": [
      "<class 'pandas.core.frame.DataFrame'>\n",
      "Int64Index: 21696 entries, 0 to 29998\n",
      "Data columns (total 14 columns):\n",
      "ISBN                   21696 non-null object\n",
      "Book-Title             21696 non-null object\n",
      "Book-Author            21696 non-null object\n",
      "Year-Of-Publication    21696 non-null object\n",
      "Publisher              21696 non-null object\n",
      "Image-URL-S            21696 non-null object\n",
      "Image-URL-M            21696 non-null object\n",
      "Image-URL-L            21696 non-null object\n",
      "rating_dist            21696 non-null object\n",
      "reviews                21696 non-null float64\n",
      "description            21696 non-null object\n",
      "pages                  21696 non-null float64\n",
      "popular_shelves        21696 non-null object\n",
      "format                 21696 non-null object\n",
      "dtypes: float64(2), object(12)\n",
      "memory usage: 2.5+ MB\n"
     ]
    }
   ],
   "source": [
    "final.info()"
   ]
  },
  {
   "cell_type": "code",
   "execution_count": 121,
   "metadata": {
    "colab": {
     "base_uri": "https://localhost:8080/",
     "height": 353
    },
    "colab_type": "code",
    "executionInfo": {
     "elapsed": 392036,
     "status": "ok",
     "timestamp": 1581805419234,
     "user": {
      "displayName": "Prashant Arora",
      "photoUrl": "",
      "userId": "17509553824158463421"
     },
     "user_tz": -330
    },
    "id": "DgojDPXn7NAF",
    "outputId": "3d7a545f-c2ba-478b-b4c0-63d19cc668a2"
   },
   "outputs": [
    {
     "name": "stdout",
     "output_type": "stream",
     "text": [
      "--2020-02-15 22:17:08--  http://nlp.stanford.edu/data/glove.6B.zip\n",
      "Resolving nlp.stanford.edu (nlp.stanford.edu)... 171.64.67.140\n",
      "Connecting to nlp.stanford.edu (nlp.stanford.edu)|171.64.67.140|:80... connected.\n",
      "HTTP request sent, awaiting response... 302 Found\n",
      "Location: https://nlp.stanford.edu/data/glove.6B.zip [following]\n",
      "--2020-02-15 22:17:09--  https://nlp.stanford.edu/data/glove.6B.zip\n",
      "Connecting to nlp.stanford.edu (nlp.stanford.edu)|171.64.67.140|:443... connected.\n",
      "HTTP request sent, awaiting response... 301 Moved Permanently\n",
      "Location: http://downloads.cs.stanford.edu/nlp/data/glove.6B.zip [following]\n",
      "--2020-02-15 22:17:09--  http://downloads.cs.stanford.edu/nlp/data/glove.6B.zip\n",
      "Resolving downloads.cs.stanford.edu (downloads.cs.stanford.edu)... 171.64.64.22\n",
      "Connecting to downloads.cs.stanford.edu (downloads.cs.stanford.edu)|171.64.64.22|:80... connected.\n",
      "HTTP request sent, awaiting response... 200 OK\n",
      "Length: 862182613 (822M) [application/zip]\n",
      "Saving to: ‘glove.6B.zip’\n",
      "\n",
      "glove.6B.zip        100%[===================>] 822.24M  2.02MB/s    in 6m 28s  \n",
      "\n",
      "2020-02-15 22:23:37 (2.12 MB/s) - ‘glove.6B.zip’ saved [862182613/862182613]\n",
      "\n"
     ]
    }
   ],
   "source": [
    "!wget http://nlp.stanford.edu/data/glove.6B.zip"
   ]
  },
  {
   "cell_type": "code",
   "execution_count": 122,
   "metadata": {
    "colab": {
     "base_uri": "https://localhost:8080/",
     "height": 101
    },
    "colab_type": "code",
    "executionInfo": {
     "elapsed": 25909,
     "status": "ok",
     "timestamp": 1581805445161,
     "user": {
      "displayName": "Prashant Arora",
      "photoUrl": "",
      "userId": "17509553824158463421"
     },
     "user_tz": -330
    },
    "id": "a9MqwL6x7T8W",
    "outputId": "00670df5-f447-4835-acfa-d8329c17b846"
   },
   "outputs": [
    {
     "name": "stdout",
     "output_type": "stream",
     "text": [
      "Archive:  glove.6B.zip\n",
      "  inflating: glove.6B.50d.txt        \n",
      "  inflating: glove.6B.100d.txt       \n",
      "  inflating: glove.6B.200d.txt       \n",
      "  inflating: glove.6B.300d.txt       \n"
     ]
    }
   ],
   "source": [
    "!unzip glove.6B.zip"
   ]
  },
  {
   "cell_type": "code",
   "execution_count": 0,
   "metadata": {
    "colab": {},
    "colab_type": "code",
    "id": "GKN9ZKOz7aKl"
   },
   "outputs": [],
   "source": [
    "glove = open(\"glove.6B.100d.txt\",\"r\").read().split(\"\\n\")"
   ]
  },
  {
   "cell_type": "code",
   "execution_count": 203,
   "metadata": {
    "colab": {
     "base_uri": "https://localhost:8080/",
     "height": 34
    },
    "colab_type": "code",
    "executionInfo": {
     "elapsed": 15539,
     "status": "ok",
     "timestamp": 1581807667392,
     "user": {
      "displayName": "Prashant Arora",
      "photoUrl": "",
      "userId": "17509553824158463421"
     },
     "user_tz": -330
    },
    "id": "jHOyPp_C9laB",
    "outputId": "10c09ec5-523e-41e1-89ec-3c9ae6bd2fad"
   },
   "outputs": [
    {
     "name": "stderr",
     "output_type": "stream",
     "text": [
      "100%|██████████| 400001/400001 [00:13<00:00, 29194.06it/s]\n"
     ]
    }
   ],
   "source": [
    "from collections import defaultdict\n",
    "from tqdm import tqdm\n",
    "glove_dict = defaultdict()\n",
    "for i in tqdm(glove):\n",
    "  sp = i.split(\" \")\n",
    "  key,values = sp[0],sp[1:]\n",
    "  glove_dict[key] = [float(j) for j in values]"
   ]
  },
  {
   "cell_type": "code",
   "execution_count": 204,
   "metadata": {
    "colab": {
     "base_uri": "https://localhost:8080/",
     "height": 84
    },
    "colab_type": "code",
    "executionInfo": {
     "elapsed": 1103,
     "status": "ok",
     "timestamp": 1581807668535,
     "user": {
      "displayName": "Prashant Arora",
      "photoUrl": "",
      "userId": "17509553824158463421"
     },
     "user_tz": -330
    },
    "id": "M9nDnZjz-RwH",
    "outputId": "b3f2e80d-0860-4445-ce60-0aeaf4c35ad4"
   },
   "outputs": [
    {
     "name": "stdout",
     "output_type": "stream",
     "text": [
      "[nltk_data] Downloading package punkt to /root/nltk_data...\n",
      "[nltk_data]   Package punkt is already up-to-date!\n",
      "[nltk_data] Downloading package stopwords to /root/nltk_data...\n",
      "[nltk_data]   Package stopwords is already up-to-date!\n"
     ]
    }
   ],
   "source": [
    "import nltk\n",
    "nltk.download(\"punkt\")\n",
    "nltk.download(\"stopwords\")\n",
    "from nltk.tokenize import word_tokenize\n",
    "from nltk.corpus import stopwords\n",
    "from nltk.stem import PorterStemmer\n",
    "Stopwords = stopwords.words(\"english\")\n",
    "# ps = PorterStemmer()"
   ]
  },
  {
   "cell_type": "code",
   "execution_count": 287,
   "metadata": {
    "colab": {
     "base_uri": "https://localhost:8080/",
     "height": 70
    },
    "colab_type": "code",
    "executionInfo": {
     "elapsed": 46183,
     "status": "ok",
     "timestamp": 1581816415270,
     "user": {
      "displayName": "Prashant Arora",
      "photoUrl": "",
      "userId": "17509553824158463421"
     },
     "user_tz": -330
    },
    "id": "-utRJIE0_AtY",
    "outputId": "d7650428-69d8-4d35-f669-8a919a769a2f"
   },
   "outputs": [
    {
     "name": "stderr",
     "output_type": "stream",
     "text": [
      "/usr/local/lib/python3.6/dist-packages/bs4/__init__.py:273: UserWarning: \"b'.'\" looks like a filename, not markup. You should probably open this file and pass the filehandle into Beautiful Soup.\n",
      "  ' Beautiful Soup.' % markup)\n"
     ]
    }
   ],
   "source": [
    "import re\n",
    "from bs4 import BeautifulSoup as bs\n",
    "\n",
    "def remove_discrepancies(m):\n",
    "  out = m\n",
    "  if re.search(\"[=\\'\\\"*0-9]\",m):\n",
    "    out = re.sub(\"[=\\'\\\"*0-9]\",\"\",m)\n",
    "  out = bs(out).text\n",
    "  return out\n",
    "\n",
    "\n",
    "def get_vector(x):\n",
    "  x = remove_discrepancies(x)\n",
    "  words = word_tokenize(str(x))\n",
    "  words = [i for i in words if not i in Stopwords]\n",
    "  vector =  np.zeros(100,dtype=float)\n",
    "  for i in words:\n",
    "    if i.lower() in  glove_dict and i.isalpha():\n",
    "      # print(i)\n",
    "      arr = np.array(glove_dict[i.lower()])\n",
    "      if not arr.shape[0] == 0:\n",
    "        vector = arr + vector\n",
    "  # return np.mean(vector,axis=1)\n",
    "  return vector\n",
    "\n",
    "for i in range(len(final[\"description\"])):\n",
    "  try:\n",
    "    get_vector(final[\"description\"].iloc[i])\n",
    "  except Exception as e:\n",
    "    print(i)\n",
    "    print(e)\n",
    "    break"
   ]
  },
  {
   "cell_type": "code",
   "execution_count": 0,
   "metadata": {
    "colab": {},
    "colab_type": "code",
    "id": "OFP2ajiMoL3O"
   },
   "outputs": [],
   "source": []
  }
 ],
 "metadata": {
  "accelerator": "GPU",
  "colab": {
   "authorship_tag": "ABX9TyOPczkNMZBpfFgN2kz30Fp1",
   "collapsed_sections": [],
   "machine_shape": "hm",
   "name": "recommendation_try_2.ipynb",
   "provenance": [],
   "toc_visible": true
  },
  "kernelspec": {
   "display_name": "Python 3",
   "language": "python",
   "name": "python3"
  }
 },
 "nbformat": 4,
 "nbformat_minor": 1
}
